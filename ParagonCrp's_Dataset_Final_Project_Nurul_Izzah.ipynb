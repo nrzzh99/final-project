{
  "cells": [
    {
      "cell_type": "markdown",
      "metadata": {
        "id": "Qn5w3g0hRNot"
      },
      "source": [
        "# 1 - Perkenalan"
      ]
    },
    {
      "cell_type": "markdown",
      "metadata": {
        "id": "cCgVZ3-xVLOh"
      },
      "source": [
        "Nama : Nurul Izzah\n",
        "\n",
        "Batch : 18\n",
        "\n",
        "Dataset : ParagonCorp's Dataset\n",
        "\n",
        "Objective : forecast Quantity in the next period"
      ]
    },
    {
      "cell_type": "markdown",
      "metadata": {
        "id": "faHQNUqDVRaQ"
      },
      "source": [
        "# 2 - Import Libraries"
      ]
    },
    {
      "cell_type": "code",
      "execution_count": 1,
      "metadata": {
        "id": "1uXbRoCmRLaP",
        "colab": {
          "base_uri": "https://localhost:8080/"
        },
        "outputId": "071d3fd2-6ccc-4111-a3f4-eb246d3c7b38"
      },
      "outputs": [
        {
          "output_type": "stream",
          "name": "stdout",
          "text": [
            "Looking in indexes: https://pypi.org/simple, https://us-python.pkg.dev/colab-wheels/public/simple/\n",
            "Collecting feature-engine\n",
            "  Downloading feature_engine-1.6.0-py2.py3-none-any.whl (319 kB)\n",
            "\u001b[2K     \u001b[90m━━━━━━━━━━━━━━━━━━━━━━━━━━━━━━━━━━━━━━━\u001b[0m \u001b[32m319.4/319.4 kB\u001b[0m \u001b[31m5.9 MB/s\u001b[0m eta \u001b[36m0:00:00\u001b[0m\n",
            "\u001b[?25hRequirement already satisfied: statsmodels>=0.11.1 in /usr/local/lib/python3.9/dist-packages (from feature-engine) (0.13.5)\n",
            "Requirement already satisfied: numpy>=1.18.2 in /usr/local/lib/python3.9/dist-packages (from feature-engine) (1.22.4)\n",
            "Requirement already satisfied: scipy>=1.4.1 in /usr/local/lib/python3.9/dist-packages (from feature-engine) (1.10.1)\n",
            "Requirement already satisfied: pandas>=1.0.3 in /usr/local/lib/python3.9/dist-packages (from feature-engine) (1.5.3)\n",
            "Requirement already satisfied: scikit-learn>=1.0.0 in /usr/local/lib/python3.9/dist-packages (from feature-engine) (1.2.2)\n",
            "Requirement already satisfied: pytz>=2020.1 in /usr/local/lib/python3.9/dist-packages (from pandas>=1.0.3->feature-engine) (2022.7.1)\n",
            "Requirement already satisfied: python-dateutil>=2.8.1 in /usr/local/lib/python3.9/dist-packages (from pandas>=1.0.3->feature-engine) (2.8.2)\n",
            "Requirement already satisfied: threadpoolctl>=2.0.0 in /usr/local/lib/python3.9/dist-packages (from scikit-learn>=1.0.0->feature-engine) (3.1.0)\n",
            "Requirement already satisfied: joblib>=1.1.1 in /usr/local/lib/python3.9/dist-packages (from scikit-learn>=1.0.0->feature-engine) (1.2.0)\n",
            "Requirement already satisfied: patsy>=0.5.2 in /usr/local/lib/python3.9/dist-packages (from statsmodels>=0.11.1->feature-engine) (0.5.3)\n",
            "Requirement already satisfied: packaging>=21.3 in /usr/local/lib/python3.9/dist-packages (from statsmodels>=0.11.1->feature-engine) (23.0)\n",
            "Requirement already satisfied: six in /usr/local/lib/python3.9/dist-packages (from patsy>=0.5.2->statsmodels>=0.11.1->feature-engine) (1.16.0)\n",
            "Installing collected packages: feature-engine\n",
            "Successfully installed feature-engine-1.6.0\n"
          ]
        }
      ],
      "source": [
        "#import libraries\n",
        "import pandas as pd\n",
        "import numpy as np\n",
        "import matplotlib.pyplot as plt\n",
        "import seaborn as sns\n",
        "import pylab as pl\n",
        "import tensorflow as tf\n",
        "import pickle\n",
        "import json\n",
        "import pickle\n",
        "import json\n",
        "!pip install feature-engine\n",
        "\n",
        "from sklearn.model_selection import train_test_split\n",
        "from statsmodels.tsa.seasonal import seasonal_decompose\n",
        "from sklearn.preprocessing import MinMaxScaler\n",
        "from feature_engine.outliers import Winsorizer\n",
        "from keras.models import Sequential\n",
        "from keras.models import Model\n",
        "from keras.layers import Input, Dense, LSTM, Dropout\n",
        "from keras.callbacks import EarlyStopping\n",
        "from sklearn.model_selection import GridSearchCV\n",
        "from keras.wrappers.scikit_learn import KerasRegressor\n",
        "from keras.optimizers import Adam"
      ]
    },
    {
      "cell_type": "markdown",
      "metadata": {
        "id": "ksPcepEZZEXz"
      },
      "source": [
        "# 3 - Data Loading"
      ]
    },
    {
      "cell_type": "code",
      "execution_count": 2,
      "metadata": {
        "colab": {
          "base_uri": "https://localhost:8080/",
          "height": 424
        },
        "id": "_zSbgU3DVYW4",
        "outputId": "87ab7271-3462-477e-83b6-41b32611a06c"
      },
      "outputs": [
        {
          "output_type": "execute_result",
          "data": {
            "text/plain": [
              "       week_number week_start_date week_end_date  \\\n",
              "0          2021-52      2021-12-27    2022-01-02   \n",
              "1          2021-52      2021-12-27    2022-01-02   \n",
              "2          2021-52      2021-12-27    2022-01-02   \n",
              "3          2021-52      2021-12-27    2022-01-02   \n",
              "4          2021-52      2021-12-27    2022-01-02   \n",
              "...            ...             ...           ...   \n",
              "102728     2023-14      2023-04-03    2023-04-09   \n",
              "102729     2023-14      2023-04-03    2023-04-09   \n",
              "102730     2023-14      2023-04-03    2023-04-09   \n",
              "102731     2023-14      2023-04-03    2023-04-09   \n",
              "102732     2023-14      2023-04-03    2023-04-09   \n",
              "\n",
              "                            product_item  quantity  \n",
              "0       0073377087c7ddace313ff829cd7b0b3        41  \n",
              "1       012d2bb142b2d5e57330acbfd8e9ac52       430  \n",
              "2       0192926e33d1153b63511a5b83eca843         4  \n",
              "3       019502f6d13e383caa9b9673bf1302f8       148  \n",
              "4       01e7ca6d4e21badc1d4225b6b2c7bd9e       119  \n",
              "...                                  ...       ...  \n",
              "102728  ff3890faa80ff425ae906e27bbc50bc6       907  \n",
              "102729  ff4b0f3b9c78c91510a4e3920fbc5090        81  \n",
              "102730  ff9d05a4d6f922b3ab1653f58165b8ce        16  \n",
              "102731  ffbd6f1d884056a4f622d54ae79e5a14     42920  \n",
              "102732  fff18f7c705e729746515e2053dee64b        53  \n",
              "\n",
              "[102733 rows x 5 columns]"
            ],
            "text/html": [
              "\n",
              "  <div id=\"df-bbc40602-1fd1-4c3f-9061-d4f4982d8f9f\">\n",
              "    <div class=\"colab-df-container\">\n",
              "      <div>\n",
              "<style scoped>\n",
              "    .dataframe tbody tr th:only-of-type {\n",
              "        vertical-align: middle;\n",
              "    }\n",
              "\n",
              "    .dataframe tbody tr th {\n",
              "        vertical-align: top;\n",
              "    }\n",
              "\n",
              "    .dataframe thead th {\n",
              "        text-align: right;\n",
              "    }\n",
              "</style>\n",
              "<table border=\"1\" class=\"dataframe\">\n",
              "  <thead>\n",
              "    <tr style=\"text-align: right;\">\n",
              "      <th></th>\n",
              "      <th>week_number</th>\n",
              "      <th>week_start_date</th>\n",
              "      <th>week_end_date</th>\n",
              "      <th>product_item</th>\n",
              "      <th>quantity</th>\n",
              "    </tr>\n",
              "  </thead>\n",
              "  <tbody>\n",
              "    <tr>\n",
              "      <th>0</th>\n",
              "      <td>2021-52</td>\n",
              "      <td>2021-12-27</td>\n",
              "      <td>2022-01-02</td>\n",
              "      <td>0073377087c7ddace313ff829cd7b0b3</td>\n",
              "      <td>41</td>\n",
              "    </tr>\n",
              "    <tr>\n",
              "      <th>1</th>\n",
              "      <td>2021-52</td>\n",
              "      <td>2021-12-27</td>\n",
              "      <td>2022-01-02</td>\n",
              "      <td>012d2bb142b2d5e57330acbfd8e9ac52</td>\n",
              "      <td>430</td>\n",
              "    </tr>\n",
              "    <tr>\n",
              "      <th>2</th>\n",
              "      <td>2021-52</td>\n",
              "      <td>2021-12-27</td>\n",
              "      <td>2022-01-02</td>\n",
              "      <td>0192926e33d1153b63511a5b83eca843</td>\n",
              "      <td>4</td>\n",
              "    </tr>\n",
              "    <tr>\n",
              "      <th>3</th>\n",
              "      <td>2021-52</td>\n",
              "      <td>2021-12-27</td>\n",
              "      <td>2022-01-02</td>\n",
              "      <td>019502f6d13e383caa9b9673bf1302f8</td>\n",
              "      <td>148</td>\n",
              "    </tr>\n",
              "    <tr>\n",
              "      <th>4</th>\n",
              "      <td>2021-52</td>\n",
              "      <td>2021-12-27</td>\n",
              "      <td>2022-01-02</td>\n",
              "      <td>01e7ca6d4e21badc1d4225b6b2c7bd9e</td>\n",
              "      <td>119</td>\n",
              "    </tr>\n",
              "    <tr>\n",
              "      <th>...</th>\n",
              "      <td>...</td>\n",
              "      <td>...</td>\n",
              "      <td>...</td>\n",
              "      <td>...</td>\n",
              "      <td>...</td>\n",
              "    </tr>\n",
              "    <tr>\n",
              "      <th>102728</th>\n",
              "      <td>2023-14</td>\n",
              "      <td>2023-04-03</td>\n",
              "      <td>2023-04-09</td>\n",
              "      <td>ff3890faa80ff425ae906e27bbc50bc6</td>\n",
              "      <td>907</td>\n",
              "    </tr>\n",
              "    <tr>\n",
              "      <th>102729</th>\n",
              "      <td>2023-14</td>\n",
              "      <td>2023-04-03</td>\n",
              "      <td>2023-04-09</td>\n",
              "      <td>ff4b0f3b9c78c91510a4e3920fbc5090</td>\n",
              "      <td>81</td>\n",
              "    </tr>\n",
              "    <tr>\n",
              "      <th>102730</th>\n",
              "      <td>2023-14</td>\n",
              "      <td>2023-04-03</td>\n",
              "      <td>2023-04-09</td>\n",
              "      <td>ff9d05a4d6f922b3ab1653f58165b8ce</td>\n",
              "      <td>16</td>\n",
              "    </tr>\n",
              "    <tr>\n",
              "      <th>102731</th>\n",
              "      <td>2023-14</td>\n",
              "      <td>2023-04-03</td>\n",
              "      <td>2023-04-09</td>\n",
              "      <td>ffbd6f1d884056a4f622d54ae79e5a14</td>\n",
              "      <td>42920</td>\n",
              "    </tr>\n",
              "    <tr>\n",
              "      <th>102732</th>\n",
              "      <td>2023-14</td>\n",
              "      <td>2023-04-03</td>\n",
              "      <td>2023-04-09</td>\n",
              "      <td>fff18f7c705e729746515e2053dee64b</td>\n",
              "      <td>53</td>\n",
              "    </tr>\n",
              "  </tbody>\n",
              "</table>\n",
              "<p>102733 rows × 5 columns</p>\n",
              "</div>\n",
              "      <button class=\"colab-df-convert\" onclick=\"convertToInteractive('df-bbc40602-1fd1-4c3f-9061-d4f4982d8f9f')\"\n",
              "              title=\"Convert this dataframe to an interactive table.\"\n",
              "              style=\"display:none;\">\n",
              "        \n",
              "  <svg xmlns=\"http://www.w3.org/2000/svg\" height=\"24px\"viewBox=\"0 0 24 24\"\n",
              "       width=\"24px\">\n",
              "    <path d=\"M0 0h24v24H0V0z\" fill=\"none\"/>\n",
              "    <path d=\"M18.56 5.44l.94 2.06.94-2.06 2.06-.94-2.06-.94-.94-2.06-.94 2.06-2.06.94zm-11 1L8.5 8.5l.94-2.06 2.06-.94-2.06-.94L8.5 2.5l-.94 2.06-2.06.94zm10 10l.94 2.06.94-2.06 2.06-.94-2.06-.94-.94-2.06-.94 2.06-2.06.94z\"/><path d=\"M17.41 7.96l-1.37-1.37c-.4-.4-.92-.59-1.43-.59-.52 0-1.04.2-1.43.59L10.3 9.45l-7.72 7.72c-.78.78-.78 2.05 0 2.83L4 21.41c.39.39.9.59 1.41.59.51 0 1.02-.2 1.41-.59l7.78-7.78 2.81-2.81c.8-.78.8-2.07 0-2.86zM5.41 20L4 18.59l7.72-7.72 1.47 1.35L5.41 20z\"/>\n",
              "  </svg>\n",
              "      </button>\n",
              "      \n",
              "  <style>\n",
              "    .colab-df-container {\n",
              "      display:flex;\n",
              "      flex-wrap:wrap;\n",
              "      gap: 12px;\n",
              "    }\n",
              "\n",
              "    .colab-df-convert {\n",
              "      background-color: #E8F0FE;\n",
              "      border: none;\n",
              "      border-radius: 50%;\n",
              "      cursor: pointer;\n",
              "      display: none;\n",
              "      fill: #1967D2;\n",
              "      height: 32px;\n",
              "      padding: 0 0 0 0;\n",
              "      width: 32px;\n",
              "    }\n",
              "\n",
              "    .colab-df-convert:hover {\n",
              "      background-color: #E2EBFA;\n",
              "      box-shadow: 0px 1px 2px rgba(60, 64, 67, 0.3), 0px 1px 3px 1px rgba(60, 64, 67, 0.15);\n",
              "      fill: #174EA6;\n",
              "    }\n",
              "\n",
              "    [theme=dark] .colab-df-convert {\n",
              "      background-color: #3B4455;\n",
              "      fill: #D2E3FC;\n",
              "    }\n",
              "\n",
              "    [theme=dark] .colab-df-convert:hover {\n",
              "      background-color: #434B5C;\n",
              "      box-shadow: 0px 1px 3px 1px rgba(0, 0, 0, 0.15);\n",
              "      filter: drop-shadow(0px 1px 2px rgba(0, 0, 0, 0.3));\n",
              "      fill: #FFFFFF;\n",
              "    }\n",
              "  </style>\n",
              "\n",
              "      <script>\n",
              "        const buttonEl =\n",
              "          document.querySelector('#df-bbc40602-1fd1-4c3f-9061-d4f4982d8f9f button.colab-df-convert');\n",
              "        buttonEl.style.display =\n",
              "          google.colab.kernel.accessAllowed ? 'block' : 'none';\n",
              "\n",
              "        async function convertToInteractive(key) {\n",
              "          const element = document.querySelector('#df-bbc40602-1fd1-4c3f-9061-d4f4982d8f9f');\n",
              "          const dataTable =\n",
              "            await google.colab.kernel.invokeFunction('convertToInteractive',\n",
              "                                                     [key], {});\n",
              "          if (!dataTable) return;\n",
              "\n",
              "          const docLinkHtml = 'Like what you see? Visit the ' +\n",
              "            '<a target=\"_blank\" href=https://colab.research.google.com/notebooks/data_table.ipynb>data table notebook</a>'\n",
              "            + ' to learn more about interactive tables.';\n",
              "          element.innerHTML = '';\n",
              "          dataTable['output_type'] = 'display_data';\n",
              "          await google.colab.output.renderOutput(dataTable, element);\n",
              "          const docLink = document.createElement('div');\n",
              "          docLink.innerHTML = docLinkHtml;\n",
              "          element.appendChild(docLink);\n",
              "        }\n",
              "      </script>\n",
              "    </div>\n",
              "  </div>\n",
              "  "
            ]
          },
          "metadata": {},
          "execution_count": 2
        }
      ],
      "source": [
        "#import data from github\n",
        "df = pd.read_csv ('https://raw.githubusercontent.com/ardhiraka/talent_fair_sample_challenge/main/datasets/sample_dataset_timeseries_noarea.csv')\n",
        "df"
      ]
    },
    {
      "cell_type": "code",
      "execution_count": 3,
      "metadata": {
        "id": "iJUTJB2caWYo"
      },
      "outputs": [],
      "source": [
        "# duplikat data agar tidak kehilangan data awal\n",
        "df_copy = df.copy()"
      ]
    },
    {
      "cell_type": "code",
      "execution_count": null,
      "metadata": {
        "colab": {
          "base_uri": "https://localhost:8080/"
        },
        "id": "cq7hMlrBZjlu",
        "outputId": "6e17dabc-8e82-4c1b-85c3-d6e698ffd34b"
      },
      "outputs": [
        {
          "name": "stdout",
          "output_type": "stream",
          "text": [
            "<class 'pandas.core.frame.DataFrame'>\n",
            "RangeIndex: 102733 entries, 0 to 102732\n",
            "Data columns (total 5 columns):\n",
            " #   Column           Non-Null Count   Dtype \n",
            "---  ------           --------------   ----- \n",
            " 0   week_number      102733 non-null  object\n",
            " 1   week_start_date  102733 non-null  object\n",
            " 2   week_end_date    102733 non-null  object\n",
            " 3   product_item     102731 non-null  object\n",
            " 4   quantity         102733 non-null  int64 \n",
            "dtypes: int64(1), object(4)\n",
            "memory usage: 3.9+ MB\n"
          ]
        }
      ],
      "source": [
        "# melihat tipe data\n",
        "df.info()"
      ]
    },
    {
      "cell_type": "markdown",
      "source": [
        "- Data terdiri dari 5 kolom dan 102733 baris\n",
        "\n",
        "- Kolom \"week_number\", \"week_start_date\", dan \"week_end_date\" memiliki tipe data objek, sedangkan kolom \"product_item\" memiliki tipe data objek dan mengandung 2 missing value\n",
        "- Kolom \"quantity\" memiliki tipe data integer\n",
        "- Semua data tidak memiliki missing value, hanya product_item yg memiliki missing value"
      ],
      "metadata": {
        "id": "2pkPLg7ZjPxX"
      }
    },
    {
      "cell_type": "code",
      "execution_count": null,
      "metadata": {
        "colab": {
          "base_uri": "https://localhost:8080/",
          "height": 363
        },
        "id": "DfZLsABGYLIm",
        "outputId": "1b73efbf-61ae-47ca-b1f2-5340add78453"
      },
      "outputs": [
        {
          "data": {
            "text/html": [
              "<div>\n",
              "<style scoped>\n",
              "    .dataframe tbody tr th:only-of-type {\n",
              "        vertical-align: middle;\n",
              "    }\n",
              "\n",
              "    .dataframe tbody tr th {\n",
              "        vertical-align: top;\n",
              "    }\n",
              "\n",
              "    .dataframe thead th {\n",
              "        text-align: right;\n",
              "    }\n",
              "</style>\n",
              "<table border=\"1\" class=\"dataframe\">\n",
              "  <thead>\n",
              "    <tr style=\"text-align: right;\">\n",
              "      <th></th>\n",
              "      <th>week_number</th>\n",
              "      <th>week_start_date</th>\n",
              "      <th>week_end_date</th>\n",
              "      <th>product_item</th>\n",
              "      <th>quantity</th>\n",
              "    </tr>\n",
              "  </thead>\n",
              "  <tbody>\n",
              "    <tr>\n",
              "      <th>0</th>\n",
              "      <td>2021-52</td>\n",
              "      <td>2021-12-27</td>\n",
              "      <td>2022-01-02</td>\n",
              "      <td>0073377087c7ddace313ff829cd7b0b3</td>\n",
              "      <td>41</td>\n",
              "    </tr>\n",
              "    <tr>\n",
              "      <th>1</th>\n",
              "      <td>2021-52</td>\n",
              "      <td>2021-12-27</td>\n",
              "      <td>2022-01-02</td>\n",
              "      <td>012d2bb142b2d5e57330acbfd8e9ac52</td>\n",
              "      <td>430</td>\n",
              "    </tr>\n",
              "    <tr>\n",
              "      <th>2</th>\n",
              "      <td>2021-52</td>\n",
              "      <td>2021-12-27</td>\n",
              "      <td>2022-01-02</td>\n",
              "      <td>0192926e33d1153b63511a5b83eca843</td>\n",
              "      <td>4</td>\n",
              "    </tr>\n",
              "    <tr>\n",
              "      <th>3</th>\n",
              "      <td>2021-52</td>\n",
              "      <td>2021-12-27</td>\n",
              "      <td>2022-01-02</td>\n",
              "      <td>019502f6d13e383caa9b9673bf1302f8</td>\n",
              "      <td>148</td>\n",
              "    </tr>\n",
              "    <tr>\n",
              "      <th>4</th>\n",
              "      <td>2021-52</td>\n",
              "      <td>2021-12-27</td>\n",
              "      <td>2022-01-02</td>\n",
              "      <td>01e7ca6d4e21badc1d4225b6b2c7bd9e</td>\n",
              "      <td>119</td>\n",
              "    </tr>\n",
              "    <tr>\n",
              "      <th>5</th>\n",
              "      <td>2021-52</td>\n",
              "      <td>2021-12-27</td>\n",
              "      <td>2022-01-02</td>\n",
              "      <td>01fa9977e1c61ce5542c6f0c2a1b2895</td>\n",
              "      <td>2</td>\n",
              "    </tr>\n",
              "    <tr>\n",
              "      <th>6</th>\n",
              "      <td>2021-52</td>\n",
              "      <td>2021-12-27</td>\n",
              "      <td>2022-01-02</td>\n",
              "      <td>043e6d02d98b44c40645c8a22812fe88</td>\n",
              "      <td>44</td>\n",
              "    </tr>\n",
              "    <tr>\n",
              "      <th>7</th>\n",
              "      <td>2021-52</td>\n",
              "      <td>2021-12-27</td>\n",
              "      <td>2022-01-02</td>\n",
              "      <td>0512efdcc99fa4d57c42cd2cf6c73633</td>\n",
              "      <td>165</td>\n",
              "    </tr>\n",
              "    <tr>\n",
              "      <th>8</th>\n",
              "      <td>2021-52</td>\n",
              "      <td>2021-12-27</td>\n",
              "      <td>2022-01-02</td>\n",
              "      <td>05262da388ab82c51c48c9535bc8b121</td>\n",
              "      <td>41</td>\n",
              "    </tr>\n",
              "    <tr>\n",
              "      <th>9</th>\n",
              "      <td>2021-52</td>\n",
              "      <td>2021-12-27</td>\n",
              "      <td>2022-01-02</td>\n",
              "      <td>058cc2cecb91d10e901a597e67532619</td>\n",
              "      <td>383</td>\n",
              "    </tr>\n",
              "  </tbody>\n",
              "</table>\n",
              "</div>"
            ],
            "text/plain": [
              "  week_number week_start_date week_end_date                      product_item  \\\n",
              "0     2021-52      2021-12-27    2022-01-02  0073377087c7ddace313ff829cd7b0b3   \n",
              "1     2021-52      2021-12-27    2022-01-02  012d2bb142b2d5e57330acbfd8e9ac52   \n",
              "2     2021-52      2021-12-27    2022-01-02  0192926e33d1153b63511a5b83eca843   \n",
              "3     2021-52      2021-12-27    2022-01-02  019502f6d13e383caa9b9673bf1302f8   \n",
              "4     2021-52      2021-12-27    2022-01-02  01e7ca6d4e21badc1d4225b6b2c7bd9e   \n",
              "5     2021-52      2021-12-27    2022-01-02  01fa9977e1c61ce5542c6f0c2a1b2895   \n",
              "6     2021-52      2021-12-27    2022-01-02  043e6d02d98b44c40645c8a22812fe88   \n",
              "7     2021-52      2021-12-27    2022-01-02  0512efdcc99fa4d57c42cd2cf6c73633   \n",
              "8     2021-52      2021-12-27    2022-01-02  05262da388ab82c51c48c9535bc8b121   \n",
              "9     2021-52      2021-12-27    2022-01-02  058cc2cecb91d10e901a597e67532619   \n",
              "\n",
              "   quantity  \n",
              "0        41  \n",
              "1       430  \n",
              "2         4  \n",
              "3       148  \n",
              "4       119  \n",
              "5         2  \n",
              "6        44  \n",
              "7       165  \n",
              "8        41  \n",
              "9       383  "
            ]
          },
          "execution_count": 5,
          "metadata": {},
          "output_type": "execute_result"
        }
      ],
      "source": [
        "# 10 data teratas\n",
        "df.head(10)"
      ]
    },
    {
      "cell_type": "code",
      "execution_count": null,
      "metadata": {
        "colab": {
          "base_uri": "https://localhost:8080/",
          "height": 363
        },
        "id": "aoP4BcXYYThf",
        "outputId": "f5242136-b98c-487f-aaa2-c79ebbdb6101"
      },
      "outputs": [
        {
          "data": {
            "text/html": [
              "<div>\n",
              "<style scoped>\n",
              "    .dataframe tbody tr th:only-of-type {\n",
              "        vertical-align: middle;\n",
              "    }\n",
              "\n",
              "    .dataframe tbody tr th {\n",
              "        vertical-align: top;\n",
              "    }\n",
              "\n",
              "    .dataframe thead th {\n",
              "        text-align: right;\n",
              "    }\n",
              "</style>\n",
              "<table border=\"1\" class=\"dataframe\">\n",
              "  <thead>\n",
              "    <tr style=\"text-align: right;\">\n",
              "      <th></th>\n",
              "      <th>week_number</th>\n",
              "      <th>week_start_date</th>\n",
              "      <th>week_end_date</th>\n",
              "      <th>product_item</th>\n",
              "      <th>quantity</th>\n",
              "    </tr>\n",
              "  </thead>\n",
              "  <tbody>\n",
              "    <tr>\n",
              "      <th>102723</th>\n",
              "      <td>2023-14</td>\n",
              "      <td>2023-04-03</td>\n",
              "      <td>2023-04-09</td>\n",
              "      <td>fe88080dd6a4387f1035c908d3ec26a5</td>\n",
              "      <td>4131</td>\n",
              "    </tr>\n",
              "    <tr>\n",
              "      <th>102724</th>\n",
              "      <td>2023-14</td>\n",
              "      <td>2023-04-03</td>\n",
              "      <td>2023-04-09</td>\n",
              "      <td>fe92a95f45cfe213258cd8da682cd1a3</td>\n",
              "      <td>9</td>\n",
              "    </tr>\n",
              "    <tr>\n",
              "      <th>102725</th>\n",
              "      <td>2023-14</td>\n",
              "      <td>2023-04-03</td>\n",
              "      <td>2023-04-09</td>\n",
              "      <td>fed98e52dd33638523d6028c19c3a103</td>\n",
              "      <td>21872</td>\n",
              "    </tr>\n",
              "    <tr>\n",
              "      <th>102726</th>\n",
              "      <td>2023-14</td>\n",
              "      <td>2023-04-03</td>\n",
              "      <td>2023-04-09</td>\n",
              "      <td>fef44d74d0c1e1d0d9f1c584391eeb60</td>\n",
              "      <td>75</td>\n",
              "    </tr>\n",
              "    <tr>\n",
              "      <th>102727</th>\n",
              "      <td>2023-14</td>\n",
              "      <td>2023-04-03</td>\n",
              "      <td>2023-04-09</td>\n",
              "      <td>ff24eb021c575c9a1dc709c3f8d6631a</td>\n",
              "      <td>436</td>\n",
              "    </tr>\n",
              "    <tr>\n",
              "      <th>102728</th>\n",
              "      <td>2023-14</td>\n",
              "      <td>2023-04-03</td>\n",
              "      <td>2023-04-09</td>\n",
              "      <td>ff3890faa80ff425ae906e27bbc50bc6</td>\n",
              "      <td>907</td>\n",
              "    </tr>\n",
              "    <tr>\n",
              "      <th>102729</th>\n",
              "      <td>2023-14</td>\n",
              "      <td>2023-04-03</td>\n",
              "      <td>2023-04-09</td>\n",
              "      <td>ff4b0f3b9c78c91510a4e3920fbc5090</td>\n",
              "      <td>81</td>\n",
              "    </tr>\n",
              "    <tr>\n",
              "      <th>102730</th>\n",
              "      <td>2023-14</td>\n",
              "      <td>2023-04-03</td>\n",
              "      <td>2023-04-09</td>\n",
              "      <td>ff9d05a4d6f922b3ab1653f58165b8ce</td>\n",
              "      <td>16</td>\n",
              "    </tr>\n",
              "    <tr>\n",
              "      <th>102731</th>\n",
              "      <td>2023-14</td>\n",
              "      <td>2023-04-03</td>\n",
              "      <td>2023-04-09</td>\n",
              "      <td>ffbd6f1d884056a4f622d54ae79e5a14</td>\n",
              "      <td>42920</td>\n",
              "    </tr>\n",
              "    <tr>\n",
              "      <th>102732</th>\n",
              "      <td>2023-14</td>\n",
              "      <td>2023-04-03</td>\n",
              "      <td>2023-04-09</td>\n",
              "      <td>fff18f7c705e729746515e2053dee64b</td>\n",
              "      <td>53</td>\n",
              "    </tr>\n",
              "  </tbody>\n",
              "</table>\n",
              "</div>"
            ],
            "text/plain": [
              "       week_number week_start_date week_end_date  \\\n",
              "102723     2023-14      2023-04-03    2023-04-09   \n",
              "102724     2023-14      2023-04-03    2023-04-09   \n",
              "102725     2023-14      2023-04-03    2023-04-09   \n",
              "102726     2023-14      2023-04-03    2023-04-09   \n",
              "102727     2023-14      2023-04-03    2023-04-09   \n",
              "102728     2023-14      2023-04-03    2023-04-09   \n",
              "102729     2023-14      2023-04-03    2023-04-09   \n",
              "102730     2023-14      2023-04-03    2023-04-09   \n",
              "102731     2023-14      2023-04-03    2023-04-09   \n",
              "102732     2023-14      2023-04-03    2023-04-09   \n",
              "\n",
              "                            product_item  quantity  \n",
              "102723  fe88080dd6a4387f1035c908d3ec26a5      4131  \n",
              "102724  fe92a95f45cfe213258cd8da682cd1a3         9  \n",
              "102725  fed98e52dd33638523d6028c19c3a103     21872  \n",
              "102726  fef44d74d0c1e1d0d9f1c584391eeb60        75  \n",
              "102727  ff24eb021c575c9a1dc709c3f8d6631a       436  \n",
              "102728  ff3890faa80ff425ae906e27bbc50bc6       907  \n",
              "102729  ff4b0f3b9c78c91510a4e3920fbc5090        81  \n",
              "102730  ff9d05a4d6f922b3ab1653f58165b8ce        16  \n",
              "102731  ffbd6f1d884056a4f622d54ae79e5a14     42920  \n",
              "102732  fff18f7c705e729746515e2053dee64b        53  "
            ]
          },
          "execution_count": 6,
          "metadata": {},
          "output_type": "execute_result"
        }
      ],
      "source": [
        "# 10 data terbawah\n",
        "df.tail(10)"
      ]
    },
    {
      "cell_type": "markdown",
      "metadata": {
        "id": "ZOoPrn6mZASW"
      },
      "source": [
        "# 4 - Exploratory Data Analysis (EDA)"
      ]
    },
    {
      "cell_type": "markdown",
      "metadata": {
        "id": "CkfZSVo4aFHh"
      },
      "source": [
        "> Melihat jumlah produk yang terjual dari waktu ke waktu"
      ]
    },
    {
      "cell_type": "code",
      "execution_count": 4,
      "metadata": {
        "id": "OT7GfW7xY22N"
      },
      "outputs": [],
      "source": [
        "# convert kolom week_start_date dan week_end_date\n",
        "df['week_start_date'] = pd.to_datetime(df['week_start_date'])\n",
        "df['week_end_date'] = pd.to_datetime(df['week_end_date'])"
      ]
    },
    {
      "cell_type": "code",
      "execution_count": null,
      "metadata": {
        "colab": {
          "base_uri": "https://localhost:8080/",
          "height": 285
        },
        "id": "poNd2AyFay2y",
        "outputId": "50d6fd75-c3a7-44a2-ad9d-fbfbe9a30217"
      },
      "outputs": [
        {
          "data": {
            "image/png": "[encoded data removed]",
            "text/plain": [
              "<Figure size 2000x500 with 1 Axes>"
            ]
          },
          "metadata": {},
          "output_type": "display_data"
        }
      ],
      "source": [
        "# membuat line chart total untuk melihat penjualan produk\n",
        "plt.figure(figsize=(20,5))\n",
        "plt.plot(df['week_start_date'], df['quantity'])\n",
        "plt.title('Total Product Sales Over Time')\n",
        "plt.xlabel('Week Start Date')\n",
        "plt.ylabel('Quantity Sold')\n",
        "plt.show()"
      ]
    },
    {
      "cell_type": "markdown",
      "source": [
        "pada bulan september 2022, terjadi peningkatan penjualan tertinggi dan terjadi peningkatan selanjutnya dibulan juni 2022"
      ],
      "metadata": {
        "id": "dHG-8eUnhsSo"
      }
    },
    {
      "cell_type": "code",
      "execution_count": null,
      "metadata": {
        "colab": {
          "base_uri": "https://localhost:8080/",
          "height": 285
        },
        "id": "8MSqD6hieJNV",
        "outputId": "eed278f3-3769-4642-f3bf-848456500fa7"
      },
      "outputs": [
        {
          "data": {
            "image/png": "[encoded data removed]",
            "text/plain": [
              "<Figure size 2000x500 with 1 Axes>"
            ]
          },
          "metadata": {},
          "output_type": "display_data"
        }
      ],
      "source": [
        "# 10 penjualan produk\n",
        "top_items = df.groupby('product_item')['quantity'].sum().nlargest(10).index.tolist()\n",
        "plt.figure(figsize=(20,5))\n",
        "for item in top_items:\n",
        "    item_df = df[df['product_item'] == item]\n",
        "    plt.bar(item_df['week_start_date'], item_df['quantity'], label=item)\n",
        "plt.title('Product Sales by Item (Top 10)')\n",
        "plt.xlabel('Week Start Date')\n",
        "plt.ylabel('Quantity Sold')\n",
        "plt.legend()\n",
        "plt.show()"
      ]
    },
    {
      "cell_type": "code",
      "execution_count": null,
      "metadata": {
        "colab": {
          "base_uri": "https://localhost:8080/"
        },
        "id": "yJldWuXPqlPg",
        "outputId": "4d8826b9-feae-450f-ccd0-cb5983e88a60"
      },
      "outputs": [
        {
          "name": "stdout",
          "output_type": "stream",
          "text": [
            "1. 2949ca4cfbf13969bccfbb9817f2526a: 18206376 units sold\n",
            "2. 2db7ed9bd7573aec037aac59237cb3dd: 9122007 units sold\n",
            "3. 160eb16a7369a645ec75caa3f14543d4: 6771207 units sold\n",
            "4. 229a936943f7da9feea525f1a48d1d03: 6658518 units sold\n",
            "5. 0f9d1e065ad64ecd7237084107a4bfbd: 4202082 units sold\n",
            "6. 4275094eb25dd0a337a57f466008ec43: 4096482 units sold\n",
            "7. b194ef33e06abf24820fd38922554c16: 3681026 units sold\n",
            "8. 6337f7f220187dcbfd7eb3baecd0e5b2: 3571331 units sold\n",
            "9. 3db7dc00c35c94d2725cf69d625d7d8a: 3546596 units sold\n",
            "10. ffbd6f1d884056a4f622d54ae79e5a14: 3532900 units sold\n"
          ]
        }
      ],
      "source": [
        "# jumlah total yang terjual untuk setiap item produk teratas\n",
        "top_items = df.groupby('product_item')['quantity'].sum().nlargest(10).reset_index()\n",
        "for i, row in top_items.iterrows():\n",
        "    print(f\"{i+1}. {row['product_item']}: {row['quantity']} units sold\")"
      ]
    },
    {
      "cell_type": "markdown",
      "source": [
        "- Produk dengan ID 2949ca4cfbf13969bccfbb9817f2526a memiliki jumlah penjualan terbanyak sebesar 18206376 unit.\n",
        "\n",
        "- Produk dengan ID 2db7ed9bd7573aec037aac59237cb3dd memiliki jumlah penjualan sebesar 9122007 unit, yang menempati urutan kedua.\n",
        "\n",
        "- Produk dengan ID 160eb16a7369a645ec75caa3f14543d4 memiliki jumlah penjualan sebesar 6771207 unit, yang menempati urutan ketiga."
      ],
      "metadata": {
        "id": "C6v5y3Z4if2R"
      }
    },
    {
      "cell_type": "markdown",
      "metadata": {
        "id": "vCrFqPmyrq1m"
      },
      "source": [
        "> Melihat jumlah total produk yg terjual"
      ]
    },
    {
      "cell_type": "code",
      "execution_count": null,
      "metadata": {
        "id": "zmySNzCcsBMm"
      },
      "outputs": [],
      "source": [
        "# deskriptif analyst kolom quantity\n",
        "quantity_stats = df['quantity'].describe()"
      ]
    },
    {
      "cell_type": "code",
      "execution_count": null,
      "metadata": {
        "colab": {
          "base_uri": "https://localhost:8080/"
        },
        "id": "MoD9_Jo3rRdl",
        "outputId": "637c95f3-79ca-4ef6-a37c-f907389f1b9b"
      },
      "outputs": [
        {
          "name": "stdout",
          "output_type": "stream",
          "text": [
            "Descriptive Statistics for Quantity:\n",
            "count    102733.000000\n",
            "mean       3191.562419\n",
            "std       12074.631014\n",
            "min           0.000000\n",
            "25%          75.000000\n",
            "50%         414.000000\n",
            "75%        1890.000000\n",
            "max      774732.000000\n",
            "Name: quantity, dtype: float64\n",
            "\n",
            "Total Quantity Sold: 327878782\n"
          ]
        }
      ],
      "source": [
        "#menghitung total produk terjual\n",
        "total_quantity = df['quantity'].sum()\n",
        "\n",
        "print(\"Descriptive Statistics for Quantity:\")\n",
        "print(quantity_stats)\n",
        "print(\"\\nTotal Quantity Sold:\", total_quantity)"
      ]
    },
    {
      "cell_type": "markdown",
      "source": [
        "- Terdapat 102733 transaksi yang tercatat pada data tersebut.\n",
        "\n",
        "- Rata-rata jumlah produk yang terjual per transaksi adalah 3191.56 unit, dengan standar deviasi sebesar 12074.63 unit.\n",
        "\n",
        "- Jumlah produk terjual minimal adalah 0 unit, sedangkan jumlah produk terjual maksimal mencapai 774732 unit.\n",
        "\n",
        "- Kuartil pertama (Q1) pada jumlah produk terjual adalah 75 unit, median (Q2) adalah 414 unit, dan kuartil ketiga (Q3) adalah 1890 unit.\n",
        "\n",
        "- Total jumlah produk yang terjual selama periode tersebut adalah 327878782 unit."
      ],
      "metadata": {
        "id": "ILK3wcXKi4mJ"
      }
    },
    {
      "cell_type": "markdown",
      "metadata": {
        "id": "tdLVSsb21ihF"
      },
      "source": [
        "# 5 - Feature Engineering"
      ]
    },
    {
      "cell_type": "markdown",
      "metadata": {
        "id": "WxKk-LXtxnFZ"
      },
      "source": [
        "## 5.1 - Data Cleaning"
      ]
    },
    {
      "cell_type": "code",
      "execution_count": null,
      "metadata": {
        "colab": {
          "base_uri": "https://localhost:8080/"
        },
        "id": "kiN0i5LVVQ5a",
        "outputId": "fde03cc5-896a-4940-b59d-5f9418488358"
      },
      "outputs": [
        {
          "output_type": "stream",
          "name": "stdout",
          "text": [
            "<class 'pandas.core.frame.DataFrame'>\n",
            "RangeIndex: 102733 entries, 0 to 102732\n",
            "Data columns (total 5 columns):\n",
            " #   Column           Non-Null Count   Dtype         \n",
            "---  ------           --------------   -----         \n",
            " 0   week_number      102733 non-null  object        \n",
            " 1   week_start_date  102733 non-null  datetime64[ns]\n",
            " 2   week_end_date    102733 non-null  datetime64[ns]\n",
            " 3   product_item     102731 non-null  object        \n",
            " 4   quantity         102733 non-null  int64         \n",
            "dtypes: datetime64[ns](2), int64(1), object(2)\n",
            "memory usage: 3.9+ MB\n"
          ]
        }
      ],
      "source": [
        "# cek tipe data\n",
        "df.info()"
      ]
    },
    {
      "cell_type": "code",
      "execution_count": null,
      "metadata": {
        "colab": {
          "base_uri": "https://localhost:8080/"
        },
        "id": "HLT8285vuxC5",
        "outputId": "d95b71eb-2c16-48f0-b395-5d7700485cd6"
      },
      "outputs": [
        {
          "output_type": "execute_result",
          "data": {
            "text/plain": [
              "week_number        0\n",
              "week_start_date    0\n",
              "week_end_date      0\n",
              "product_item       2\n",
              "quantity           0\n",
              "dtype: int64"
            ]
          },
          "metadata": {},
          "execution_count": 220
        }
      ],
      "source": [
        "# deteksi missing value\n",
        "df.isnull().sum()"
      ]
    },
    {
      "cell_type": "code",
      "execution_count": 5,
      "metadata": {
        "id": "QosK_mAtyMTh"
      },
      "outputs": [],
      "source": [
        "# Menghapus missing value pada kolom 'product_item'\n",
        "df.dropna(subset=['product_item'], inplace=True)"
      ]
    },
    {
      "cell_type": "code",
      "execution_count": null,
      "metadata": {
        "colab": {
          "base_uri": "https://localhost:8080/"
        },
        "id": "TQj6caJvyXYS",
        "outputId": "904b7c25-62a2-45e3-9911-2ec7c1381d6d"
      },
      "outputs": [
        {
          "data": {
            "text/plain": [
              "0"
            ]
          },
          "execution_count": 278,
          "metadata": {},
          "output_type": "execute_result"
        }
      ],
      "source": [
        "#melihat duplikasi data\n",
        "df.duplicated().sum()"
      ]
    },
    {
      "cell_type": "markdown",
      "metadata": {
        "id": "Wpu5JNpWzbxl"
      },
      "source": [
        "### 5.1.1 - Cardinality Check"
      ]
    },
    {
      "cell_type": "code",
      "execution_count": null,
      "metadata": {
        "colab": {
          "base_uri": "https://localhost:8080/"
        },
        "id": "9dP5AR_HzhaU",
        "outputId": "003b0f0d-afef-44dd-a6fa-010ab0a08923"
      },
      "outputs": [
        {
          "name": "stdout",
          "output_type": "stream",
          "text": [
            "Number of categories in the variable product_item     : 2309\n"
          ]
        }
      ],
      "source": [
        "# memeriksa cardinality\n",
        "print('Number of categories in the variable product_item     : {}'.format(len(df.product_item.unique())))"
      ]
    },
    {
      "cell_type": "code",
      "execution_count": null,
      "metadata": {
        "colab": {
          "base_uri": "https://localhost:8080/"
        },
        "id": "KHixHHD50iBX",
        "outputId": "e2d65352-8c05-4317-9121-9fe3ee061c4d"
      },
      "outputs": [
        {
          "data": {
            "text/plain": [
              "array(['0073377087c7ddace313ff829cd7b0b3',\n",
              "       '012d2bb142b2d5e57330acbfd8e9ac52',\n",
              "       '0192926e33d1153b63511a5b83eca843', ...,\n",
              "       'b86ac140782a3ec0662fc3a2b7c30590',\n",
              "       'c26bb0ce75e31e6c29aae7056c8bbce6',\n",
              "       'ff9d05a4d6f922b3ab1653f58165b8ce'], dtype=object)"
            ]
          },
          "execution_count": 19,
          "metadata": {},
          "output_type": "execute_result"
        }
      ],
      "source": [
        "#melihat nilai unik\n",
        "df.product_item.unique()"
      ]
    },
    {
      "cell_type": "code",
      "execution_count": 6,
      "metadata": {
        "colab": {
          "base_uri": "https://localhost:8080/"
        },
        "id": "XI1MvBB-0rUW",
        "outputId": "1960e2de-5df4-44da-c05b-8ac12ecffcb5"
      },
      "outputs": [
        {
          "output_type": "stream",
          "name": "stdout",
          "text": [
            "                          product_item  count\n",
            "0     0073377087c7ddace313ff829cd7b0b3     67\n",
            "1     870b3ad8c41b746b29ba31f6e4040950     67\n",
            "2     9264576b8833b892b34a39525bcdd271     67\n",
            "3     921cfbd1930eeee6b82a7b053c4ed8dc     67\n",
            "4     91f65f29b32c39788b4294cbe2be7024     67\n",
            "...                                ...    ...\n",
            "2304  d97d3a3e53124b6b1a8313403f54f6b8      1\n",
            "2305  d963020bd8d76659c6768ad252be9629      1\n",
            "2306  d4e90f2dcbcf53757d6bd1f3b6f368cb      1\n",
            "2307  170ad92bf82a3509886ceb841cd6e3c3      1\n",
            "2308  ff9d05a4d6f922b3ab1653f58165b8ce      1\n",
            "\n",
            "[2309 rows x 2 columns]\n"
          ]
        }
      ],
      "source": [
        "#mengecek cardinality dr data product_item\n",
        "cardinality = df['product_item'].value_counts().reset_index()\n",
        "cardinality.columns = ['product_item', 'count']\n",
        "print(cardinality)"
      ]
    },
    {
      "cell_type": "code",
      "execution_count": null,
      "metadata": {
        "colab": {
          "base_uri": "https://localhost:8080/"
        },
        "id": "VzJzpukB0zDb",
        "outputId": "047eff59-2126-4e51-8512-316505257c86"
      },
      "outputs": [
        {
          "name": "stdout",
          "output_type": "stream",
          "text": [
            "170\n"
          ]
        }
      ],
      "source": [
        "# Mengecek nilai 1\n",
        "low_frequency = (cardinality['count'] == 1).sum()\n",
        "print(low_frequency)"
      ]
    },
    {
      "cell_type": "code",
      "execution_count": 7,
      "metadata": {
        "id": "_qCq4wo7TQ4S"
      },
      "outputs": [],
      "source": [
        "# Mengecek unique code yang muncul hanya 1-4 kali di data\n",
        "to_drop = cardinality[cardinality['count'] == 1]['product_item'].tolist()\n",
        "df = df.drop(df[df['product_item'].isin(to_drop)].index)\n",
        "\n",
        "to_drop = cardinality[cardinality['count'] == 2]['product_item'].tolist()\n",
        "df = df.drop(df[df['product_item'].isin(to_drop)].index)\n",
        "\n",
        "to_drop = cardinality[cardinality['count'] == 3]['product_item'].tolist()\n",
        "df = df.drop(df[df['product_item'].isin(to_drop)].index)\n",
        "\n",
        "to_drop = cardinality[cardinality['count'] == 4]['product_item'].tolist()\n",
        "df = df.drop(df[df['product_item'].isin(to_drop)].index)\n",
        "\n",
        "# Mengganti unique code \n",
        "unique_codes = cardinality['product_item'].tolist()\n",
        "unique_dict = {}\n",
        "for i, code in enumerate(unique_codes):\n",
        "    unique_dict[code] = f\"product_{i+1}\"\n",
        "df['product_item'] = df['product_item'].replace(unique_dict)"
      ]
    },
    {
      "cell_type": "code",
      "execution_count": null,
      "metadata": {
        "colab": {
          "base_uri": "https://localhost:8080/"
        },
        "id": "JmFAJIubtyqZ",
        "outputId": "d082fb21-01e7-4ade-aede-b01fdf2ab1a8"
      },
      "outputs": [
        {
          "name": "stdout",
          "output_type": "stream",
          "text": [
            "      product_item  count\n",
            "0        product_1     67\n",
            "1       product_30     67\n",
            "2       product_33     67\n",
            "3       product_34     67\n",
            "4       product_35     67\n",
            "...            ...    ...\n",
            "1979  product_1967      5\n",
            "1980  product_1970      5\n",
            "1981  product_1955      5\n",
            "1982  product_1956      5\n",
            "1983  product_1975      5\n",
            "\n",
            "[1984 rows x 2 columns]\n"
          ]
        }
      ],
      "source": [
        "#mengecek cardinality dr data product_item\n",
        "cardinality = df['product_item'].value_counts().reset_index()\n",
        "cardinality.columns = ['product_item', 'count']\n",
        "print(cardinality)"
      ]
    },
    {
      "cell_type": "code",
      "execution_count": null,
      "metadata": {
        "id": "WqeDfGwxucT_"
      },
      "outputs": [],
      "source": [
        "# mendefinisikan list product_item\n",
        "product_items = df['product_item'].unique()"
      ]
    },
    {
      "cell_type": "code",
      "execution_count": null,
      "metadata": {
        "id": "PwVdGresZKoo"
      },
      "outputs": [],
      "source": [
        "# memperoleh tanggal terakhir dalam dataset\n",
        "last_date = df['week_start_date'].max()"
      ]
    },
    {
      "cell_type": "code",
      "execution_count": null,
      "metadata": {
        "id": "GMdtsYZLvK6_"
      },
      "outputs": [],
      "source": [
        "# membuat list tanggal awal dari masing-masing 4 bulan terakhir\n",
        "start_dates = pd.date_range(end=last_date, periods=4, freq='MS').strftime('%Y-%m-%d')"
      ]
    },
    {
      "cell_type": "code",
      "execution_count": null,
      "metadata": {
        "id": "Z6tRc1nVhFxT",
        "scrolled": true
      },
      "outputs": [],
      "source": [
        "# melakukan seasonal decomposition pada data untuk setiap 4 bulan terakhir per product_item\n",
        "for product_item in product_items:\n",
        "    for i in range(4):\n",
        "        start_date = start_dates[i]\n",
        "        end_date = pd.to_datetime(start_date) + pd.DateOffset(months=4) - pd.DateOffset(days=1)\n",
        "        df_4month = df[(df['product_item'] == product_item) & (df['week_start_date'] >= start_date) & (df['week_start_date'] <= end_date)]\n",
        "        n_observations = len(df_4month)\n",
        "        if n_observations < 6:\n",
        "            period = 1\n",
        "        elif n_observations < 9:\n",
        "            period = 2\n",
        "        else:\n",
        "            period = 3\n",
        "        if period == 1 and n_observations < 2:\n",
        "            continue  # skip jika jumlah pengamatan kurang dari 2\n",
        "        elif period == 2 and n_observations < 8:\n",
        "            continue  # skip jika jumlah pengamatan kurang dari 8\n",
        "        elif period == 3 and n_observations < 14:\n",
        "            continue  # skip jika jumlah pengamatan kurang dari 14\n",
        "        result_4month = seasonal_decompose(df_4month['quantity'], model='additive', period=period)\n",
        "\n",
        "        plt.figure(figsize=(12, 8))\n",
        "        plt.subplot(411)\n",
        "        plt.plot(df_4month['quantity'], label='Observed')\n",
        "        plt.legend(loc='best')\n",
        "\n",
        "        plt.subplot(412)\n",
        "        plt.plot(result_4month.trend, label='Trend')\n",
        "        plt.legend(loc='best')\n",
        "\n",
        "        plt.subplot(413)\n",
        "        plt.plot(result_4month.seasonal,label='Seasonality')\n",
        "        plt.legend(loc='best')\n",
        "\n",
        "        plt.subplot(414)\n",
        "        plt.plot(result_4month.resid, label='Residuals')\n",
        "        plt.legend(loc='best')\n",
        "\n",
        "        plt.suptitle(f\"Seasonal Decomposition for {start_date} to {end_date} ({product_item})\")\n",
        "        plt.tight_layout()\n",
        "        \n",
        "        # menyimpan grafik ke dalam file dengan nama berdasarkan product_item dan tanggal\n",
        "        plt.savefig(f\"{product_item}_{start_date}.png\")\n",
        "        \n",
        "        # menghapus grafik dari tampilan\n",
        "        plt.close()\n"
      ]
    },
    {
      "cell_type": "markdown",
      "source": [
        "pada keseluruhan grafik, terdapat perbedaan pola pada masing - masing produk"
      ],
      "metadata": {
        "id": "U4QbTqaFbxSG"
      }
    },
    {
      "cell_type": "markdown",
      "source": [
        "## 5.2 Feature Scaling"
      ],
      "metadata": {
        "id": "HRuOW0cmAA19"
      }
    },
    {
      "cell_type": "code",
      "source": [
        "# Scaling data\n",
        "scaler = MinMaxScaler()\n",
        "data_scaled = scaler.fit_transform(df['quantity'].values.reshape(-1, 1))\n",
        "\n",
        "# mengubah hasil scaling ke dataframe\n",
        "df['quantity'] = data_scaled"
      ],
      "metadata": {
        "id": "PTlyNKyk_-8V"
      },
      "execution_count": 8,
      "outputs": []
    },
    {
      "cell_type": "markdown",
      "metadata": {
        "id": "cAMO04eJOlS-"
      },
      "source": [
        "## 5.3 - Handling Outlier"
      ]
    },
    {
      "cell_type": "code",
      "execution_count": 9,
      "metadata": {
        "id": "G1gy29DiO0s3"
      },
      "outputs": [],
      "source": [
        "def diagnostic_plots(df, variable):\n",
        "    # Define figure size\n",
        "    plt.figure(figsize=(16, 4))\n",
        "\n",
        "    # Histogram\n",
        "    plt.subplot(1, 2, 1)\n",
        "    sns.histplot(df[variable], bins=30)\n",
        "    plt.title('Histogram')\n",
        "\n",
        "    # Boxplot\n",
        "    plt.subplot(1, 2, 2)\n",
        "    sns.boxplot(y=df[variable])\n",
        "    plt.title('Boxplot')\n",
        "\n",
        "    plt.show()"
      ]
    },
    {
      "cell_type": "code",
      "execution_count": null,
      "metadata": {
        "colab": {
          "base_uri": "https://localhost:8080/",
          "height": 328
        },
        "id": "pjwKz5QMO0wj",
        "outputId": "87b7b003-e8b5-4b84-bf34-7c663a76d29e"
      },
      "outputs": [
        {
          "output_type": "display_data",
          "data": {
            "text/plain": [
              "<Figure size 1600x400 with 2 Axes>"
            ],
            "image/png": "[encoded data removed]"
          },
          "metadata": {}
        },
        {
          "output_type": "stream",
          "name": "stdout",
          "text": [
            "\n",
            "Skewness Value :  16.25999357477541\n"
          ]
        }
      ],
      "source": [
        "#melihat distribusi data dan outlier kolom quantity\n",
        "diagnostic_plots(df, 'quantity')\n",
        "print('\\nSkewness Value : ', df['quantity'].skew())"
      ]
    },
    {
      "cell_type": "markdown",
      "source": [
        "dari visualisasi tersebut, dapat disimpulkan kalau datanya berdistribusi sangat skew karena berpusat disebelah kiri"
      ],
      "metadata": {
        "id": "XBqvS9y8dkjY"
      }
    },
    {
      "cell_type": "markdown",
      "metadata": {
        "id": "wReYdKxZF-ck"
      },
      "source": [
        "### 5.3.1 - Outlier detection for skewed variables"
      ]
    },
    {
      "cell_type": "code",
      "execution_count": 10,
      "metadata": {
        "id": "kdX68Dq2F-cm"
      },
      "outputs": [],
      "source": [
        "#mendeteksi nilai outlier dari distribusi tidak normal atau skew\n",
        "def find_skewed_boundaries(df, variable, distance):\n",
        "    IQR = df[variable].quantile(0.75) - df[variable].quantile(0.25)\n",
        "\n",
        "    lower_boundary = df[variable].quantile(0.25) - (IQR * distance)\n",
        "    upper_boundary = df[variable].quantile(0.75) + (IQR * distance)\n",
        "\n",
        "    return upper_boundary, lower_boundary"
      ]
    },
    {
      "cell_type": "code",
      "execution_count": 11,
      "metadata": {
        "colab": {
          "base_uri": "https://localhost:8080/"
        },
        "id": "SdJSkto5F-cp",
        "outputId": "0440f31a-2ef0-488c-8b83-3bcc6d5a1a70"
      },
      "outputs": [
        {
          "output_type": "execute_result",
          "data": {
            "text/plain": [
              "(0.009528456291982259, -0.0069701522591037925)"
            ]
          },
          "metadata": {},
          "execution_count": 11
        }
      ],
      "source": [
        "#mendeteksi outlier dari kolom quantity\n",
        "upper_boundary, lower_boundary = find_skewed_boundaries(df, 'quantity', 3)\n",
        "upper_boundary, lower_boundary"
      ]
    },
    {
      "cell_type": "code",
      "execution_count": 12,
      "metadata": {
        "colab": {
          "base_uri": "https://localhost:8080/"
        },
        "id": "wIjNy-7IF-cr",
        "outputId": "f6a437de-b44c-4e73-a1fc-2a7569795286"
      },
      "outputs": [
        {
          "output_type": "stream",
          "name": "stdout",
          "text": [
            "percentage:  8.806823746009362 %\n"
          ]
        }
      ],
      "source": [
        "outlier = df[(df['quantity'] <= lower_boundary) | (df['quantity'] >= upper_boundary)]\n",
        "\n",
        "print('percentage: ', len(outlier)/df.shape[0] * 100, '%')"
      ]
    },
    {
      "cell_type": "markdown",
      "source": [
        "karena masih terdapat outlier pada kolom quantity, maka akan digunakan winsorizer untuk menghandle outlier"
      ],
      "metadata": {
        "id": "0Edf_ltsdI7i"
      }
    },
    {
      "cell_type": "markdown",
      "metadata": {
        "id": "DpdeqfAzF-ct"
      },
      "source": [
        "### 5.3.2 - Handling Outlier for skewed variables using winsorizing"
      ]
    },
    {
      "cell_type": "markdown",
      "source": [
        "Alasan menggunakan Winsorizing adalah untuk mempertahankan informasi yang terkandung dalam dataset dan mengurangi pengaruh outliers terhadap analisis atau model"
      ],
      "metadata": {
        "id": "L2PAxTa5divG"
      }
    },
    {
      "cell_type": "code",
      "execution_count": 13,
      "metadata": {
        "id": "L3fNIHtFO0zq",
        "colab": {
          "base_uri": "https://localhost:8080/",
          "height": 206
        },
        "outputId": "55bd91dd-2718-4ea7-f546-945202cdfc85"
      },
      "outputs": [
        {
          "output_type": "execute_result",
          "data": {
            "text/plain": [
              "   quantity\n",
              "0  0.000053\n",
              "1  0.000555\n",
              "2  0.000005\n",
              "3  0.000191\n",
              "4  0.000154"
            ],
            "text/html": [
              "\n",
              "  <div id=\"df-5d8db384-0b3e-4181-9ce5-836093f962ac\">\n",
              "    <div class=\"colab-df-container\">\n",
              "      <div>\n",
              "<style scoped>\n",
              "    .dataframe tbody tr th:only-of-type {\n",
              "        vertical-align: middle;\n",
              "    }\n",
              "\n",
              "    .dataframe tbody tr th {\n",
              "        vertical-align: top;\n",
              "    }\n",
              "\n",
              "    .dataframe thead th {\n",
              "        text-align: right;\n",
              "    }\n",
              "</style>\n",
              "<table border=\"1\" class=\"dataframe\">\n",
              "  <thead>\n",
              "    <tr style=\"text-align: right;\">\n",
              "      <th></th>\n",
              "      <th>quantity</th>\n",
              "    </tr>\n",
              "  </thead>\n",
              "  <tbody>\n",
              "    <tr>\n",
              "      <th>0</th>\n",
              "      <td>0.000053</td>\n",
              "    </tr>\n",
              "    <tr>\n",
              "      <th>1</th>\n",
              "      <td>0.000555</td>\n",
              "    </tr>\n",
              "    <tr>\n",
              "      <th>2</th>\n",
              "      <td>0.000005</td>\n",
              "    </tr>\n",
              "    <tr>\n",
              "      <th>3</th>\n",
              "      <td>0.000191</td>\n",
              "    </tr>\n",
              "    <tr>\n",
              "      <th>4</th>\n",
              "      <td>0.000154</td>\n",
              "    </tr>\n",
              "  </tbody>\n",
              "</table>\n",
              "</div>\n",
              "      <button class=\"colab-df-convert\" onclick=\"convertToInteractive('df-5d8db384-0b3e-4181-9ce5-836093f962ac')\"\n",
              "              title=\"Convert this dataframe to an interactive table.\"\n",
              "              style=\"display:none;\">\n",
              "        \n",
              "  <svg xmlns=\"http://www.w3.org/2000/svg\" height=\"24px\"viewBox=\"0 0 24 24\"\n",
              "       width=\"24px\">\n",
              "    <path d=\"M0 0h24v24H0V0z\" fill=\"none\"/>\n",
              "    <path d=\"M18.56 5.44l.94 2.06.94-2.06 2.06-.94-2.06-.94-.94-2.06-.94 2.06-2.06.94zm-11 1L8.5 8.5l.94-2.06 2.06-.94-2.06-.94L8.5 2.5l-.94 2.06-2.06.94zm10 10l.94 2.06.94-2.06 2.06-.94-2.06-.94-.94-2.06-.94 2.06-2.06.94z\"/><path d=\"M17.41 7.96l-1.37-1.37c-.4-.4-.92-.59-1.43-.59-.52 0-1.04.2-1.43.59L10.3 9.45l-7.72 7.72c-.78.78-.78 2.05 0 2.83L4 21.41c.39.39.9.59 1.41.59.51 0 1.02-.2 1.41-.59l7.78-7.78 2.81-2.81c.8-.78.8-2.07 0-2.86zM5.41 20L4 18.59l7.72-7.72 1.47 1.35L5.41 20z\"/>\n",
              "  </svg>\n",
              "      </button>\n",
              "      \n",
              "  <style>\n",
              "    .colab-df-container {\n",
              "      display:flex;\n",
              "      flex-wrap:wrap;\n",
              "      gap: 12px;\n",
              "    }\n",
              "\n",
              "    .colab-df-convert {\n",
              "      background-color: #E8F0FE;\n",
              "      border: none;\n",
              "      border-radius: 50%;\n",
              "      cursor: pointer;\n",
              "      display: none;\n",
              "      fill: #1967D2;\n",
              "      height: 32px;\n",
              "      padding: 0 0 0 0;\n",
              "      width: 32px;\n",
              "    }\n",
              "\n",
              "    .colab-df-convert:hover {\n",
              "      background-color: #E2EBFA;\n",
              "      box-shadow: 0px 1px 2px rgba(60, 64, 67, 0.3), 0px 1px 3px 1px rgba(60, 64, 67, 0.15);\n",
              "      fill: #174EA6;\n",
              "    }\n",
              "\n",
              "    [theme=dark] .colab-df-convert {\n",
              "      background-color: #3B4455;\n",
              "      fill: #D2E3FC;\n",
              "    }\n",
              "\n",
              "    [theme=dark] .colab-df-convert:hover {\n",
              "      background-color: #434B5C;\n",
              "      box-shadow: 0px 1px 3px 1px rgba(0, 0, 0, 0.15);\n",
              "      filter: drop-shadow(0px 1px 2px rgba(0, 0, 0, 0.3));\n",
              "      fill: #FFFFFF;\n",
              "    }\n",
              "  </style>\n",
              "\n",
              "      <script>\n",
              "        const buttonEl =\n",
              "          document.querySelector('#df-5d8db384-0b3e-4181-9ce5-836093f962ac button.colab-df-convert');\n",
              "        buttonEl.style.display =\n",
              "          google.colab.kernel.accessAllowed ? 'block' : 'none';\n",
              "\n",
              "        async function convertToInteractive(key) {\n",
              "          const element = document.querySelector('#df-5d8db384-0b3e-4181-9ce5-836093f962ac');\n",
              "          const dataTable =\n",
              "            await google.colab.kernel.invokeFunction('convertToInteractive',\n",
              "                                                     [key], {});\n",
              "          if (!dataTable) return;\n",
              "\n",
              "          const docLinkHtml = 'Like what you see? Visit the ' +\n",
              "            '<a target=\"_blank\" href=https://colab.research.google.com/notebooks/data_table.ipynb>data table notebook</a>'\n",
              "            + ' to learn more about interactive tables.';\n",
              "          element.innerHTML = '';\n",
              "          dataTable['output_type'] = 'display_data';\n",
              "          await google.colab.output.renderOutput(dataTable, element);\n",
              "          const docLink = document.createElement('div');\n",
              "          docLink.innerHTML = docLinkHtml;\n",
              "          element.appendChild(docLink);\n",
              "        }\n",
              "      </script>\n",
              "    </div>\n",
              "  </div>\n",
              "  "
            ]
          },
          "metadata": {},
          "execution_count": 13
        }
      ],
      "source": [
        "#groupping data\n",
        "outlier_df = df[['quantity']]\n",
        "outlier_df.head()"
      ]
    },
    {
      "cell_type": "code",
      "execution_count": 14,
      "metadata": {
        "id": "rD_kVRO5O05l"
      },
      "outputs": [],
      "source": [
        "#menggunakan winsorizer\n",
        "for col in outlier_df:\n",
        "    winsoriserdf = Winsorizer(capping_method='iqr', tail='both', fold=1.5, variables=['quantity'])\n",
        "\n",
        "winsoriserdf.fit(outlier_df)\n",
        "outlierdf_df = winsoriserdf.transform(outlier_df)"
      ]
    },
    {
      "cell_type": "code",
      "execution_count": 15,
      "metadata": {
        "colab": {
          "base_uri": "https://localhost:8080/"
        },
        "id": "WzjwrP7RDdFd",
        "outputId": "be9ffd34-a63a-4b09-d712-e99ae39ea63d"
      },
      "outputs": [
        {
          "output_type": "stream",
          "name": "stdout",
          "text": [
            "Left Tail Caps  :  {'quantity': -0.0034347361410139244}\n",
            "Right Tail Caps :  {'quantity': 0.005993040173892391}\n"
          ]
        }
      ],
      "source": [
        "# Inspect the minimum caps for each variable\n",
        "print('Left Tail Caps  : ', winsoriserdf.left_tail_caps_)\n",
        "\n",
        "# Iinspect the maximum caps for each variable\n",
        "print('Right Tail Caps : ', winsoriserdf.right_tail_caps_)"
      ]
    },
    {
      "cell_type": "code",
      "execution_count": null,
      "metadata": {
        "colab": {
          "base_uri": "https://localhost:8080/",
          "height": 623
        },
        "id": "BPkqhosEF-cv",
        "outputId": "39726e22-d328-47ae-9762-3af5e93f1cef"
      },
      "outputs": [
        {
          "output_type": "stream",
          "name": "stdout",
          "text": [
            "quantity - Before Capping\n"
          ]
        },
        {
          "output_type": "display_data",
          "data": {
            "text/plain": [
              "<Figure size 1600x400 with 2 Axes>"
            ],
            "image/png": "[encoded data removed]"
          },
          "metadata": {}
        },
        {
          "output_type": "stream",
          "name": "stdout",
          "text": [
            "\n",
            " quantity - After Capping\n"
          ]
        },
        {
          "output_type": "display_data",
          "data": {
            "text/plain": [
              "<Figure size 1600x400 with 2 Axes>"
            ],
            "image/png": "[encoded data removed]"
          },
          "metadata": {}
        }
      ],
      "source": [
        "#find outliers in quantity\n",
        "print('quantity - Before Capping')\n",
        "diagnostic_plots(outlier_df, 'quantity')\n",
        "print('\\n quantity - After Capping')\n",
        "diagnostic_plots(outlierdf_df, 'quantity')"
      ]
    },
    {
      "cell_type": "markdown",
      "source": [
        "setelah di winsorizer terlihat sudah tidak ada lagi outlier dalam kolom quantity"
      ],
      "metadata": {
        "id": "HtV8LbKMc-Gf"
      }
    },
    {
      "cell_type": "code",
      "execution_count": 16,
      "metadata": {
        "id": "Xj-CGMPtF-cv",
        "scrolled": true
      },
      "outputs": [],
      "source": [
        "# fit transform ke data train\n",
        "df = winsoriserdf.fit_transform(df)"
      ]
    },
    {
      "cell_type": "markdown",
      "source": [
        "## 5.4 Split data"
      ],
      "metadata": {
        "id": "O7SL5wtyeOpp"
      }
    },
    {
      "cell_type": "code",
      "source": [
        "# Menghapus 'product_' dari setiap nilai dalam kolom product_item\n",
        "df['product_item'] = df['product_item'].str.replace('product_', '') \n",
        "df['product_item'] = df['product_item'].astype(int)"
      ],
      "metadata": {
        "id": "g4roeM6s5t7c"
      },
      "execution_count": 17,
      "outputs": []
    },
    {
      "cell_type": "code",
      "source": [
        "# Group data by week and product item\n",
        "df_grouped = df.groupby(['week_start_date', 'week_end_date', 'product_item']).agg({'quantity': 'sum'}).reset_index()"
      ],
      "metadata": {
        "id": "B9-XilsPA1dG"
      },
      "execution_count": 18,
      "outputs": []
    },
    {
      "cell_type": "code",
      "source": [
        "# Extract week number from week_start_date column\n",
        "df_grouped['week_number'] = df_grouped['week_start_date'].dt.week"
      ],
      "metadata": {
        "id": "v2K8ZKCeBAo1",
        "colab": {
          "base_uri": "https://localhost:8080/"
        },
        "outputId": "6e237465-46db-4ee5-9959-e768eb1fcddb"
      },
      "execution_count": 19,
      "outputs": [
        {
          "output_type": "stream",
          "name": "stderr",
          "text": [
            "<ipython-input-19-0a10a7da649c>:2: FutureWarning: Series.dt.weekofyear and Series.dt.week have been deprecated. Please use Series.dt.isocalendar().week instead.\n",
            "  df_grouped['week_number'] = df_grouped['week_start_date'].dt.week\n"
          ]
        }
      ]
    },
    {
      "cell_type": "code",
      "source": [
        "# Convert week_number column to integer\n",
        "df_grouped['week_number'] = df_grouped['week_number'].astype(int)"
      ],
      "metadata": {
        "id": "v7leki8uBD_t"
      },
      "execution_count": 20,
      "outputs": []
    },
    {
      "cell_type": "code",
      "source": [
        "# Split data into train, validation, and test sets\n",
        "train_data, validation_data = train_test_split(df_grouped, test_size=0.2, shuffle=False)\n",
        "validation_data, test_data = train_test_split(validation_data, test_size=0.2, shuffle=False)\n"
      ],
      "metadata": {
        "id": "ZNdsvu4sBHOP"
      },
      "execution_count": 21,
      "outputs": []
    },
    {
      "cell_type": "code",
      "source": [
        "# Define input and output variables for LSTM\n",
        "X_train = train_data[['week_number', 'product_item', 'quantity']].values\n",
        "y_train = train_data['quantity'].values\n",
        "\n",
        "X_val = validation_data[['week_number', 'product_item', 'quantity']].values\n",
        "y_val = validation_data['quantity'].values\n",
        "\n",
        "X_test = test_data[['week_number', 'product_item', 'quantity']].values\n",
        "y_test = test_data['quantity'].values"
      ],
      "metadata": {
        "id": "Q5eu-QfXBJl2"
      },
      "execution_count": 22,
      "outputs": []
    },
    {
      "cell_type": "code",
      "source": [
        "# Define window size\n",
        "window_size = 7\n",
        "\n",
        "# Define function to create input windows\n",
        "def create_input_windows(X, y, window_size):\n",
        "    X_windowed = []\n",
        "    y_windowed = []\n",
        "    for i in range(window_size, len(X)):\n",
        "        X_windowed.append(X[i-window_size:i])\n",
        "        y_windowed.append(y[i-window_size:i+1])\n",
        "    return np.array(X_windowed), np.array(y_windowed)"
      ],
      "metadata": {
        "id": "D2rJNevVljTE"
      },
      "execution_count": 23,
      "outputs": []
    },
    {
      "cell_type": "code",
      "source": [
        "# Create input windows for train, validation, and test sets\n",
        "X_train_windowed, y_train_windowed = create_input_windows(X_train, y_train, window_size=7)\n",
        "X_val_windowed, y_val_windowed = create_input_windows(X_val, y_val, window_size=7)\n",
        "X_test_windowed, y_test_windowed = create_input_windows(X_test, y_test, window_size=7)"
      ],
      "metadata": {
        "id": "QyRs_96gvVRn"
      },
      "execution_count": 24,
      "outputs": []
    },
    {
      "cell_type": "code",
      "source": [
        "# Change input shape to (window_size, jumlah_fitur) \n",
        "X_train_windowed = X_train_windowed.reshape(X_train_windowed.shape[0], window_size, X_train_windowed.shape[2])\n",
        "X_val_windowed = X_val_windowed.reshape(X_val_windowed.shape[0], window_size, X_val_windowed.shape[2])\n",
        "X_test_windowed = X_test_windowed.reshape(X_test_windowed.shape[0], window_size, X_test_windowed.shape[2])"
      ],
      "metadata": {
        "id": "7nwY9sEONe3q"
      },
      "execution_count": 25,
      "outputs": []
    },
    {
      "cell_type": "markdown",
      "metadata": {
        "id": "RzrHvuI4F-cz"
      },
      "source": [
        "# 6 - Model Definiton"
      ]
    },
    {
      "cell_type": "markdown",
      "source": [
        "- menggunakan model Neural Network LSTM karena karena dapat menyimpan informasi pada setiap waktu sebelumnya dengan menggunakan \"cell state\" yang memungkinkan informasi lama dipertahankan dan dipakai pada waktu yang akan datang dan juga dapat mengatasi permasalahan yang muncul pada data time series seperti efek musiman, tren, dan anomali\n",
        "\n",
        "- menggunakan earlystop pada saat model improvement bertujuan untuk mencegah overfitting dan dan meningkatkan kemampuan model untuk melakukan generalisasi pada data uji juga bisa mengurangi waktu komputasi karena menghentikan pelatihan pada saat performa pada data validasi sudah tidak meningkat lagi\n",
        "\n",
        "- menggunakan hyperparmeter tuning untuk mencari kombinasi hyperparameter yang paling baik\n",
        "\n"
      ],
      "metadata": {
        "id": "cdRTZKItbHDp"
      }
    },
    {
      "cell_type": "markdown",
      "metadata": {
        "id": "UaNqKcW3F-c0"
      },
      "source": [
        "# 7 - Model Training"
      ]
    },
    {
      "cell_type": "markdown",
      "source": [
        "## 7.1 Sequential API"
      ],
      "metadata": {
        "id": "8IgoaYy13mQd"
      }
    },
    {
      "cell_type": "code",
      "execution_count": null,
      "metadata": {
        "colab": {
          "base_uri": "https://localhost:8080/"
        },
        "id": "CxrjJey3F-c1",
        "outputId": "6d525d1d-980b-4d30-b4d4-9dcd4bc85785"
      },
      "outputs": [
        {
          "output_type": "stream",
          "name": "stdout",
          "text": [
            "Model: \"sequential\"\n",
            "_________________________________________________________________\n",
            " Layer (type)                Output Shape              Param #   \n",
            "=================================================================\n",
            " lstm (LSTM)                 (None, 50)                10800     \n",
            "                                                                 \n",
            " dense (Dense)               (None, 1)                 51        \n",
            "                                                                 \n",
            "=================================================================\n",
            "Total params: 10,851\n",
            "Trainable params: 10,851\n",
            "Non-trainable params: 0\n",
            "_________________________________________________________________\n"
          ]
        }
      ],
      "source": [
        "# Create the LSTM model\n",
        "model_seq = Sequential()\n",
        "model_seq.add(LSTM(50, input_shape=(window_size, X_train_windowed.shape[2])))\n",
        "model_seq.add(Dense(1))\n",
        "\n",
        "# Compile the model\n",
        "model_seq.compile(optimizer='adam', loss='mse')\n",
        "model_seq.summary()\n"
      ]
    },
    {
      "cell_type": "code",
      "execution_count": null,
      "metadata": {
        "id": "fwFaPgJJ1-v4",
        "colab": {
          "base_uri": "https://localhost:8080/"
        },
        "outputId": "22c6359f-f9d3-4c6c-8590-60964a34191b"
      },
      "outputs": [
        {
          "output_type": "stream",
          "name": "stdout",
          "text": [
            "Epoch 1/50\n",
            "2553/2553 [==============================] - 21s 5ms/step - loss: 4.4292e-04 - val_loss: 1.4304e-05\n",
            "Epoch 2/50\n",
            "2553/2553 [==============================] - 12s 5ms/step - loss: 2.5132e-05 - val_loss: 7.0531e-06\n",
            "Epoch 3/50\n",
            "2553/2553 [==============================] - 15s 6ms/step - loss: 1.6892e-05 - val_loss: 1.4451e-05\n",
            "Epoch 4/50\n",
            "2553/2553 [==============================] - 12s 5ms/step - loss: 1.8609e-05 - val_loss: 2.0503e-05\n",
            "Epoch 5/50\n",
            "2553/2553 [==============================] - 12s 5ms/step - loss: 1.0083e-05 - val_loss: 4.5194e-06\n",
            "Epoch 6/50\n",
            "2553/2553 [==============================] - 12s 5ms/step - loss: 1.0533e-05 - val_loss: 4.7116e-06\n",
            "Epoch 7/50\n",
            "2553/2553 [==============================] - 12s 5ms/step - loss: 9.1902e-06 - val_loss: 5.3491e-06\n",
            "Epoch 8/50\n",
            "2553/2553 [==============================] - 12s 5ms/step - loss: 7.8655e-06 - val_loss: 5.8410e-06\n",
            "Epoch 9/50\n",
            "2553/2553 [==============================] - 12s 5ms/step - loss: 5.8899e-06 - val_loss: 3.5530e-06\n",
            "Epoch 10/50\n",
            "2553/2553 [==============================] - 12s 5ms/step - loss: 6.9319e-06 - val_loss: 4.2027e-06\n",
            "Epoch 11/50\n",
            "2553/2553 [==============================] - 12s 5ms/step - loss: 5.3171e-06 - val_loss: 3.7272e-06\n",
            "Epoch 12/50\n",
            "2553/2553 [==============================] - 12s 5ms/step - loss: 4.4973e-06 - val_loss: 3.9405e-06\n",
            "Epoch 13/50\n",
            "2553/2553 [==============================] - 12s 5ms/step - loss: 4.2213e-06 - val_loss: 3.9875e-06\n",
            "Epoch 14/50\n",
            "2553/2553 [==============================] - 12s 5ms/step - loss: 3.9090e-06 - val_loss: 4.6085e-06\n",
            "Epoch 15/50\n",
            "2553/2553 [==============================] - 12s 5ms/step - loss: 3.8539e-06 - val_loss: 3.5242e-06\n",
            "Epoch 16/50\n",
            "2553/2553 [==============================] - 12s 5ms/step - loss: 3.8691e-06 - val_loss: 7.0342e-06\n",
            "Epoch 17/50\n",
            "2553/2553 [==============================] - 12s 5ms/step - loss: 3.7435e-06 - val_loss: 3.3982e-06\n",
            "Epoch 18/50\n",
            "2553/2553 [==============================] - 12s 5ms/step - loss: 3.8064e-06 - val_loss: 4.3676e-06\n",
            "Epoch 19/50\n",
            "2553/2553 [==============================] - 13s 5ms/step - loss: 3.7507e-06 - val_loss: 6.9294e-06\n",
            "Epoch 20/50\n",
            "2553/2553 [==============================] - 13s 5ms/step - loss: 3.7740e-06 - val_loss: 3.4407e-06\n",
            "Epoch 21/50\n",
            "2553/2553 [==============================] - 14s 5ms/step - loss: 3.8182e-06 - val_loss: 3.6153e-06\n",
            "Epoch 22/50\n",
            "2553/2553 [==============================] - 13s 5ms/step - loss: 3.7720e-06 - val_loss: 3.5570e-06\n",
            "Epoch 23/50\n",
            "2553/2553 [==============================] - 13s 5ms/step - loss: 3.6897e-06 - val_loss: 4.0066e-06\n",
            "Epoch 24/50\n",
            "2553/2553 [==============================] - 13s 5ms/step - loss: 3.7395e-06 - val_loss: 3.9615e-06\n",
            "Epoch 25/50\n",
            "2553/2553 [==============================] - 12s 5ms/step - loss: 3.7738e-06 - val_loss: 3.3483e-06\n",
            "Epoch 26/50\n",
            "2553/2553 [==============================] - 13s 5ms/step - loss: 3.7364e-06 - val_loss: 3.4351e-06\n",
            "Epoch 27/50\n",
            "2553/2553 [==============================] - 12s 5ms/step - loss: 3.6961e-06 - val_loss: 3.9091e-06\n",
            "Epoch 28/50\n",
            "2553/2553 [==============================] - 12s 5ms/step - loss: 3.7683e-06 - val_loss: 3.3340e-06\n",
            "Epoch 29/50\n",
            "2553/2553 [==============================] - 13s 5ms/step - loss: 3.6724e-06 - val_loss: 4.3534e-06\n",
            "Epoch 30/50\n",
            "2553/2553 [==============================] - 13s 5ms/step - loss: 3.7246e-06 - val_loss: 4.1341e-06\n",
            "Epoch 31/50\n",
            "2553/2553 [==============================] - 12s 5ms/step - loss: 3.6816e-06 - val_loss: 3.9927e-06\n",
            "Epoch 32/50\n",
            "2553/2553 [==============================] - 12s 5ms/step - loss: 3.7413e-06 - val_loss: 3.5669e-06\n",
            "Epoch 33/50\n",
            "2553/2553 [==============================] - 13s 5ms/step - loss: 3.7304e-06 - val_loss: 3.3517e-06\n",
            "Epoch 34/50\n",
            "2553/2553 [==============================] - 13s 5ms/step - loss: 3.7051e-06 - val_loss: 3.4354e-06\n",
            "Epoch 35/50\n",
            "2553/2553 [==============================] - 13s 5ms/step - loss: 3.7347e-06 - val_loss: 3.6216e-06\n",
            "Epoch 36/50\n",
            "2553/2553 [==============================] - 12s 5ms/step - loss: 3.7021e-06 - val_loss: 3.5148e-06\n",
            "Epoch 37/50\n",
            "2553/2553 [==============================] - 12s 5ms/step - loss: 3.7241e-06 - val_loss: 3.3114e-06\n",
            "Epoch 38/50\n",
            "2553/2553 [==============================] - 12s 5ms/step - loss: 3.6993e-06 - val_loss: 3.9289e-06\n",
            "Epoch 39/50\n",
            "2553/2553 [==============================] - 12s 5ms/step - loss: 3.7234e-06 - val_loss: 3.4986e-06\n",
            "Epoch 40/50\n",
            "2553/2553 [==============================] - 12s 5ms/step - loss: 3.6943e-06 - val_loss: 4.8833e-06\n",
            "Epoch 41/50\n",
            "2553/2553 [==============================] - 13s 5ms/step - loss: 3.7217e-06 - val_loss: 4.2302e-06\n",
            "Epoch 42/50\n",
            "2553/2553 [==============================] - 12s 5ms/step - loss: 3.6790e-06 - val_loss: 3.3564e-06\n",
            "Epoch 43/50\n",
            "2553/2553 [==============================] - 12s 5ms/step - loss: 3.7141e-06 - val_loss: 3.8650e-06\n",
            "Epoch 44/50\n",
            "2553/2553 [==============================] - 12s 5ms/step - loss: 3.6801e-06 - val_loss: 3.4308e-06\n",
            "Epoch 45/50\n",
            "2553/2553 [==============================] - 12s 5ms/step - loss: 3.6789e-06 - val_loss: 3.7795e-06\n",
            "Epoch 46/50\n",
            "2553/2553 [==============================] - 13s 5ms/step - loss: 3.6892e-06 - val_loss: 3.4804e-06\n",
            "Epoch 47/50\n",
            "2553/2553 [==============================] - 13s 5ms/step - loss: 3.7281e-06 - val_loss: 4.0982e-06\n",
            "Epoch 48/50\n",
            "2553/2553 [==============================] - 12s 5ms/step - loss: 3.6477e-06 - val_loss: 3.4465e-06\n",
            "Epoch 49/50\n",
            "2553/2553 [==============================] - 13s 5ms/step - loss: 3.6657e-06 - val_loss: 3.9003e-06\n",
            "Epoch 50/50\n",
            "2553/2553 [==============================] - 13s 5ms/step - loss: 3.6702e-06 - val_loss: 5.0939e-06\n"
          ]
        }
      ],
      "source": [
        "# Train the model\n",
        "history_seq = model_seq.fit(X_train_windowed, y_train_windowed, validation_data=(X_val_windowed, y_val_windowed), epochs=50, batch_size=32)"
      ]
    },
    {
      "cell_type": "markdown",
      "source": [
        "## 7.2 Functional API"
      ],
      "metadata": {
        "id": "7RX3I09s2e7w"
      }
    },
    {
      "cell_type": "code",
      "source": [
        "# Create functional model\n",
        "inputs = Input(shape=(window_size, X_train_windowed.shape[2]))\n",
        "lstm1 = LSTM(50, activation='relu')(inputs)\n",
        "output = Dense(1)(lstm1)\n",
        "model_func = Model(inputs=inputs, outputs=output)\n",
        "model_func.compile(optimizer='adam', loss='mse')\n",
        "model_func.summary()"
      ],
      "metadata": {
        "id": "e6mYmrgD2f12",
        "colab": {
          "base_uri": "https://localhost:8080/"
        },
        "outputId": "82020e30-9eca-4ad0-8a77-ce10e9ef732d"
      },
      "execution_count": null,
      "outputs": [
        {
          "output_type": "stream",
          "name": "stderr",
          "text": [
            "WARNING:tensorflow:Layer lstm_7 will not use cuDNN kernels since it doesn't meet the criteria. It will use a generic GPU kernel as fallback when running on GPU.\n"
          ]
        },
        {
          "output_type": "stream",
          "name": "stdout",
          "text": [
            "Model: \"model_1\"\n",
            "_________________________________________________________________\n",
            " Layer (type)                Output Shape              Param #   \n",
            "=================================================================\n",
            " input_3 (InputLayer)        [(None, 7, 3)]            0         \n",
            "                                                                 \n",
            " lstm_7 (LSTM)               (None, 50)                10800     \n",
            "                                                                 \n",
            " dense_6 (Dense)             (None, 1)                 51        \n",
            "                                                                 \n",
            "=================================================================\n",
            "Total params: 10,851\n",
            "Trainable params: 10,851\n",
            "Non-trainable params: 0\n",
            "_________________________________________________________________\n"
          ]
        }
      ]
    },
    {
      "cell_type": "code",
      "source": [
        "# Train the model\n",
        "history_func = model_func.fit(X_train_windowed, y_train_windowed, epochs=50, batch_size=32, validation_data=(X_val_windowed, y_val_windowed))"
      ],
      "metadata": {
        "id": "84MLncs93Lrr",
        "colab": {
          "base_uri": "https://localhost:8080/"
        },
        "outputId": "77ea4545-86c0-436c-b8f2-576df13894ce"
      },
      "execution_count": null,
      "outputs": [
        {
          "output_type": "stream",
          "name": "stdout",
          "text": [
            "Epoch 1/50\n",
            "2553/2553 [==============================] - 58s 22ms/step - loss: 18.0033 - val_loss: 0.1502\n",
            "Epoch 2/50\n",
            "2553/2553 [==============================] - 41s 16ms/step - loss: 0.0468 - val_loss: 0.0114\n",
            "Epoch 3/50\n",
            "2553/2553 [==============================] - 52s 21ms/step - loss: 0.2097 - val_loss: 0.0038\n",
            "Epoch 4/50\n",
            "2553/2553 [==============================] - 49s 19ms/step - loss: 0.0185 - val_loss: 0.0379\n",
            "Epoch 5/50\n",
            "2553/2553 [==============================] - 42s 17ms/step - loss: 0.0760 - val_loss: 0.0162\n",
            "Epoch 6/50\n",
            "2553/2553 [==============================] - 43s 17ms/step - loss: 0.0109 - val_loss: 5.8830e-04\n",
            "Epoch 7/50\n",
            "2553/2553 [==============================] - 56s 22ms/step - loss: 0.0104 - val_loss: 0.0043\n",
            "Epoch 8/50\n",
            "2553/2553 [==============================] - 43s 17ms/step - loss: 0.0045 - val_loss: 0.0102\n",
            "Epoch 9/50\n",
            "2553/2553 [==============================] - 55s 22ms/step - loss: 0.0032 - val_loss: 6.8067e-05\n",
            "Epoch 10/50\n",
            "2553/2553 [==============================] - 40s 16ms/step - loss: 0.0047 - val_loss: 6.3269e-04\n",
            "Epoch 11/50\n",
            "2553/2553 [==============================] - 43s 17ms/step - loss: 0.0014 - val_loss: 1.2215e-04\n",
            "Epoch 12/50\n",
            "2553/2553 [==============================] - 42s 16ms/step - loss: 0.0094 - val_loss: 0.0011\n",
            "Epoch 13/50\n",
            "2553/2553 [==============================] - 40s 15ms/step - loss: 6.7532e-04 - val_loss: 0.0039\n",
            "Epoch 14/50\n",
            "2553/2553 [==============================] - 42s 16ms/step - loss: 6.9010e-04 - val_loss: 0.0027\n",
            "Epoch 15/50\n",
            "2553/2553 [==============================] - 40s 16ms/step - loss: 5.9417e-04 - val_loss: 4.9362e-05\n",
            "Epoch 16/50\n",
            "2553/2553 [==============================] - 39s 15ms/step - loss: 7.0942e-04 - val_loss: 1.3476e-05\n",
            "Epoch 17/50\n",
            "2553/2553 [==============================] - 40s 16ms/step - loss: 0.0203 - val_loss: 9.9867e-05\n",
            "Epoch 18/50\n",
            "2553/2553 [==============================] - 41s 16ms/step - loss: 9.2989e-06 - val_loss: 3.9699e-06\n",
            "Epoch 19/50\n",
            "2553/2553 [==============================] - 41s 16ms/step - loss: 3.5838e-06 - val_loss: 3.5315e-06\n",
            "Epoch 20/50\n",
            "2553/2553 [==============================] - 47s 19ms/step - loss: 3.3008e-06 - val_loss: 3.3583e-06\n",
            "Epoch 21/50\n",
            "2553/2553 [==============================] - 44s 17ms/step - loss: 3.2994e-06 - val_loss: 3.3324e-06\n",
            "Epoch 22/50\n",
            "2553/2553 [==============================] - 43s 17ms/step - loss: 3.3067e-06 - val_loss: 3.4559e-06\n",
            "Epoch 23/50\n",
            "2553/2553 [==============================] - 41s 16ms/step - loss: 3.3177e-06 - val_loss: 3.3634e-06\n",
            "Epoch 24/50\n",
            "2553/2553 [==============================] - 45s 18ms/step - loss: 3.3228e-06 - val_loss: 3.3984e-06\n",
            "Epoch 25/50\n",
            "2553/2553 [==============================] - 47s 18ms/step - loss: 3.3214e-06 - val_loss: 3.4582e-06\n",
            "Epoch 26/50\n",
            "2553/2553 [==============================] - 45s 18ms/step - loss: 3.3213e-06 - val_loss: 3.4123e-06\n",
            "Epoch 27/50\n",
            "2553/2553 [==============================] - 40s 16ms/step - loss: 3.3222e-06 - val_loss: 3.3827e-06\n",
            "Epoch 28/50\n",
            "2553/2553 [==============================] - 40s 16ms/step - loss: 3.3209e-06 - val_loss: 3.3409e-06\n",
            "Epoch 29/50\n",
            "2553/2553 [==============================] - 40s 16ms/step - loss: 3.3154e-06 - val_loss: 3.4383e-06\n",
            "Epoch 30/50\n",
            "2553/2553 [==============================] - 39s 15ms/step - loss: 3.3177e-06 - val_loss: 3.3297e-06\n",
            "Epoch 31/50\n",
            "2553/2553 [==============================] - 41s 16ms/step - loss: 3.3205e-06 - val_loss: 3.5936e-06\n",
            "Epoch 32/50\n",
            "2553/2553 [==============================] - 41s 16ms/step - loss: 3.3155e-06 - val_loss: 3.3162e-06\n",
            "Epoch 33/50\n",
            "2553/2553 [==============================] - 41s 16ms/step - loss: 3.3098e-06 - val_loss: 3.3634e-06\n",
            "Epoch 34/50\n",
            "2553/2553 [==============================] - 41s 16ms/step - loss: 3.3122e-06 - val_loss: 3.3990e-06\n",
            "Epoch 35/50\n",
            "2553/2553 [==============================] - 39s 15ms/step - loss: 3.3184e-06 - val_loss: 3.3461e-06\n",
            "Epoch 36/50\n",
            "2553/2553 [==============================] - 41s 16ms/step - loss: 3.3045e-06 - val_loss: 3.3212e-06\n",
            "Epoch 37/50\n",
            "2553/2553 [==============================] - 39s 15ms/step - loss: 3.3048e-06 - val_loss: 3.3135e-06\n",
            "Epoch 38/50\n",
            "2553/2553 [==============================] - 41s 16ms/step - loss: 3.3088e-06 - val_loss: 3.3191e-06\n",
            "Epoch 39/50\n",
            "2553/2553 [==============================] - 40s 16ms/step - loss: 3.3102e-06 - val_loss: 3.3226e-06\n",
            "Epoch 40/50\n",
            "2553/2553 [==============================] - 41s 16ms/step - loss: 3.3070e-06 - val_loss: 3.3368e-06\n",
            "Epoch 41/50\n",
            "2553/2553 [==============================] - 41s 16ms/step - loss: 3.3000e-06 - val_loss: 3.3518e-06\n",
            "Epoch 42/50\n",
            "2553/2553 [==============================] - 39s 15ms/step - loss: 3.3114e-06 - val_loss: 3.3305e-06\n",
            "Epoch 43/50\n",
            "2553/2553 [==============================] - 41s 16ms/step - loss: 3.3101e-06 - val_loss: 3.3439e-06\n",
            "Epoch 44/50\n",
            "2553/2553 [==============================] - 40s 16ms/step - loss: 3.2975e-06 - val_loss: 3.3266e-06\n",
            "Epoch 45/50\n",
            "2553/2553 [==============================] - 41s 16ms/step - loss: 3.2960e-06 - val_loss: 3.3551e-06\n",
            "Epoch 46/50\n",
            "2553/2553 [==============================] - 41s 16ms/step - loss: 3.3069e-06 - val_loss: 3.3681e-06\n",
            "Epoch 47/50\n",
            "2553/2553 [==============================] - 41s 16ms/step - loss: 3.2991e-06 - val_loss: 3.3007e-06\n",
            "Epoch 48/50\n",
            "2553/2553 [==============================] - 40s 16ms/step - loss: 3.2966e-06 - val_loss: 3.4070e-06\n",
            "Epoch 49/50\n",
            "2553/2553 [==============================] - 42s 16ms/step - loss: 3.2985e-06 - val_loss: 3.3446e-06\n",
            "Epoch 50/50\n",
            "2553/2553 [==============================] - 42s 16ms/step - loss: 3.3093e-06 - val_loss: 3.3027e-06\n"
          ]
        }
      ]
    },
    {
      "cell_type": "markdown",
      "source": [
        "# 8 - Model Evaluation"
      ],
      "metadata": {
        "id": "-UYunycy402Q"
      }
    },
    {
      "cell_type": "markdown",
      "source": [
        "## 8.1 - Sequential API"
      ],
      "metadata": {
        "id": "OnazE40H9RoM"
      }
    },
    {
      "cell_type": "code",
      "source": [
        "# Create DataFrame\n",
        "history_seq_df = pd.DataFrame(history_seq.history)\n",
        "history_seq_df"
      ],
      "metadata": {
        "id": "4KE9zcUfAp7G",
        "colab": {
          "base_uri": "https://localhost:8080/",
          "height": 1000
        },
        "outputId": "dbf01608-ecd7-4baa-d76e-43cab9bbf2a0"
      },
      "execution_count": null,
      "outputs": [
        {
          "output_type": "execute_result",
          "data": {
            "text/plain": [
              "        loss  val_loss\n",
              "0   0.000443  0.000014\n",
              "1   0.000025  0.000007\n",
              "2   0.000017  0.000014\n",
              "3   0.000019  0.000021\n",
              "4   0.000010  0.000005\n",
              "5   0.000011  0.000005\n",
              "6   0.000009  0.000005\n",
              "7   0.000008  0.000006\n",
              "8   0.000006  0.000004\n",
              "9   0.000007  0.000004\n",
              "10  0.000005  0.000004\n",
              "11  0.000004  0.000004\n",
              "12  0.000004  0.000004\n",
              "13  0.000004  0.000005\n",
              "14  0.000004  0.000004\n",
              "15  0.000004  0.000007\n",
              "16  0.000004  0.000003\n",
              "17  0.000004  0.000004\n",
              "18  0.000004  0.000007\n",
              "19  0.000004  0.000003\n",
              "20  0.000004  0.000004\n",
              "21  0.000004  0.000004\n",
              "22  0.000004  0.000004\n",
              "23  0.000004  0.000004\n",
              "24  0.000004  0.000003\n",
              "25  0.000004  0.000003\n",
              "26  0.000004  0.000004\n",
              "27  0.000004  0.000003\n",
              "28  0.000004  0.000004\n",
              "29  0.000004  0.000004\n",
              "30  0.000004  0.000004\n",
              "31  0.000004  0.000004\n",
              "32  0.000004  0.000003\n",
              "33  0.000004  0.000003\n",
              "34  0.000004  0.000004\n",
              "35  0.000004  0.000004\n",
              "36  0.000004  0.000003\n",
              "37  0.000004  0.000004\n",
              "38  0.000004  0.000003\n",
              "39  0.000004  0.000005\n",
              "40  0.000004  0.000004\n",
              "41  0.000004  0.000003\n",
              "42  0.000004  0.000004\n",
              "43  0.000004  0.000003\n",
              "44  0.000004  0.000004\n",
              "45  0.000004  0.000003\n",
              "46  0.000004  0.000004\n",
              "47  0.000004  0.000003\n",
              "48  0.000004  0.000004\n",
              "49  0.000004  0.000005"
            ],
            "text/html": [
              "\n",
              "  <div id=\"df-6e3e73e2-68d9-4b5f-bad6-ade9436b468c\">\n",
              "    <div class=\"colab-df-container\">\n",
              "      <div>\n",
              "<style scoped>\n",
              "    .dataframe tbody tr th:only-of-type {\n",
              "        vertical-align: middle;\n",
              "    }\n",
              "\n",
              "    .dataframe tbody tr th {\n",
              "        vertical-align: top;\n",
              "    }\n",
              "\n",
              "    .dataframe thead th {\n",
              "        text-align: right;\n",
              "    }\n",
              "</style>\n",
              "<table border=\"1\" class=\"dataframe\">\n",
              "  <thead>\n",
              "    <tr style=\"text-align: right;\">\n",
              "      <th></th>\n",
              "      <th>loss</th>\n",
              "      <th>val_loss</th>\n",
              "    </tr>\n",
              "  </thead>\n",
              "  <tbody>\n",
              "    <tr>\n",
              "      <th>0</th>\n",
              "      <td>0.000443</td>\n",
              "      <td>0.000014</td>\n",
              "    </tr>\n",
              "    <tr>\n",
              "      <th>1</th>\n",
              "      <td>0.000025</td>\n",
              "      <td>0.000007</td>\n",
              "    </tr>\n",
              "    <tr>\n",
              "      <th>2</th>\n",
              "      <td>0.000017</td>\n",
              "      <td>0.000014</td>\n",
              "    </tr>\n",
              "    <tr>\n",
              "      <th>3</th>\n",
              "      <td>0.000019</td>\n",
              "      <td>0.000021</td>\n",
              "    </tr>\n",
              "    <tr>\n",
              "      <th>4</th>\n",
              "      <td>0.000010</td>\n",
              "      <td>0.000005</td>\n",
              "    </tr>\n",
              "    <tr>\n",
              "      <th>5</th>\n",
              "      <td>0.000011</td>\n",
              "      <td>0.000005</td>\n",
              "    </tr>\n",
              "    <tr>\n",
              "      <th>6</th>\n",
              "      <td>0.000009</td>\n",
              "      <td>0.000005</td>\n",
              "    </tr>\n",
              "    <tr>\n",
              "      <th>7</th>\n",
              "      <td>0.000008</td>\n",
              "      <td>0.000006</td>\n",
              "    </tr>\n",
              "    <tr>\n",
              "      <th>8</th>\n",
              "      <td>0.000006</td>\n",
              "      <td>0.000004</td>\n",
              "    </tr>\n",
              "    <tr>\n",
              "      <th>9</th>\n",
              "      <td>0.000007</td>\n",
              "      <td>0.000004</td>\n",
              "    </tr>\n",
              "    <tr>\n",
              "      <th>10</th>\n",
              "      <td>0.000005</td>\n",
              "      <td>0.000004</td>\n",
              "    </tr>\n",
              "    <tr>\n",
              "      <th>11</th>\n",
              "      <td>0.000004</td>\n",
              "      <td>0.000004</td>\n",
              "    </tr>\n",
              "    <tr>\n",
              "      <th>12</th>\n",
              "      <td>0.000004</td>\n",
              "      <td>0.000004</td>\n",
              "    </tr>\n",
              "    <tr>\n",
              "      <th>13</th>\n",
              "      <td>0.000004</td>\n",
              "      <td>0.000005</td>\n",
              "    </tr>\n",
              "    <tr>\n",
              "      <th>14</th>\n",
              "      <td>0.000004</td>\n",
              "      <td>0.000004</td>\n",
              "    </tr>\n",
              "    <tr>\n",
              "      <th>15</th>\n",
              "      <td>0.000004</td>\n",
              "      <td>0.000007</td>\n",
              "    </tr>\n",
              "    <tr>\n",
              "      <th>16</th>\n",
              "      <td>0.000004</td>\n",
              "      <td>0.000003</td>\n",
              "    </tr>\n",
              "    <tr>\n",
              "      <th>17</th>\n",
              "      <td>0.000004</td>\n",
              "      <td>0.000004</td>\n",
              "    </tr>\n",
              "    <tr>\n",
              "      <th>18</th>\n",
              "      <td>0.000004</td>\n",
              "      <td>0.000007</td>\n",
              "    </tr>\n",
              "    <tr>\n",
              "      <th>19</th>\n",
              "      <td>0.000004</td>\n",
              "      <td>0.000003</td>\n",
              "    </tr>\n",
              "    <tr>\n",
              "      <th>20</th>\n",
              "      <td>0.000004</td>\n",
              "      <td>0.000004</td>\n",
              "    </tr>\n",
              "    <tr>\n",
              "      <th>21</th>\n",
              "      <td>0.000004</td>\n",
              "      <td>0.000004</td>\n",
              "    </tr>\n",
              "    <tr>\n",
              "      <th>22</th>\n",
              "      <td>0.000004</td>\n",
              "      <td>0.000004</td>\n",
              "    </tr>\n",
              "    <tr>\n",
              "      <th>23</th>\n",
              "      <td>0.000004</td>\n",
              "      <td>0.000004</td>\n",
              "    </tr>\n",
              "    <tr>\n",
              "      <th>24</th>\n",
              "      <td>0.000004</td>\n",
              "      <td>0.000003</td>\n",
              "    </tr>\n",
              "    <tr>\n",
              "      <th>25</th>\n",
              "      <td>0.000004</td>\n",
              "      <td>0.000003</td>\n",
              "    </tr>\n",
              "    <tr>\n",
              "      <th>26</th>\n",
              "      <td>0.000004</td>\n",
              "      <td>0.000004</td>\n",
              "    </tr>\n",
              "    <tr>\n",
              "      <th>27</th>\n",
              "      <td>0.000004</td>\n",
              "      <td>0.000003</td>\n",
              "    </tr>\n",
              "    <tr>\n",
              "      <th>28</th>\n",
              "      <td>0.000004</td>\n",
              "      <td>0.000004</td>\n",
              "    </tr>\n",
              "    <tr>\n",
              "      <th>29</th>\n",
              "      <td>0.000004</td>\n",
              "      <td>0.000004</td>\n",
              "    </tr>\n",
              "    <tr>\n",
              "      <th>30</th>\n",
              "      <td>0.000004</td>\n",
              "      <td>0.000004</td>\n",
              "    </tr>\n",
              "    <tr>\n",
              "      <th>31</th>\n",
              "      <td>0.000004</td>\n",
              "      <td>0.000004</td>\n",
              "    </tr>\n",
              "    <tr>\n",
              "      <th>32</th>\n",
              "      <td>0.000004</td>\n",
              "      <td>0.000003</td>\n",
              "    </tr>\n",
              "    <tr>\n",
              "      <th>33</th>\n",
              "      <td>0.000004</td>\n",
              "      <td>0.000003</td>\n",
              "    </tr>\n",
              "    <tr>\n",
              "      <th>34</th>\n",
              "      <td>0.000004</td>\n",
              "      <td>0.000004</td>\n",
              "    </tr>\n",
              "    <tr>\n",
              "      <th>35</th>\n",
              "      <td>0.000004</td>\n",
              "      <td>0.000004</td>\n",
              "    </tr>\n",
              "    <tr>\n",
              "      <th>36</th>\n",
              "      <td>0.000004</td>\n",
              "      <td>0.000003</td>\n",
              "    </tr>\n",
              "    <tr>\n",
              "      <th>37</th>\n",
              "      <td>0.000004</td>\n",
              "      <td>0.000004</td>\n",
              "    </tr>\n",
              "    <tr>\n",
              "      <th>38</th>\n",
              "      <td>0.000004</td>\n",
              "      <td>0.000003</td>\n",
              "    </tr>\n",
              "    <tr>\n",
              "      <th>39</th>\n",
              "      <td>0.000004</td>\n",
              "      <td>0.000005</td>\n",
              "    </tr>\n",
              "    <tr>\n",
              "      <th>40</th>\n",
              "      <td>0.000004</td>\n",
              "      <td>0.000004</td>\n",
              "    </tr>\n",
              "    <tr>\n",
              "      <th>41</th>\n",
              "      <td>0.000004</td>\n",
              "      <td>0.000003</td>\n",
              "    </tr>\n",
              "    <tr>\n",
              "      <th>42</th>\n",
              "      <td>0.000004</td>\n",
              "      <td>0.000004</td>\n",
              "    </tr>\n",
              "    <tr>\n",
              "      <th>43</th>\n",
              "      <td>0.000004</td>\n",
              "      <td>0.000003</td>\n",
              "    </tr>\n",
              "    <tr>\n",
              "      <th>44</th>\n",
              "      <td>0.000004</td>\n",
              "      <td>0.000004</td>\n",
              "    </tr>\n",
              "    <tr>\n",
              "      <th>45</th>\n",
              "      <td>0.000004</td>\n",
              "      <td>0.000003</td>\n",
              "    </tr>\n",
              "    <tr>\n",
              "      <th>46</th>\n",
              "      <td>0.000004</td>\n",
              "      <td>0.000004</td>\n",
              "    </tr>\n",
              "    <tr>\n",
              "      <th>47</th>\n",
              "      <td>0.000004</td>\n",
              "      <td>0.000003</td>\n",
              "    </tr>\n",
              "    <tr>\n",
              "      <th>48</th>\n",
              "      <td>0.000004</td>\n",
              "      <td>0.000004</td>\n",
              "    </tr>\n",
              "    <tr>\n",
              "      <th>49</th>\n",
              "      <td>0.000004</td>\n",
              "      <td>0.000005</td>\n",
              "    </tr>\n",
              "  </tbody>\n",
              "</table>\n",
              "</div>\n",
              "      <button class=\"colab-df-convert\" onclick=\"convertToInteractive('df-6e3e73e2-68d9-4b5f-bad6-ade9436b468c')\"\n",
              "              title=\"Convert this dataframe to an interactive table.\"\n",
              "              style=\"display:none;\">\n",
              "        \n",
              "  <svg xmlns=\"http://www.w3.org/2000/svg\" height=\"24px\"viewBox=\"0 0 24 24\"\n",
              "       width=\"24px\">\n",
              "    <path d=\"M0 0h24v24H0V0z\" fill=\"none\"/>\n",
              "    <path d=\"M18.56 5.44l.94 2.06.94-2.06 2.06-.94-2.06-.94-.94-2.06-.94 2.06-2.06.94zm-11 1L8.5 8.5l.94-2.06 2.06-.94-2.06-.94L8.5 2.5l-.94 2.06-2.06.94zm10 10l.94 2.06.94-2.06 2.06-.94-2.06-.94-.94-2.06-.94 2.06-2.06.94z\"/><path d=\"M17.41 7.96l-1.37-1.37c-.4-.4-.92-.59-1.43-.59-.52 0-1.04.2-1.43.59L10.3 9.45l-7.72 7.72c-.78.78-.78 2.05 0 2.83L4 21.41c.39.39.9.59 1.41.59.51 0 1.02-.2 1.41-.59l7.78-7.78 2.81-2.81c.8-.78.8-2.07 0-2.86zM5.41 20L4 18.59l7.72-7.72 1.47 1.35L5.41 20z\"/>\n",
              "  </svg>\n",
              "      </button>\n",
              "      \n",
              "  <style>\n",
              "    .colab-df-container {\n",
              "      display:flex;\n",
              "      flex-wrap:wrap;\n",
              "      gap: 12px;\n",
              "    }\n",
              "\n",
              "    .colab-df-convert {\n",
              "      background-color: #E8F0FE;\n",
              "      border: none;\n",
              "      border-radius: 50%;\n",
              "      cursor: pointer;\n",
              "      display: none;\n",
              "      fill: #1967D2;\n",
              "      height: 32px;\n",
              "      padding: 0 0 0 0;\n",
              "      width: 32px;\n",
              "    }\n",
              "\n",
              "    .colab-df-convert:hover {\n",
              "      background-color: #E2EBFA;\n",
              "      box-shadow: 0px 1px 2px rgba(60, 64, 67, 0.3), 0px 1px 3px 1px rgba(60, 64, 67, 0.15);\n",
              "      fill: #174EA6;\n",
              "    }\n",
              "\n",
              "    [theme=dark] .colab-df-convert {\n",
              "      background-color: #3B4455;\n",
              "      fill: #D2E3FC;\n",
              "    }\n",
              "\n",
              "    [theme=dark] .colab-df-convert:hover {\n",
              "      background-color: #434B5C;\n",
              "      box-shadow: 0px 1px 3px 1px rgba(0, 0, 0, 0.15);\n",
              "      filter: drop-shadow(0px 1px 2px rgba(0, 0, 0, 0.3));\n",
              "      fill: #FFFFFF;\n",
              "    }\n",
              "  </style>\n",
              "\n",
              "      <script>\n",
              "        const buttonEl =\n",
              "          document.querySelector('#df-6e3e73e2-68d9-4b5f-bad6-ade9436b468c button.colab-df-convert');\n",
              "        buttonEl.style.display =\n",
              "          google.colab.kernel.accessAllowed ? 'block' : 'none';\n",
              "\n",
              "        async function convertToInteractive(key) {\n",
              "          const element = document.querySelector('#df-6e3e73e2-68d9-4b5f-bad6-ade9436b468c');\n",
              "          const dataTable =\n",
              "            await google.colab.kernel.invokeFunction('convertToInteractive',\n",
              "                                                     [key], {});\n",
              "          if (!dataTable) return;\n",
              "\n",
              "          const docLinkHtml = 'Like what you see? Visit the ' +\n",
              "            '<a target=\"_blank\" href=https://colab.research.google.com/notebooks/data_table.ipynb>data table notebook</a>'\n",
              "            + ' to learn more about interactive tables.';\n",
              "          element.innerHTML = '';\n",
              "          dataTable['output_type'] = 'display_data';\n",
              "          await google.colab.output.renderOutput(dataTable, element);\n",
              "          const docLink = document.createElement('div');\n",
              "          docLink.innerHTML = docLinkHtml;\n",
              "          element.appendChild(docLink);\n",
              "        }\n",
              "      </script>\n",
              "    </div>\n",
              "  </div>\n",
              "  "
            ]
          },
          "metadata": {},
          "execution_count": 28
        }
      ]
    },
    {
      "cell_type": "code",
      "source": [
        "# Plot Training Results\n",
        "history_seq_df[['loss', 'val_loss']].plot()"
      ],
      "metadata": {
        "id": "CJcrlZgKArvA",
        "colab": {
          "base_uri": "https://localhost:8080/",
          "height": 447
        },
        "outputId": "da77cc48-b6b8-46fe-cc19-e7638fc3bb24"
      },
      "execution_count": null,
      "outputs": [
        {
          "output_type": "execute_result",
          "data": {
            "text/plain": [
              "<Axes: >"
            ]
          },
          "metadata": {},
          "execution_count": 29
        },
        {
          "output_type": "display_data",
          "data": {
            "text/plain": [
              "<Figure size 640x480 with 1 Axes>"
            ],
            "image/png": "[encoded data removed]"
          },
          "metadata": {}
        }
      ]
    },
    {
      "cell_type": "code",
      "source": [
        "# Evaluasi model pada data test\n",
        "test_loss = model_seq.evaluate(X_test_windowed, y_test_windowed)\n",
        "print('Test loss (MSE):', test_loss)"
      ],
      "metadata": {
        "id": "1Jt40o2h9c9i",
        "colab": {
          "base_uri": "https://localhost:8080/"
        },
        "outputId": "b717ae76-284d-402e-f352-c6a33492f0a3"
      },
      "execution_count": null,
      "outputs": [
        {
          "output_type": "stream",
          "name": "stdout",
          "text": [
            "128/128 [==============================] - 0s 2ms/step - loss: 5.1002e-06\n",
            "Test loss (MSE): 5.100244379718788e-06\n"
          ]
        }
      ]
    },
    {
      "cell_type": "markdown",
      "source": [
        "nilai score MSEnya bisa dikategorikan kecil yaitu 5.100 tetapi kalau dilihat dari grafiknya, terlihat garis cenderung monoton"
      ],
      "metadata": {
        "id": "otSIuQtRa-zC"
      }
    },
    {
      "cell_type": "markdown",
      "source": [
        "## 8.2 - Functional API"
      ],
      "metadata": {
        "id": "IgP3d0SIADN7"
      }
    },
    {
      "cell_type": "code",
      "source": [
        "# Create DataFrame\n",
        "history_func_df = pd.DataFrame(history_func.history)\n",
        "history_func_df"
      ],
      "metadata": {
        "id": "93ivXXb4_SKF",
        "colab": {
          "base_uri": "https://localhost:8080/",
          "height": 1000
        },
        "outputId": "28fec4a9-c9db-4f5a-a2cb-ac45e6a1b6ea"
      },
      "execution_count": null,
      "outputs": [
        {
          "output_type": "execute_result",
          "data": {
            "text/plain": [
              "         loss  val_loss\n",
              "0   18.003317  0.150178\n",
              "1    0.046829  0.011411\n",
              "2    0.209740  0.003843\n",
              "3    0.018495  0.037946\n",
              "4    0.076025  0.016235\n",
              "5    0.010941  0.000588\n",
              "6    0.010437  0.004340\n",
              "7    0.004516  0.010239\n",
              "8    0.003174  0.000068\n",
              "9    0.004710  0.000633\n",
              "10   0.001446  0.000122\n",
              "11   0.009376  0.001119\n",
              "12   0.000675  0.003947\n",
              "13   0.000690  0.002729\n",
              "14   0.000594  0.000049\n",
              "15   0.000709  0.000013\n",
              "16   0.020265  0.000100\n",
              "17   0.000009  0.000004\n",
              "18   0.000004  0.000004\n",
              "19   0.000003  0.000003\n",
              "20   0.000003  0.000003\n",
              "21   0.000003  0.000003\n",
              "22   0.000003  0.000003\n",
              "23   0.000003  0.000003\n",
              "24   0.000003  0.000003\n",
              "25   0.000003  0.000003\n",
              "26   0.000003  0.000003\n",
              "27   0.000003  0.000003\n",
              "28   0.000003  0.000003\n",
              "29   0.000003  0.000003\n",
              "30   0.000003  0.000004\n",
              "31   0.000003  0.000003\n",
              "32   0.000003  0.000003\n",
              "33   0.000003  0.000003\n",
              "34   0.000003  0.000003\n",
              "35   0.000003  0.000003\n",
              "36   0.000003  0.000003\n",
              "37   0.000003  0.000003\n",
              "38   0.000003  0.000003\n",
              "39   0.000003  0.000003\n",
              "40   0.000003  0.000003\n",
              "41   0.000003  0.000003\n",
              "42   0.000003  0.000003\n",
              "43   0.000003  0.000003\n",
              "44   0.000003  0.000003\n",
              "45   0.000003  0.000003\n",
              "46   0.000003  0.000003\n",
              "47   0.000003  0.000003\n",
              "48   0.000003  0.000003\n",
              "49   0.000003  0.000003"
            ],
            "text/html": [
              "\n",
              "  <div id=\"df-a97668d1-8e47-4faa-aba6-b3f5ac4c2905\">\n",
              "    <div class=\"colab-df-container\">\n",
              "      <div>\n",
              "<style scoped>\n",
              "    .dataframe tbody tr th:only-of-type {\n",
              "        vertical-align: middle;\n",
              "    }\n",
              "\n",
              "    .dataframe tbody tr th {\n",
              "        vertical-align: top;\n",
              "    }\n",
              "\n",
              "    .dataframe thead th {\n",
              "        text-align: right;\n",
              "    }\n",
              "</style>\n",
              "<table border=\"1\" class=\"dataframe\">\n",
              "  <thead>\n",
              "    <tr style=\"text-align: right;\">\n",
              "      <th></th>\n",
              "      <th>loss</th>\n",
              "      <th>val_loss</th>\n",
              "    </tr>\n",
              "  </thead>\n",
              "  <tbody>\n",
              "    <tr>\n",
              "      <th>0</th>\n",
              "      <td>18.003317</td>\n",
              "      <td>0.150178</td>\n",
              "    </tr>\n",
              "    <tr>\n",
              "      <th>1</th>\n",
              "      <td>0.046829</td>\n",
              "      <td>0.011411</td>\n",
              "    </tr>\n",
              "    <tr>\n",
              "      <th>2</th>\n",
              "      <td>0.209740</td>\n",
              "      <td>0.003843</td>\n",
              "    </tr>\n",
              "    <tr>\n",
              "      <th>3</th>\n",
              "      <td>0.018495</td>\n",
              "      <td>0.037946</td>\n",
              "    </tr>\n",
              "    <tr>\n",
              "      <th>4</th>\n",
              "      <td>0.076025</td>\n",
              "      <td>0.016235</td>\n",
              "    </tr>\n",
              "    <tr>\n",
              "      <th>5</th>\n",
              "      <td>0.010941</td>\n",
              "      <td>0.000588</td>\n",
              "    </tr>\n",
              "    <tr>\n",
              "      <th>6</th>\n",
              "      <td>0.010437</td>\n",
              "      <td>0.004340</td>\n",
              "    </tr>\n",
              "    <tr>\n",
              "      <th>7</th>\n",
              "      <td>0.004516</td>\n",
              "      <td>0.010239</td>\n",
              "    </tr>\n",
              "    <tr>\n",
              "      <th>8</th>\n",
              "      <td>0.003174</td>\n",
              "      <td>0.000068</td>\n",
              "    </tr>\n",
              "    <tr>\n",
              "      <th>9</th>\n",
              "      <td>0.004710</td>\n",
              "      <td>0.000633</td>\n",
              "    </tr>\n",
              "    <tr>\n",
              "      <th>10</th>\n",
              "      <td>0.001446</td>\n",
              "      <td>0.000122</td>\n",
              "    </tr>\n",
              "    <tr>\n",
              "      <th>11</th>\n",
              "      <td>0.009376</td>\n",
              "      <td>0.001119</td>\n",
              "    </tr>\n",
              "    <tr>\n",
              "      <th>12</th>\n",
              "      <td>0.000675</td>\n",
              "      <td>0.003947</td>\n",
              "    </tr>\n",
              "    <tr>\n",
              "      <th>13</th>\n",
              "      <td>0.000690</td>\n",
              "      <td>0.002729</td>\n",
              "    </tr>\n",
              "    <tr>\n",
              "      <th>14</th>\n",
              "      <td>0.000594</td>\n",
              "      <td>0.000049</td>\n",
              "    </tr>\n",
              "    <tr>\n",
              "      <th>15</th>\n",
              "      <td>0.000709</td>\n",
              "      <td>0.000013</td>\n",
              "    </tr>\n",
              "    <tr>\n",
              "      <th>16</th>\n",
              "      <td>0.020265</td>\n",
              "      <td>0.000100</td>\n",
              "    </tr>\n",
              "    <tr>\n",
              "      <th>17</th>\n",
              "      <td>0.000009</td>\n",
              "      <td>0.000004</td>\n",
              "    </tr>\n",
              "    <tr>\n",
              "      <th>18</th>\n",
              "      <td>0.000004</td>\n",
              "      <td>0.000004</td>\n",
              "    </tr>\n",
              "    <tr>\n",
              "      <th>19</th>\n",
              "      <td>0.000003</td>\n",
              "      <td>0.000003</td>\n",
              "    </tr>\n",
              "    <tr>\n",
              "      <th>20</th>\n",
              "      <td>0.000003</td>\n",
              "      <td>0.000003</td>\n",
              "    </tr>\n",
              "    <tr>\n",
              "      <th>21</th>\n",
              "      <td>0.000003</td>\n",
              "      <td>0.000003</td>\n",
              "    </tr>\n",
              "    <tr>\n",
              "      <th>22</th>\n",
              "      <td>0.000003</td>\n",
              "      <td>0.000003</td>\n",
              "    </tr>\n",
              "    <tr>\n",
              "      <th>23</th>\n",
              "      <td>0.000003</td>\n",
              "      <td>0.000003</td>\n",
              "    </tr>\n",
              "    <tr>\n",
              "      <th>24</th>\n",
              "      <td>0.000003</td>\n",
              "      <td>0.000003</td>\n",
              "    </tr>\n",
              "    <tr>\n",
              "      <th>25</th>\n",
              "      <td>0.000003</td>\n",
              "      <td>0.000003</td>\n",
              "    </tr>\n",
              "    <tr>\n",
              "      <th>26</th>\n",
              "      <td>0.000003</td>\n",
              "      <td>0.000003</td>\n",
              "    </tr>\n",
              "    <tr>\n",
              "      <th>27</th>\n",
              "      <td>0.000003</td>\n",
              "      <td>0.000003</td>\n",
              "    </tr>\n",
              "    <tr>\n",
              "      <th>28</th>\n",
              "      <td>0.000003</td>\n",
              "      <td>0.000003</td>\n",
              "    </tr>\n",
              "    <tr>\n",
              "      <th>29</th>\n",
              "      <td>0.000003</td>\n",
              "      <td>0.000003</td>\n",
              "    </tr>\n",
              "    <tr>\n",
              "      <th>30</th>\n",
              "      <td>0.000003</td>\n",
              "      <td>0.000004</td>\n",
              "    </tr>\n",
              "    <tr>\n",
              "      <th>31</th>\n",
              "      <td>0.000003</td>\n",
              "      <td>0.000003</td>\n",
              "    </tr>\n",
              "    <tr>\n",
              "      <th>32</th>\n",
              "      <td>0.000003</td>\n",
              "      <td>0.000003</td>\n",
              "    </tr>\n",
              "    <tr>\n",
              "      <th>33</th>\n",
              "      <td>0.000003</td>\n",
              "      <td>0.000003</td>\n",
              "    </tr>\n",
              "    <tr>\n",
              "      <th>34</th>\n",
              "      <td>0.000003</td>\n",
              "      <td>0.000003</td>\n",
              "    </tr>\n",
              "    <tr>\n",
              "      <th>35</th>\n",
              "      <td>0.000003</td>\n",
              "      <td>0.000003</td>\n",
              "    </tr>\n",
              "    <tr>\n",
              "      <th>36</th>\n",
              "      <td>0.000003</td>\n",
              "      <td>0.000003</td>\n",
              "    </tr>\n",
              "    <tr>\n",
              "      <th>37</th>\n",
              "      <td>0.000003</td>\n",
              "      <td>0.000003</td>\n",
              "    </tr>\n",
              "    <tr>\n",
              "      <th>38</th>\n",
              "      <td>0.000003</td>\n",
              "      <td>0.000003</td>\n",
              "    </tr>\n",
              "    <tr>\n",
              "      <th>39</th>\n",
              "      <td>0.000003</td>\n",
              "      <td>0.000003</td>\n",
              "    </tr>\n",
              "    <tr>\n",
              "      <th>40</th>\n",
              "      <td>0.000003</td>\n",
              "      <td>0.000003</td>\n",
              "    </tr>\n",
              "    <tr>\n",
              "      <th>41</th>\n",
              "      <td>0.000003</td>\n",
              "      <td>0.000003</td>\n",
              "    </tr>\n",
              "    <tr>\n",
              "      <th>42</th>\n",
              "      <td>0.000003</td>\n",
              "      <td>0.000003</td>\n",
              "    </tr>\n",
              "    <tr>\n",
              "      <th>43</th>\n",
              "      <td>0.000003</td>\n",
              "      <td>0.000003</td>\n",
              "    </tr>\n",
              "    <tr>\n",
              "      <th>44</th>\n",
              "      <td>0.000003</td>\n",
              "      <td>0.000003</td>\n",
              "    </tr>\n",
              "    <tr>\n",
              "      <th>45</th>\n",
              "      <td>0.000003</td>\n",
              "      <td>0.000003</td>\n",
              "    </tr>\n",
              "    <tr>\n",
              "      <th>46</th>\n",
              "      <td>0.000003</td>\n",
              "      <td>0.000003</td>\n",
              "    </tr>\n",
              "    <tr>\n",
              "      <th>47</th>\n",
              "      <td>0.000003</td>\n",
              "      <td>0.000003</td>\n",
              "    </tr>\n",
              "    <tr>\n",
              "      <th>48</th>\n",
              "      <td>0.000003</td>\n",
              "      <td>0.000003</td>\n",
              "    </tr>\n",
              "    <tr>\n",
              "      <th>49</th>\n",
              "      <td>0.000003</td>\n",
              "      <td>0.000003</td>\n",
              "    </tr>\n",
              "  </tbody>\n",
              "</table>\n",
              "</div>\n",
              "      <button class=\"colab-df-convert\" onclick=\"convertToInteractive('df-a97668d1-8e47-4faa-aba6-b3f5ac4c2905')\"\n",
              "              title=\"Convert this dataframe to an interactive table.\"\n",
              "              style=\"display:none;\">\n",
              "        \n",
              "  <svg xmlns=\"http://www.w3.org/2000/svg\" height=\"24px\"viewBox=\"0 0 24 24\"\n",
              "       width=\"24px\">\n",
              "    <path d=\"M0 0h24v24H0V0z\" fill=\"none\"/>\n",
              "    <path d=\"M18.56 5.44l.94 2.06.94-2.06 2.06-.94-2.06-.94-.94-2.06-.94 2.06-2.06.94zm-11 1L8.5 8.5l.94-2.06 2.06-.94-2.06-.94L8.5 2.5l-.94 2.06-2.06.94zm10 10l.94 2.06.94-2.06 2.06-.94-2.06-.94-.94-2.06-.94 2.06-2.06.94z\"/><path d=\"M17.41 7.96l-1.37-1.37c-.4-.4-.92-.59-1.43-.59-.52 0-1.04.2-1.43.59L10.3 9.45l-7.72 7.72c-.78.78-.78 2.05 0 2.83L4 21.41c.39.39.9.59 1.41.59.51 0 1.02-.2 1.41-.59l7.78-7.78 2.81-2.81c.8-.78.8-2.07 0-2.86zM5.41 20L4 18.59l7.72-7.72 1.47 1.35L5.41 20z\"/>\n",
              "  </svg>\n",
              "      </button>\n",
              "      \n",
              "  <style>\n",
              "    .colab-df-container {\n",
              "      display:flex;\n",
              "      flex-wrap:wrap;\n",
              "      gap: 12px;\n",
              "    }\n",
              "\n",
              "    .colab-df-convert {\n",
              "      background-color: #E8F0FE;\n",
              "      border: none;\n",
              "      border-radius: 50%;\n",
              "      cursor: pointer;\n",
              "      display: none;\n",
              "      fill: #1967D2;\n",
              "      height: 32px;\n",
              "      padding: 0 0 0 0;\n",
              "      width: 32px;\n",
              "    }\n",
              "\n",
              "    .colab-df-convert:hover {\n",
              "      background-color: #E2EBFA;\n",
              "      box-shadow: 0px 1px 2px rgba(60, 64, 67, 0.3), 0px 1px 3px 1px rgba(60, 64, 67, 0.15);\n",
              "      fill: #174EA6;\n",
              "    }\n",
              "\n",
              "    [theme=dark] .colab-df-convert {\n",
              "      background-color: #3B4455;\n",
              "      fill: #D2E3FC;\n",
              "    }\n",
              "\n",
              "    [theme=dark] .colab-df-convert:hover {\n",
              "      background-color: #434B5C;\n",
              "      box-shadow: 0px 1px 3px 1px rgba(0, 0, 0, 0.15);\n",
              "      filter: drop-shadow(0px 1px 2px rgba(0, 0, 0, 0.3));\n",
              "      fill: #FFFFFF;\n",
              "    }\n",
              "  </style>\n",
              "\n",
              "      <script>\n",
              "        const buttonEl =\n",
              "          document.querySelector('#df-a97668d1-8e47-4faa-aba6-b3f5ac4c2905 button.colab-df-convert');\n",
              "        buttonEl.style.display =\n",
              "          google.colab.kernel.accessAllowed ? 'block' : 'none';\n",
              "\n",
              "        async function convertToInteractive(key) {\n",
              "          const element = document.querySelector('#df-a97668d1-8e47-4faa-aba6-b3f5ac4c2905');\n",
              "          const dataTable =\n",
              "            await google.colab.kernel.invokeFunction('convertToInteractive',\n",
              "                                                     [key], {});\n",
              "          if (!dataTable) return;\n",
              "\n",
              "          const docLinkHtml = 'Like what you see? Visit the ' +\n",
              "            '<a target=\"_blank\" href=https://colab.research.google.com/notebooks/data_table.ipynb>data table notebook</a>'\n",
              "            + ' to learn more about interactive tables.';\n",
              "          element.innerHTML = '';\n",
              "          dataTable['output_type'] = 'display_data';\n",
              "          await google.colab.output.renderOutput(dataTable, element);\n",
              "          const docLink = document.createElement('div');\n",
              "          docLink.innerHTML = docLinkHtml;\n",
              "          element.appendChild(docLink);\n",
              "        }\n",
              "      </script>\n",
              "    </div>\n",
              "  </div>\n",
              "  "
            ]
          },
          "metadata": {},
          "execution_count": 249
        }
      ]
    },
    {
      "cell_type": "code",
      "source": [
        "# Plot Training Results\n",
        "history_func_df[['loss', 'val_loss']].plot()"
      ],
      "metadata": {
        "id": "wPcb-noD9rnU",
        "colab": {
          "base_uri": "https://localhost:8080/",
          "height": 447
        },
        "outputId": "1dd0435a-9399-4e12-a31d-e70562a47660"
      },
      "execution_count": null,
      "outputs": [
        {
          "output_type": "execute_result",
          "data": {
            "text/plain": [
              "<Axes: >"
            ]
          },
          "metadata": {},
          "execution_count": 250
        },
        {
          "output_type": "display_data",
          "data": {
            "text/plain": [
              "<Figure size 640x480 with 1 Axes>"
            ],
            "image/png": "[encoded data removed]"
          },
          "metadata": {}
        }
      ]
    },
    {
      "cell_type": "code",
      "source": [
        "# Evaluasi model pada data test\n",
        "test_loss = model_func.evaluate(X_test_windowed, y_test_windowed)\n",
        "print('Test loss (MSE):', test_loss)"
      ],
      "metadata": {
        "id": "6Miz3rNOAQLk",
        "colab": {
          "base_uri": "https://localhost:8080/"
        },
        "outputId": "4cbbcba4-6495-49fa-f5e5-a05fd2ce94ff"
      },
      "execution_count": null,
      "outputs": [
        {
          "output_type": "stream",
          "name": "stdout",
          "text": [
            "128/128 [==============================] - 0s 3ms/step - loss: 3.5517e-06\n",
            "Test loss (MSE): 3.5517116430128226e-06\n"
          ]
        }
      ]
    },
    {
      "cell_type": "markdown",
      "source": [
        "Pada epoch terakhir, model mencapai loss sebesar 3.551.691, model cukup baik, walaupun goodfit, tapi garisnya cenderung monoton walaupun tergolong goodfit"
      ],
      "metadata": {
        "id": "nV3Txhh_amRA"
      }
    },
    {
      "cell_type": "markdown",
      "source": [
        "# 9 - Model Improvement"
      ],
      "metadata": {
        "id": "8ELsfaIaAwr_"
      }
    },
    {
      "cell_type": "markdown",
      "source": [
        "## 9.1 - Sequential API"
      ],
      "metadata": {
        "id": "3_JDehQVG1QZ"
      }
    },
    {
      "cell_type": "code",
      "source": [
        "# create improvement sequential\n",
        "model_sequential = Sequential()\n",
        "model_sequential.add(LSTM(64, input_shape=(window_size, X_train_windowed.shape[2]), return_sequences=True))\n",
        "model_sequential.add(LSTM(32, return_sequences=True))\n",
        "model_sequential.add(LSTM(32))\n",
        "model_sequential.add(Dense(1))\n",
        "model_sequential.compile(optimizer='adam', loss='mse')\n",
        "model_sequential.summary()"
      ],
      "metadata": {
        "id": "kbyFLUdDAbIf",
        "colab": {
          "base_uri": "https://localhost:8080/"
        },
        "outputId": "52903403-9b30-442e-c165-df36bd78116a"
      },
      "execution_count": 31,
      "outputs": [
        {
          "output_type": "stream",
          "name": "stdout",
          "text": [
            "Model: \"sequential_121\"\n",
            "_________________________________________________________________\n",
            " Layer (type)                Output Shape              Param #   \n",
            "=================================================================\n",
            " lstm_363 (LSTM)             (None, 7, 64)             17408     \n",
            "                                                                 \n",
            " lstm_364 (LSTM)             (None, 7, 32)             12416     \n",
            "                                                                 \n",
            " lstm_365 (LSTM)             (None, 32)                8320      \n",
            "                                                                 \n",
            " dense_121 (Dense)           (None, 1)                 33        \n",
            "                                                                 \n",
            "=================================================================\n",
            "Total params: 38,177\n",
            "Trainable params: 38,177\n",
            "Non-trainable params: 0\n",
            "_________________________________________________________________\n"
          ]
        }
      ]
    },
    {
      "cell_type": "code",
      "source": [
        "# define early stopping criteria\n",
        "early_stop = EarlyStopping(monitor='val_loss', patience=10, verbose=1, mode='min')"
      ],
      "metadata": {
        "id": "8IeIJXcmB-G-"
      },
      "execution_count": 32,
      "outputs": []
    },
    {
      "cell_type": "code",
      "source": [
        "# train the model with early stopping\n",
        "history = model_sequential.fit(X_train_windowed, y_train_windowed, epochs=50, batch_size=32, validation_data=(X_val_windowed, y_val_windowed), callbacks=[early_stop])"
      ],
      "metadata": {
        "id": "YGdphQLRCAVw",
        "colab": {
          "base_uri": "https://localhost:8080/"
        },
        "outputId": "426a1cb8-c8aa-4d75-e5da-57d3dfa52854"
      },
      "execution_count": 33,
      "outputs": [
        {
          "output_type": "stream",
          "name": "stdout",
          "text": [
            "Epoch 1/50\n",
            "2553/2553 [==============================] - 25s 8ms/step - loss: 1.2104e-04 - val_loss: 3.5696e-06\n",
            "Epoch 2/50\n",
            "2553/2553 [==============================] - 18s 7ms/step - loss: 5.0089e-06 - val_loss: 3.4381e-06\n",
            "Epoch 3/50\n",
            "2553/2553 [==============================] - 20s 8ms/step - loss: 4.9861e-06 - val_loss: 3.4830e-06\n",
            "Epoch 4/50\n",
            "2553/2553 [==============================] - 19s 7ms/step - loss: 4.3755e-06 - val_loss: 4.5020e-06\n",
            "Epoch 5/50\n",
            "2553/2553 [==============================] - 19s 7ms/step - loss: 3.7915e-06 - val_loss: 4.2832e-06\n",
            "Epoch 6/50\n",
            "2553/2553 [==============================] - 19s 7ms/step - loss: 3.5939e-06 - val_loss: 3.4026e-06\n",
            "Epoch 7/50\n",
            "2553/2553 [==============================] - 19s 7ms/step - loss: 3.3865e-06 - val_loss: 3.5421e-06\n",
            "Epoch 8/50\n",
            "2553/2553 [==============================] - 19s 7ms/step - loss: 3.3392e-06 - val_loss: 3.3210e-06\n",
            "Epoch 9/50\n",
            "2553/2553 [==============================] - 19s 7ms/step - loss: 3.3151e-06 - val_loss: 3.4047e-06\n",
            "Epoch 10/50\n",
            "2553/2553 [==============================] - 19s 7ms/step - loss: 3.2815e-06 - val_loss: 3.5231e-06\n",
            "Epoch 11/50\n",
            "2553/2553 [==============================] - 19s 8ms/step - loss: 3.2734e-06 - val_loss: 3.5639e-06\n",
            "Epoch 12/50\n",
            "2553/2553 [==============================] - 19s 8ms/step - loss: 3.2494e-06 - val_loss: 3.3380e-06\n",
            "Epoch 13/50\n",
            "2553/2553 [==============================] - 19s 7ms/step - loss: 3.2444e-06 - val_loss: 3.2502e-06\n",
            "Epoch 14/50\n",
            "2553/2553 [==============================] - 19s 8ms/step - loss: 3.2368e-06 - val_loss: 3.3372e-06\n",
            "Epoch 15/50\n",
            "2553/2553 [==============================] - 19s 7ms/step - loss: 3.2293e-06 - val_loss: 3.2862e-06\n",
            "Epoch 16/50\n",
            "2553/2553 [==============================] - 19s 8ms/step - loss: 3.2256e-06 - val_loss: 3.3425e-06\n",
            "Epoch 17/50\n",
            "2553/2553 [==============================] - 18s 7ms/step - loss: 3.2198e-06 - val_loss: 3.2761e-06\n",
            "Epoch 18/50\n",
            "2553/2553 [==============================] - 19s 8ms/step - loss: 3.2177e-06 - val_loss: 3.6386e-06\n",
            "Epoch 19/50\n",
            "2553/2553 [==============================] - 18s 7ms/step - loss: 3.2215e-06 - val_loss: 3.3714e-06\n",
            "Epoch 20/50\n",
            "2553/2553 [==============================] - 19s 8ms/step - loss: 3.2104e-06 - val_loss: 3.2975e-06\n",
            "Epoch 21/50\n",
            "2553/2553 [==============================] - 19s 7ms/step - loss: 3.2121e-06 - val_loss: 3.3004e-06\n",
            "Epoch 22/50\n",
            "2553/2553 [==============================] - 19s 7ms/step - loss: 3.2041e-06 - val_loss: 3.2949e-06\n",
            "Epoch 23/50\n",
            "2553/2553 [==============================] - 19s 7ms/step - loss: 3.2103e-06 - val_loss: 3.2598e-06\n",
            "Epoch 23: early stopping\n"
          ]
        }
      ]
    },
    {
      "cell_type": "code",
      "source": [
        "# Create DataFrame\n",
        "history_sequen = pd.DataFrame(history.history)\n",
        "history_sequen"
      ],
      "metadata": {
        "id": "sqijiQFTCUuK",
        "colab": {
          "base_uri": "https://localhost:8080/",
          "height": 771
        },
        "outputId": "b061be96-b80c-41e3-848e-401d8e82871c"
      },
      "execution_count": 34,
      "outputs": [
        {
          "output_type": "execute_result",
          "data": {
            "text/plain": [
              "        loss  val_loss\n",
              "0   0.000121  0.000004\n",
              "1   0.000005  0.000003\n",
              "2   0.000005  0.000003\n",
              "3   0.000004  0.000005\n",
              "4   0.000004  0.000004\n",
              "5   0.000004  0.000003\n",
              "6   0.000003  0.000004\n",
              "7   0.000003  0.000003\n",
              "8   0.000003  0.000003\n",
              "9   0.000003  0.000004\n",
              "10  0.000003  0.000004\n",
              "11  0.000003  0.000003\n",
              "12  0.000003  0.000003\n",
              "13  0.000003  0.000003\n",
              "14  0.000003  0.000003\n",
              "15  0.000003  0.000003\n",
              "16  0.000003  0.000003\n",
              "17  0.000003  0.000004\n",
              "18  0.000003  0.000003\n",
              "19  0.000003  0.000003\n",
              "20  0.000003  0.000003\n",
              "21  0.000003  0.000003\n",
              "22  0.000003  0.000003"
            ],
            "text/html": [
              "\n",
              "  <div id=\"df-ffdd3dca-0431-4ad1-9a6a-bd4c079fe207\">\n",
              "    <div class=\"colab-df-container\">\n",
              "      <div>\n",
              "<style scoped>\n",
              "    .dataframe tbody tr th:only-of-type {\n",
              "        vertical-align: middle;\n",
              "    }\n",
              "\n",
              "    .dataframe tbody tr th {\n",
              "        vertical-align: top;\n",
              "    }\n",
              "\n",
              "    .dataframe thead th {\n",
              "        text-align: right;\n",
              "    }\n",
              "</style>\n",
              "<table border=\"1\" class=\"dataframe\">\n",
              "  <thead>\n",
              "    <tr style=\"text-align: right;\">\n",
              "      <th></th>\n",
              "      <th>loss</th>\n",
              "      <th>val_loss</th>\n",
              "    </tr>\n",
              "  </thead>\n",
              "  <tbody>\n",
              "    <tr>\n",
              "      <th>0</th>\n",
              "      <td>0.000121</td>\n",
              "      <td>0.000004</td>\n",
              "    </tr>\n",
              "    <tr>\n",
              "      <th>1</th>\n",
              "      <td>0.000005</td>\n",
              "      <td>0.000003</td>\n",
              "    </tr>\n",
              "    <tr>\n",
              "      <th>2</th>\n",
              "      <td>0.000005</td>\n",
              "      <td>0.000003</td>\n",
              "    </tr>\n",
              "    <tr>\n",
              "      <th>3</th>\n",
              "      <td>0.000004</td>\n",
              "      <td>0.000005</td>\n",
              "    </tr>\n",
              "    <tr>\n",
              "      <th>4</th>\n",
              "      <td>0.000004</td>\n",
              "      <td>0.000004</td>\n",
              "    </tr>\n",
              "    <tr>\n",
              "      <th>5</th>\n",
              "      <td>0.000004</td>\n",
              "      <td>0.000003</td>\n",
              "    </tr>\n",
              "    <tr>\n",
              "      <th>6</th>\n",
              "      <td>0.000003</td>\n",
              "      <td>0.000004</td>\n",
              "    </tr>\n",
              "    <tr>\n",
              "      <th>7</th>\n",
              "      <td>0.000003</td>\n",
              "      <td>0.000003</td>\n",
              "    </tr>\n",
              "    <tr>\n",
              "      <th>8</th>\n",
              "      <td>0.000003</td>\n",
              "      <td>0.000003</td>\n",
              "    </tr>\n",
              "    <tr>\n",
              "      <th>9</th>\n",
              "      <td>0.000003</td>\n",
              "      <td>0.000004</td>\n",
              "    </tr>\n",
              "    <tr>\n",
              "      <th>10</th>\n",
              "      <td>0.000003</td>\n",
              "      <td>0.000004</td>\n",
              "    </tr>\n",
              "    <tr>\n",
              "      <th>11</th>\n",
              "      <td>0.000003</td>\n",
              "      <td>0.000003</td>\n",
              "    </tr>\n",
              "    <tr>\n",
              "      <th>12</th>\n",
              "      <td>0.000003</td>\n",
              "      <td>0.000003</td>\n",
              "    </tr>\n",
              "    <tr>\n",
              "      <th>13</th>\n",
              "      <td>0.000003</td>\n",
              "      <td>0.000003</td>\n",
              "    </tr>\n",
              "    <tr>\n",
              "      <th>14</th>\n",
              "      <td>0.000003</td>\n",
              "      <td>0.000003</td>\n",
              "    </tr>\n",
              "    <tr>\n",
              "      <th>15</th>\n",
              "      <td>0.000003</td>\n",
              "      <td>0.000003</td>\n",
              "    </tr>\n",
              "    <tr>\n",
              "      <th>16</th>\n",
              "      <td>0.000003</td>\n",
              "      <td>0.000003</td>\n",
              "    </tr>\n",
              "    <tr>\n",
              "      <th>17</th>\n",
              "      <td>0.000003</td>\n",
              "      <td>0.000004</td>\n",
              "    </tr>\n",
              "    <tr>\n",
              "      <th>18</th>\n",
              "      <td>0.000003</td>\n",
              "      <td>0.000003</td>\n",
              "    </tr>\n",
              "    <tr>\n",
              "      <th>19</th>\n",
              "      <td>0.000003</td>\n",
              "      <td>0.000003</td>\n",
              "    </tr>\n",
              "    <tr>\n",
              "      <th>20</th>\n",
              "      <td>0.000003</td>\n",
              "      <td>0.000003</td>\n",
              "    </tr>\n",
              "    <tr>\n",
              "      <th>21</th>\n",
              "      <td>0.000003</td>\n",
              "      <td>0.000003</td>\n",
              "    </tr>\n",
              "    <tr>\n",
              "      <th>22</th>\n",
              "      <td>0.000003</td>\n",
              "      <td>0.000003</td>\n",
              "    </tr>\n",
              "  </tbody>\n",
              "</table>\n",
              "</div>\n",
              "      <button class=\"colab-df-convert\" onclick=\"convertToInteractive('df-ffdd3dca-0431-4ad1-9a6a-bd4c079fe207')\"\n",
              "              title=\"Convert this dataframe to an interactive table.\"\n",
              "              style=\"display:none;\">\n",
              "        \n",
              "  <svg xmlns=\"http://www.w3.org/2000/svg\" height=\"24px\"viewBox=\"0 0 24 24\"\n",
              "       width=\"24px\">\n",
              "    <path d=\"M0 0h24v24H0V0z\" fill=\"none\"/>\n",
              "    <path d=\"M18.56 5.44l.94 2.06.94-2.06 2.06-.94-2.06-.94-.94-2.06-.94 2.06-2.06.94zm-11 1L8.5 8.5l.94-2.06 2.06-.94-2.06-.94L8.5 2.5l-.94 2.06-2.06.94zm10 10l.94 2.06.94-2.06 2.06-.94-2.06-.94-.94-2.06-.94 2.06-2.06.94z\"/><path d=\"M17.41 7.96l-1.37-1.37c-.4-.4-.92-.59-1.43-.59-.52 0-1.04.2-1.43.59L10.3 9.45l-7.72 7.72c-.78.78-.78 2.05 0 2.83L4 21.41c.39.39.9.59 1.41.59.51 0 1.02-.2 1.41-.59l7.78-7.78 2.81-2.81c.8-.78.8-2.07 0-2.86zM5.41 20L4 18.59l7.72-7.72 1.47 1.35L5.41 20z\"/>\n",
              "  </svg>\n",
              "      </button>\n",
              "      \n",
              "  <style>\n",
              "    .colab-df-container {\n",
              "      display:flex;\n",
              "      flex-wrap:wrap;\n",
              "      gap: 12px;\n",
              "    }\n",
              "\n",
              "    .colab-df-convert {\n",
              "      background-color: #E8F0FE;\n",
              "      border: none;\n",
              "      border-radius: 50%;\n",
              "      cursor: pointer;\n",
              "      display: none;\n",
              "      fill: #1967D2;\n",
              "      height: 32px;\n",
              "      padding: 0 0 0 0;\n",
              "      width: 32px;\n",
              "    }\n",
              "\n",
              "    .colab-df-convert:hover {\n",
              "      background-color: #E2EBFA;\n",
              "      box-shadow: 0px 1px 2px rgba(60, 64, 67, 0.3), 0px 1px 3px 1px rgba(60, 64, 67, 0.15);\n",
              "      fill: #174EA6;\n",
              "    }\n",
              "\n",
              "    [theme=dark] .colab-df-convert {\n",
              "      background-color: #3B4455;\n",
              "      fill: #D2E3FC;\n",
              "    }\n",
              "\n",
              "    [theme=dark] .colab-df-convert:hover {\n",
              "      background-color: #434B5C;\n",
              "      box-shadow: 0px 1px 3px 1px rgba(0, 0, 0, 0.15);\n",
              "      filter: drop-shadow(0px 1px 2px rgba(0, 0, 0, 0.3));\n",
              "      fill: #FFFFFF;\n",
              "    }\n",
              "  </style>\n",
              "\n",
              "      <script>\n",
              "        const buttonEl =\n",
              "          document.querySelector('#df-ffdd3dca-0431-4ad1-9a6a-bd4c079fe207 button.colab-df-convert');\n",
              "        buttonEl.style.display =\n",
              "          google.colab.kernel.accessAllowed ? 'block' : 'none';\n",
              "\n",
              "        async function convertToInteractive(key) {\n",
              "          const element = document.querySelector('#df-ffdd3dca-0431-4ad1-9a6a-bd4c079fe207');\n",
              "          const dataTable =\n",
              "            await google.colab.kernel.invokeFunction('convertToInteractive',\n",
              "                                                     [key], {});\n",
              "          if (!dataTable) return;\n",
              "\n",
              "          const docLinkHtml = 'Like what you see? Visit the ' +\n",
              "            '<a target=\"_blank\" href=https://colab.research.google.com/notebooks/data_table.ipynb>data table notebook</a>'\n",
              "            + ' to learn more about interactive tables.';\n",
              "          element.innerHTML = '';\n",
              "          dataTable['output_type'] = 'display_data';\n",
              "          await google.colab.output.renderOutput(dataTable, element);\n",
              "          const docLink = document.createElement('div');\n",
              "          docLink.innerHTML = docLinkHtml;\n",
              "          element.appendChild(docLink);\n",
              "        }\n",
              "      </script>\n",
              "    </div>\n",
              "  </div>\n",
              "  "
            ]
          },
          "metadata": {},
          "execution_count": 34
        }
      ]
    },
    {
      "cell_type": "code",
      "source": [
        "# Plot Training Results\n",
        "history_sequen[['loss', 'val_loss']].plot()"
      ],
      "metadata": {
        "id": "MWVyWXBkDpzl",
        "colab": {
          "base_uri": "https://localhost:8080/",
          "height": 447
        },
        "outputId": "de2bc688-7b4e-4661-f032-e5ceb1b46a6e"
      },
      "execution_count": 35,
      "outputs": [
        {
          "output_type": "execute_result",
          "data": {
            "text/plain": [
              "<Axes: >"
            ]
          },
          "metadata": {},
          "execution_count": 35
        },
        {
          "output_type": "display_data",
          "data": {
            "text/plain": [
              "<Figure size 640x480 with 1 Axes>"
            ],
            "image/png": "[encoded data removed]"
          },
          "metadata": {}
        }
      ]
    },
    {
      "cell_type": "code",
      "source": [
        "# Evaluasi model pada data test\n",
        "test_loss = model_sequential.evaluate(X_test_windowed, y_test_windowed)\n",
        "print('Test loss (MSE):', test_loss)"
      ],
      "metadata": {
        "id": "HwJBlhTtDxS9",
        "colab": {
          "base_uri": "https://localhost:8080/"
        },
        "outputId": "f35aedc4-f5a5-4a4b-c978-404be691655f"
      },
      "execution_count": 36,
      "outputs": [
        {
          "output_type": "stream",
          "name": "stdout",
          "text": [
            "128/128 [==============================] - 0s 3ms/step - loss: 3.5470e-06\n",
            "Test loss (MSE): 3.547024562067236e-06\n"
          ]
        }
      ]
    },
    {
      "cell_type": "markdown",
      "source": [
        "terlihat bahwa model Sequential setelah dilakukan improvement berhasil mengurangi nilai MSE pada data test dari 5.100 menjadi 3.742. Hal ini menunjukkan bahwa model Sequential setelah dilakukan improvement memberikan hasil yang lebih baik dibandingkan dengan model Sequential awal. bisa dikategorikan goodfit"
      ],
      "metadata": {
        "id": "sqRDnynSONb9"
      }
    },
    {
      "cell_type": "markdown",
      "source": [
        "## 9.2 Functional API"
      ],
      "metadata": {
        "id": "J-aVllzUGu2t"
      }
    },
    {
      "cell_type": "code",
      "source": [
        "# create improvement functional\n",
        "inputs = Input(shape=(window_size, X_train_windowed.shape[2]))\n",
        "x = LSTM(64, return_sequences=True)(inputs)\n",
        "x = LSTM(32, return_sequences=True)(x)\n",
        "x = LSTM(16)(x)\n",
        "outputs = Dense(1)(x)\n",
        "\n",
        "model_functional = Model(inputs=inputs, outputs=outputs)\n",
        "model_functional.compile(optimizer='adam', loss='mse')\n",
        "model_functional.summary()"
      ],
      "metadata": {
        "id": "bOpfHsuaGtoj",
        "colab": {
          "base_uri": "https://localhost:8080/"
        },
        "outputId": "79dc4779-1cfc-48d1-8601-8c120fb733d9"
      },
      "execution_count": null,
      "outputs": [
        {
          "output_type": "stream",
          "name": "stdout",
          "text": [
            "Model: \"model\"\n",
            "_________________________________________________________________\n",
            " Layer (type)                Output Shape              Param #   \n",
            "=================================================================\n",
            " input_1 (InputLayer)        [(None, 7, 3)]            0         \n",
            "                                                                 \n",
            " lstm_3 (LSTM)               (None, 7, 64)             17408     \n",
            "                                                                 \n",
            " lstm_4 (LSTM)               (None, 7, 32)             12416     \n",
            "                                                                 \n",
            " lstm_5 (LSTM)               (None, 16)                3136      \n",
            "                                                                 \n",
            " dense_1 (Dense)             (None, 1)                 17        \n",
            "                                                                 \n",
            "=================================================================\n",
            "Total params: 32,977\n",
            "Trainable params: 32,977\n",
            "Non-trainable params: 0\n",
            "_________________________________________________________________\n"
          ]
        }
      ]
    },
    {
      "cell_type": "code",
      "source": [
        "# define early stopping\n",
        "early_stop = EarlyStopping(monitor='val_loss', patience=5, verbose=1)"
      ],
      "metadata": {
        "id": "pGgc4dtsJg50"
      },
      "execution_count": null,
      "outputs": []
    },
    {
      "cell_type": "code",
      "source": [
        "# train with early stop\n",
        "history_functional = model_functional.fit(X_train_windowed, y_train_windowed, epochs=50, batch_size=32, validation_data=(X_val_windowed, y_val_windowed), callbacks=[early_stop])"
      ],
      "metadata": {
        "id": "yLALJ1wYJra6",
        "colab": {
          "base_uri": "https://localhost:8080/"
        },
        "outputId": "3fd9b072-968b-4abc-cd35-86f7f49719fe"
      },
      "execution_count": null,
      "outputs": [
        {
          "output_type": "stream",
          "name": "stdout",
          "text": [
            "Epoch 1/50\n",
            "2553/2553 [==============================] - 25s 8ms/step - loss: 3.0760e-04 - val_loss: 3.7092e-06\n",
            "Epoch 2/50\n",
            "2553/2553 [==============================] - 19s 7ms/step - loss: 4.2060e-06 - val_loss: 3.9386e-06\n",
            "Epoch 3/50\n",
            "2553/2553 [==============================] - 20s 8ms/step - loss: 4.5268e-06 - val_loss: 3.9491e-06\n",
            "Epoch 4/50\n",
            "2553/2553 [==============================] - 19s 8ms/step - loss: 4.2723e-06 - val_loss: 3.4783e-06\n",
            "Epoch 5/50\n",
            "2553/2553 [==============================] - 18s 7ms/step - loss: 3.8631e-06 - val_loss: 3.4469e-06\n",
            "Epoch 6/50\n",
            "2553/2553 [==============================] - 19s 8ms/step - loss: 3.7265e-06 - val_loss: 3.7828e-06\n",
            "Epoch 7/50\n",
            "2553/2553 [==============================] - 19s 7ms/step - loss: 3.5454e-06 - val_loss: 4.5840e-06\n",
            "Epoch 8/50\n",
            "2553/2553 [==============================] - 19s 8ms/step - loss: 3.4706e-06 - val_loss: 3.9268e-06\n",
            "Epoch 9/50\n",
            "2553/2553 [==============================] - 19s 7ms/step - loss: 3.4196e-06 - val_loss: 3.3663e-06\n",
            "Epoch 10/50\n",
            "2553/2553 [==============================] - 19s 7ms/step - loss: 3.3577e-06 - val_loss: 3.3237e-06\n",
            "Epoch 11/50\n",
            "2553/2553 [==============================] - 18s 7ms/step - loss: 3.3175e-06 - val_loss: 3.3781e-06\n",
            "Epoch 12/50\n",
            "2553/2553 [==============================] - 19s 8ms/step - loss: 3.3014e-06 - val_loss: 3.3549e-06\n",
            "Epoch 13/50\n",
            "2553/2553 [==============================] - 19s 7ms/step - loss: 3.2824e-06 - val_loss: 3.2836e-06\n",
            "Epoch 14/50\n",
            "2553/2553 [==============================] - 19s 8ms/step - loss: 3.2578e-06 - val_loss: 3.3175e-06\n",
            "Epoch 15/50\n",
            "2553/2553 [==============================] - 18s 7ms/step - loss: 3.2265e-06 - val_loss: 3.3205e-06\n",
            "Epoch 16/50\n",
            "2553/2553 [==============================] - 19s 8ms/step - loss: 3.2269e-06 - val_loss: 3.3201e-06\n",
            "Epoch 17/50\n",
            "2553/2553 [==============================] - 19s 7ms/step - loss: 3.2111e-06 - val_loss: 3.2781e-06\n",
            "Epoch 18/50\n",
            "2553/2553 [==============================] - 20s 8ms/step - loss: 3.2137e-06 - val_loss: 3.3994e-06\n",
            "Epoch 19/50\n",
            "2553/2553 [==============================] - 19s 8ms/step - loss: 3.2056e-06 - val_loss: 3.2979e-06\n",
            "Epoch 20/50\n",
            "2553/2553 [==============================] - 18s 7ms/step - loss: 3.2220e-06 - val_loss: 3.4837e-06\n",
            "Epoch 21/50\n",
            "2553/2553 [==============================] - 19s 8ms/step - loss: 3.2131e-06 - val_loss: 3.4562e-06\n",
            "Epoch 22/50\n",
            "2553/2553 [==============================] - 18s 7ms/step - loss: 3.2129e-06 - val_loss: 3.2734e-06\n",
            "Epoch 23/50\n",
            "2553/2553 [==============================] - 19s 8ms/step - loss: 3.2124e-06 - val_loss: 3.3220e-06\n",
            "Epoch 24/50\n",
            "2553/2553 [==============================] - 18s 7ms/step - loss: 3.2070e-06 - val_loss: 3.4853e-06\n",
            "Epoch 25/50\n",
            "2553/2553 [==============================] - 19s 7ms/step - loss: 3.2070e-06 - val_loss: 3.3157e-06\n",
            "Epoch 26/50\n",
            "2553/2553 [==============================] - 18s 7ms/step - loss: 3.1998e-06 - val_loss: 3.3188e-06\n",
            "Epoch 27/50\n",
            "2553/2553 [==============================] - 19s 8ms/step - loss: 3.2085e-06 - val_loss: 3.2717e-06\n",
            "Epoch 28/50\n",
            "2553/2553 [==============================] - 19s 7ms/step - loss: 3.2077e-06 - val_loss: 3.5571e-06\n",
            "Epoch 29/50\n",
            "2553/2553 [==============================] - 19s 8ms/step - loss: 3.2000e-06 - val_loss: 3.2704e-06\n",
            "Epoch 30/50\n",
            "2553/2553 [==============================] - 19s 7ms/step - loss: 3.2022e-06 - val_loss: 3.2543e-06\n",
            "Epoch 31/50\n",
            "2553/2553 [==============================] - 20s 8ms/step - loss: 3.1980e-06 - val_loss: 3.3640e-06\n",
            "Epoch 32/50\n",
            "2553/2553 [==============================] - 19s 7ms/step - loss: 3.1918e-06 - val_loss: 3.2704e-06\n",
            "Epoch 33/50\n",
            "2553/2553 [==============================] - 21s 8ms/step - loss: 3.1900e-06 - val_loss: 3.3141e-06\n",
            "Epoch 34/50\n",
            "2553/2553 [==============================] - 21s 8ms/step - loss: 3.1847e-06 - val_loss: 3.3219e-06\n",
            "Epoch 35/50\n",
            "2553/2553 [==============================] - 19s 8ms/step - loss: 3.1878e-06 - val_loss: 3.3145e-06\n",
            "Epoch 35: early stopping\n"
          ]
        }
      ]
    },
    {
      "cell_type": "code",
      "source": [
        "# Create DataFrame\n",
        "history_funct = pd.DataFrame(history_functional.history)\n",
        "history_funct"
      ],
      "metadata": {
        "id": "w91DPYovqCEN",
        "colab": {
          "base_uri": "https://localhost:8080/",
          "height": 1000
        },
        "outputId": "9fcffa60-0599-49d2-a085-7a4eebdc94a0"
      },
      "execution_count": null,
      "outputs": [
        {
          "output_type": "execute_result",
          "data": {
            "text/plain": [
              "        loss  val_loss\n",
              "0   0.000308  0.000004\n",
              "1   0.000004  0.000004\n",
              "2   0.000005  0.000004\n",
              "3   0.000004  0.000003\n",
              "4   0.000004  0.000003\n",
              "5   0.000004  0.000004\n",
              "6   0.000004  0.000005\n",
              "7   0.000003  0.000004\n",
              "8   0.000003  0.000003\n",
              "9   0.000003  0.000003\n",
              "10  0.000003  0.000003\n",
              "11  0.000003  0.000003\n",
              "12  0.000003  0.000003\n",
              "13  0.000003  0.000003\n",
              "14  0.000003  0.000003\n",
              "15  0.000003  0.000003\n",
              "16  0.000003  0.000003\n",
              "17  0.000003  0.000003\n",
              "18  0.000003  0.000003\n",
              "19  0.000003  0.000003\n",
              "20  0.000003  0.000003\n",
              "21  0.000003  0.000003\n",
              "22  0.000003  0.000003\n",
              "23  0.000003  0.000003\n",
              "24  0.000003  0.000003\n",
              "25  0.000003  0.000003\n",
              "26  0.000003  0.000003\n",
              "27  0.000003  0.000004\n",
              "28  0.000003  0.000003\n",
              "29  0.000003  0.000003\n",
              "30  0.000003  0.000003\n",
              "31  0.000003  0.000003\n",
              "32  0.000003  0.000003\n",
              "33  0.000003  0.000003\n",
              "34  0.000003  0.000003"
            ],
            "text/html": [
              "\n",
              "  <div id=\"df-e89d002f-b5c3-4dec-8a77-fc5c63d47730\">\n",
              "    <div class=\"colab-df-container\">\n",
              "      <div>\n",
              "<style scoped>\n",
              "    .dataframe tbody tr th:only-of-type {\n",
              "        vertical-align: middle;\n",
              "    }\n",
              "\n",
              "    .dataframe tbody tr th {\n",
              "        vertical-align: top;\n",
              "    }\n",
              "\n",
              "    .dataframe thead th {\n",
              "        text-align: right;\n",
              "    }\n",
              "</style>\n",
              "<table border=\"1\" class=\"dataframe\">\n",
              "  <thead>\n",
              "    <tr style=\"text-align: right;\">\n",
              "      <th></th>\n",
              "      <th>loss</th>\n",
              "      <th>val_loss</th>\n",
              "    </tr>\n",
              "  </thead>\n",
              "  <tbody>\n",
              "    <tr>\n",
              "      <th>0</th>\n",
              "      <td>0.000308</td>\n",
              "      <td>0.000004</td>\n",
              "    </tr>\n",
              "    <tr>\n",
              "      <th>1</th>\n",
              "      <td>0.000004</td>\n",
              "      <td>0.000004</td>\n",
              "    </tr>\n",
              "    <tr>\n",
              "      <th>2</th>\n",
              "      <td>0.000005</td>\n",
              "      <td>0.000004</td>\n",
              "    </tr>\n",
              "    <tr>\n",
              "      <th>3</th>\n",
              "      <td>0.000004</td>\n",
              "      <td>0.000003</td>\n",
              "    </tr>\n",
              "    <tr>\n",
              "      <th>4</th>\n",
              "      <td>0.000004</td>\n",
              "      <td>0.000003</td>\n",
              "    </tr>\n",
              "    <tr>\n",
              "      <th>5</th>\n",
              "      <td>0.000004</td>\n",
              "      <td>0.000004</td>\n",
              "    </tr>\n",
              "    <tr>\n",
              "      <th>6</th>\n",
              "      <td>0.000004</td>\n",
              "      <td>0.000005</td>\n",
              "    </tr>\n",
              "    <tr>\n",
              "      <th>7</th>\n",
              "      <td>0.000003</td>\n",
              "      <td>0.000004</td>\n",
              "    </tr>\n",
              "    <tr>\n",
              "      <th>8</th>\n",
              "      <td>0.000003</td>\n",
              "      <td>0.000003</td>\n",
              "    </tr>\n",
              "    <tr>\n",
              "      <th>9</th>\n",
              "      <td>0.000003</td>\n",
              "      <td>0.000003</td>\n",
              "    </tr>\n",
              "    <tr>\n",
              "      <th>10</th>\n",
              "      <td>0.000003</td>\n",
              "      <td>0.000003</td>\n",
              "    </tr>\n",
              "    <tr>\n",
              "      <th>11</th>\n",
              "      <td>0.000003</td>\n",
              "      <td>0.000003</td>\n",
              "    </tr>\n",
              "    <tr>\n",
              "      <th>12</th>\n",
              "      <td>0.000003</td>\n",
              "      <td>0.000003</td>\n",
              "    </tr>\n",
              "    <tr>\n",
              "      <th>13</th>\n",
              "      <td>0.000003</td>\n",
              "      <td>0.000003</td>\n",
              "    </tr>\n",
              "    <tr>\n",
              "      <th>14</th>\n",
              "      <td>0.000003</td>\n",
              "      <td>0.000003</td>\n",
              "    </tr>\n",
              "    <tr>\n",
              "      <th>15</th>\n",
              "      <td>0.000003</td>\n",
              "      <td>0.000003</td>\n",
              "    </tr>\n",
              "    <tr>\n",
              "      <th>16</th>\n",
              "      <td>0.000003</td>\n",
              "      <td>0.000003</td>\n",
              "    </tr>\n",
              "    <tr>\n",
              "      <th>17</th>\n",
              "      <td>0.000003</td>\n",
              "      <td>0.000003</td>\n",
              "    </tr>\n",
              "    <tr>\n",
              "      <th>18</th>\n",
              "      <td>0.000003</td>\n",
              "      <td>0.000003</td>\n",
              "    </tr>\n",
              "    <tr>\n",
              "      <th>19</th>\n",
              "      <td>0.000003</td>\n",
              "      <td>0.000003</td>\n",
              "    </tr>\n",
              "    <tr>\n",
              "      <th>20</th>\n",
              "      <td>0.000003</td>\n",
              "      <td>0.000003</td>\n",
              "    </tr>\n",
              "    <tr>\n",
              "      <th>21</th>\n",
              "      <td>0.000003</td>\n",
              "      <td>0.000003</td>\n",
              "    </tr>\n",
              "    <tr>\n",
              "      <th>22</th>\n",
              "      <td>0.000003</td>\n",
              "      <td>0.000003</td>\n",
              "    </tr>\n",
              "    <tr>\n",
              "      <th>23</th>\n",
              "      <td>0.000003</td>\n",
              "      <td>0.000003</td>\n",
              "    </tr>\n",
              "    <tr>\n",
              "      <th>24</th>\n",
              "      <td>0.000003</td>\n",
              "      <td>0.000003</td>\n",
              "    </tr>\n",
              "    <tr>\n",
              "      <th>25</th>\n",
              "      <td>0.000003</td>\n",
              "      <td>0.000003</td>\n",
              "    </tr>\n",
              "    <tr>\n",
              "      <th>26</th>\n",
              "      <td>0.000003</td>\n",
              "      <td>0.000003</td>\n",
              "    </tr>\n",
              "    <tr>\n",
              "      <th>27</th>\n",
              "      <td>0.000003</td>\n",
              "      <td>0.000004</td>\n",
              "    </tr>\n",
              "    <tr>\n",
              "      <th>28</th>\n",
              "      <td>0.000003</td>\n",
              "      <td>0.000003</td>\n",
              "    </tr>\n",
              "    <tr>\n",
              "      <th>29</th>\n",
              "      <td>0.000003</td>\n",
              "      <td>0.000003</td>\n",
              "    </tr>\n",
              "    <tr>\n",
              "      <th>30</th>\n",
              "      <td>0.000003</td>\n",
              "      <td>0.000003</td>\n",
              "    </tr>\n",
              "    <tr>\n",
              "      <th>31</th>\n",
              "      <td>0.000003</td>\n",
              "      <td>0.000003</td>\n",
              "    </tr>\n",
              "    <tr>\n",
              "      <th>32</th>\n",
              "      <td>0.000003</td>\n",
              "      <td>0.000003</td>\n",
              "    </tr>\n",
              "    <tr>\n",
              "      <th>33</th>\n",
              "      <td>0.000003</td>\n",
              "      <td>0.000003</td>\n",
              "    </tr>\n",
              "    <tr>\n",
              "      <th>34</th>\n",
              "      <td>0.000003</td>\n",
              "      <td>0.000003</td>\n",
              "    </tr>\n",
              "  </tbody>\n",
              "</table>\n",
              "</div>\n",
              "      <button class=\"colab-df-convert\" onclick=\"convertToInteractive('df-e89d002f-b5c3-4dec-8a77-fc5c63d47730')\"\n",
              "              title=\"Convert this dataframe to an interactive table.\"\n",
              "              style=\"display:none;\">\n",
              "        \n",
              "  <svg xmlns=\"http://www.w3.org/2000/svg\" height=\"24px\"viewBox=\"0 0 24 24\"\n",
              "       width=\"24px\">\n",
              "    <path d=\"M0 0h24v24H0V0z\" fill=\"none\"/>\n",
              "    <path d=\"M18.56 5.44l.94 2.06.94-2.06 2.06-.94-2.06-.94-.94-2.06-.94 2.06-2.06.94zm-11 1L8.5 8.5l.94-2.06 2.06-.94-2.06-.94L8.5 2.5l-.94 2.06-2.06.94zm10 10l.94 2.06.94-2.06 2.06-.94-2.06-.94-.94-2.06-.94 2.06-2.06.94z\"/><path d=\"M17.41 7.96l-1.37-1.37c-.4-.4-.92-.59-1.43-.59-.52 0-1.04.2-1.43.59L10.3 9.45l-7.72 7.72c-.78.78-.78 2.05 0 2.83L4 21.41c.39.39.9.59 1.41.59.51 0 1.02-.2 1.41-.59l7.78-7.78 2.81-2.81c.8-.78.8-2.07 0-2.86zM5.41 20L4 18.59l7.72-7.72 1.47 1.35L5.41 20z\"/>\n",
              "  </svg>\n",
              "      </button>\n",
              "      \n",
              "  <style>\n",
              "    .colab-df-container {\n",
              "      display:flex;\n",
              "      flex-wrap:wrap;\n",
              "      gap: 12px;\n",
              "    }\n",
              "\n",
              "    .colab-df-convert {\n",
              "      background-color: #E8F0FE;\n",
              "      border: none;\n",
              "      border-radius: 50%;\n",
              "      cursor: pointer;\n",
              "      display: none;\n",
              "      fill: #1967D2;\n",
              "      height: 32px;\n",
              "      padding: 0 0 0 0;\n",
              "      width: 32px;\n",
              "    }\n",
              "\n",
              "    .colab-df-convert:hover {\n",
              "      background-color: #E2EBFA;\n",
              "      box-shadow: 0px 1px 2px rgba(60, 64, 67, 0.3), 0px 1px 3px 1px rgba(60, 64, 67, 0.15);\n",
              "      fill: #174EA6;\n",
              "    }\n",
              "\n",
              "    [theme=dark] .colab-df-convert {\n",
              "      background-color: #3B4455;\n",
              "      fill: #D2E3FC;\n",
              "    }\n",
              "\n",
              "    [theme=dark] .colab-df-convert:hover {\n",
              "      background-color: #434B5C;\n",
              "      box-shadow: 0px 1px 3px 1px rgba(0, 0, 0, 0.15);\n",
              "      filter: drop-shadow(0px 1px 2px rgba(0, 0, 0, 0.3));\n",
              "      fill: #FFFFFF;\n",
              "    }\n",
              "  </style>\n",
              "\n",
              "      <script>\n",
              "        const buttonEl =\n",
              "          document.querySelector('#df-e89d002f-b5c3-4dec-8a77-fc5c63d47730 button.colab-df-convert');\n",
              "        buttonEl.style.display =\n",
              "          google.colab.kernel.accessAllowed ? 'block' : 'none';\n",
              "\n",
              "        async function convertToInteractive(key) {\n",
              "          const element = document.querySelector('#df-e89d002f-b5c3-4dec-8a77-fc5c63d47730');\n",
              "          const dataTable =\n",
              "            await google.colab.kernel.invokeFunction('convertToInteractive',\n",
              "                                                     [key], {});\n",
              "          if (!dataTable) return;\n",
              "\n",
              "          const docLinkHtml = 'Like what you see? Visit the ' +\n",
              "            '<a target=\"_blank\" href=https://colab.research.google.com/notebooks/data_table.ipynb>data table notebook</a>'\n",
              "            + ' to learn more about interactive tables.';\n",
              "          element.innerHTML = '';\n",
              "          dataTable['output_type'] = 'display_data';\n",
              "          await google.colab.output.renderOutput(dataTable, element);\n",
              "          const docLink = document.createElement('div');\n",
              "          docLink.innerHTML = docLinkHtml;\n",
              "          element.appendChild(docLink);\n",
              "        }\n",
              "      </script>\n",
              "    </div>\n",
              "  </div>\n",
              "  "
            ]
          },
          "metadata": {},
          "execution_count": 37
        }
      ]
    },
    {
      "cell_type": "code",
      "source": [
        "# Plot Training Results\n",
        "history_funct[['loss', 'val_loss']].plot()"
      ],
      "metadata": {
        "id": "2SlyhNWsqD1M",
        "colab": {
          "base_uri": "https://localhost:8080/",
          "height": 447
        },
        "outputId": "b89731cb-d125-4ad8-f82a-7cceb8d4616d"
      },
      "execution_count": null,
      "outputs": [
        {
          "output_type": "execute_result",
          "data": {
            "text/plain": [
              "<Axes: >"
            ]
          },
          "metadata": {},
          "execution_count": 38
        },
        {
          "output_type": "display_data",
          "data": {
            "text/plain": [
              "<Figure size 640x480 with 1 Axes>"
            ],
            "image/png": "[encoded data removed]"
          },
          "metadata": {}
        }
      ]
    },
    {
      "cell_type": "code",
      "source": [
        "# Evaluasi model pada data test\n",
        "test_loss = model_functional.evaluate(X_test_windowed, y_test_windowed)\n",
        "print('Test loss (MSE):', test_loss)"
      ],
      "metadata": {
        "id": "02ZQzM5pqFEQ",
        "colab": {
          "base_uri": "https://localhost:8080/"
        },
        "outputId": "ca15caaa-16a1-4623-ab0f-a579ca6fdedb"
      },
      "execution_count": null,
      "outputs": [
        {
          "output_type": "stream",
          "name": "stdout",
          "text": [
            "128/128 [==============================] - 0s 3ms/step - loss: 3.6125e-06\n",
            "Test loss (MSE): 3.612530917962431e-06\n"
          ]
        }
      ]
    },
    {
      "cell_type": "markdown",
      "source": [
        "setelah dibandingkan dengan sebelum improvement, moddel functional sebelum improvement memiliki nilai score yg lebih kecil dari pada setelah improvement yaitu 3.551, dan walaupun dikategorikan goodtfit, tetapi polanya hanya garis lurus"
      ],
      "metadata": {
        "id": "-1CQZi41UglH"
      }
    },
    {
      "cell_type": "markdown",
      "source": [
        "setelah dibandingkan, model yg akan digunakan adalah model sequential"
      ],
      "metadata": {
        "id": "41mQFdFi9HTT"
      }
    },
    {
      "cell_type": "markdown",
      "source": [
        "# 11 - Model Saving"
      ],
      "metadata": {
        "id": "oZbxgh_dWiVb"
      }
    },
    {
      "cell_type": "code",
      "source": [
        "# Save Model\n",
        "\n",
        "with open('minmaxScaler.pkl', 'wb') as file_3:\n",
        "  pickle.dump(scaler, file_3)\n",
        "\n",
        "\n",
        "model_sequential.save('timeseries_model.h5')"
      ],
      "metadata": {
        "id": "e0FMpMj3qRau"
      },
      "execution_count": 37,
      "outputs": []
    },
    {
      "cell_type": "code",
      "source": [
        "# Summary of Model Sequential\n",
        "\n",
        "model_sequential.summary()"
      ],
      "metadata": {
        "id": "IeEGMHuTqRhl",
        "colab": {
          "base_uri": "https://localhost:8080/"
        },
        "outputId": "d19950e3-70e0-4299-e36c-75a9fdbbb8f8"
      },
      "execution_count": 38,
      "outputs": [
        {
          "output_type": "stream",
          "name": "stdout",
          "text": [
            "Model: \"sequential_121\"\n",
            "_________________________________________________________________\n",
            " Layer (type)                Output Shape              Param #   \n",
            "=================================================================\n",
            " lstm_363 (LSTM)             (None, 7, 64)             17408     \n",
            "                                                                 \n",
            " lstm_364 (LSTM)             (None, 7, 32)             12416     \n",
            "                                                                 \n",
            " lstm_365 (LSTM)             (None, 32)                8320      \n",
            "                                                                 \n",
            " dense_121 (Dense)           (None, 1)                 33        \n",
            "                                                                 \n",
            "=================================================================\n",
            "Total params: 38,177\n",
            "Trainable params: 38,177\n",
            "Non-trainable params: 0\n",
            "_________________________________________________________________\n"
          ]
        }
      ]
    },
    {
      "cell_type": "code",
      "source": [
        "# Freeze Model\n",
        "\n",
        "model_sequential.trainable = False\n",
        "model_sequential.summary()"
      ],
      "metadata": {
        "id": "0sN6aARHqRp6",
        "colab": {
          "base_uri": "https://localhost:8080/"
        },
        "outputId": "78b6254c-ccae-4c64-c572-98573a241fa0"
      },
      "execution_count": 39,
      "outputs": [
        {
          "output_type": "stream",
          "name": "stdout",
          "text": [
            "Model: \"sequential_121\"\n",
            "_________________________________________________________________\n",
            " Layer (type)                Output Shape              Param #   \n",
            "=================================================================\n",
            " lstm_363 (LSTM)             (None, 7, 64)             17408     \n",
            "                                                                 \n",
            " lstm_364 (LSTM)             (None, 7, 32)             12416     \n",
            "                                                                 \n",
            " lstm_365 (LSTM)             (None, 32)                8320      \n",
            "                                                                 \n",
            " dense_121 (Dense)           (None, 1)                 33        \n",
            "                                                                 \n",
            "=================================================================\n",
            "Total params: 38,177\n",
            "Trainable params: 0\n",
            "Non-trainable params: 38,177\n",
            "_________________________________________________________________\n"
          ]
        }
      ]
    }
  ],
  "metadata": {
    "accelerator": "GPU",
    "colab": {
      "provenance": [],
      "gpuType": "T4"
    },
    "gpuClass": "standard",
    "kernelspec": {
      "display_name": "Python 3 (ipykernel)",
      "language": "python",
      "name": "python3"
    },
    "language_info": {
      "codemirror_mode": {
        "name": "ipython",
        "version": 3
      },
      "file_extension": ".py",
      "mimetype": "text/x-python",
      "name": "python",
      "nbconvert_exporter": "python",
      "pygments_lexer": "ipython3",
      "version": "3.9.13"
    }
  },
  "nbformat": 4,
  "nbformat_minor": 0
}