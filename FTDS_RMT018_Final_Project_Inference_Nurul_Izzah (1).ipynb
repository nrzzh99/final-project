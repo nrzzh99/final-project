{
  "nbformat": 4,
  "nbformat_minor": 0,
  "metadata": {
    "colab": {
      "provenance": []
    },
    "kernelspec": {
      "name": "python3",
      "display_name": "Python 3"
    },
    "language_info": {
      "name": "python"
    },
    "gpuClass": "standard"
  },
  "cells": [
    {
      "cell_type": "markdown",
      "source": [
        "# Model Inference"
      ],
      "metadata": {
        "id": "HOmLtGB3XOUf"
      }
    },
    {
      "cell_type": "markdown",
      "source": [
        "## Import Libraries"
      ],
      "metadata": {
        "id": "4NF7EqeIXQ7e"
      }
    },
    {
      "cell_type": "code",
      "execution_count": 407,
      "metadata": {
        "id": "ZP4G8J2kXIXd"
      },
      "outputs": [],
      "source": [
        "import pandas as pd\n",
        "import numpy as np\n",
        "import tensorflow as tf\n",
        "import pickle\n",
        "import json\n",
        "\n",
        "from tensorflow.keras.models import load_model\n",
        "from sklearn.metrics import mean_squared_error, mean_absolute_error\n",
        "\n"
      ]
    },
    {
      "cell_type": "markdown",
      "source": [
        "## Load Model"
      ],
      "metadata": {
        "id": "-3o0sJ6YXhb4"
      }
    },
    {
      "cell_type": "code",
      "source": [
        "# Load data model\n",
        "with open('minmaxScaler (2).pkl', 'rb') as file_1:\n",
        "    scaler = pickle.load(file_1)\n",
        "\n",
        "model_timeseries = load_model('timeseries_model (2).h5')"
      ],
      "metadata": {
        "id": "vZZgv0xrXjNh"
      },
      "execution_count": 196,
      "outputs": []
    },
    {
      "cell_type": "markdown",
      "source": [
        "## Create new data"
      ],
      "metadata": {
        "id": "hZMK4eUHerEO"
      }
    },
    {
      "cell_type": "code",
      "source": [
        "# create data\n",
        "data_inf = {\n",
        "    'week_number': ['2023-14', '2023-14', '2023-14', '2023-14', '2023-14', '2023-14', '2023-14'],\n",
        "    'week_start_date': ['2023-04-03', '2023-04-03', '2023-04-03', '2023-04-03', '2023-04-03', '2023-04-03', '2023-04-03'],\n",
        "    'week_end_date': ['2023-04-09', '2023-04-09', '2023-04-09', '2023-04-09', '2023-04-09', '2023-04-09', '2023-04-09'], \n",
        "    'product_item': ['product_297', 'product_646', 'product_298', 'product_647', 'product_648', 'product_299', 'product_649'],\n",
        "    'quantity': [21872, 75, 436, 907, 81, 42920, 53],\n",
        "}\n",
        "\n",
        "data_inf = pd.DataFrame(data_inf)"
      ],
      "metadata": {
        "id": "_2d4X9y5XoCa"
      },
      "execution_count": 412,
      "outputs": []
    },
    {
      "cell_type": "code",
      "source": [
        "# Preprocessing data_inf\n",
        "data_inf['week_start_date'] = pd.to_datetime(data_inf['week_start_date'])\n",
        "data_inf['week_end_date'] = pd.to_datetime(data_inf['week_end_date'])"
      ],
      "metadata": {
        "id": "eRrYiS-FWt11"
      },
      "execution_count": 413,
      "outputs": []
    },
    {
      "cell_type": "code",
      "source": [
        "# menambahkan waktu 7 hari\n",
        "next_week_start_date = data_inf['week_start_date'] + pd.Timedelta(days=7)\n",
        "next_week_end_date = data_inf['week_end_date'] + pd.Timedelta(days=7)"
      ],
      "metadata": {
        "id": "ayYTHn6zWyTx"
      },
      "execution_count": 414,
      "outputs": []
    },
    {
      "cell_type": "code",
      "source": [
        "data_inf['week_start_date'] = pd.to_datetime(data_inf['week_start_date'])\n",
        "data_inf = data_inf.set_index('week_start_date')"
      ],
      "metadata": {
        "id": "xKAU-fsQbbnv"
      },
      "execution_count": 415,
      "outputs": []
    },
    {
      "cell_type": "code",
      "source": [
        "# konversi week_start_date dan week_end_date menjadi week_number\n",
        "next_week_number = next_week_start_date[0].week"
      ],
      "metadata": {
        "id": "bvoMLLzOW0P1"
      },
      "execution_count": 416,
      "outputs": []
    },
    {
      "cell_type": "code",
      "source": [
        "# hapus kolom week_number dari data_inf\n",
        "data_inf.drop(columns=['week_number'], inplace=True)"
      ],
      "metadata": {
        "id": "NlQYIMrRW18_"
      },
      "execution_count": 417,
      "outputs": []
    },
    {
      "cell_type": "code",
      "source": [
        "# tambahkan kolom week_number baru ke data_inf\n",
        "data_inf['week_number'] = next_week_number"
      ],
      "metadata": {
        "id": "gtv8gdyUW4Jp"
      },
      "execution_count": 418,
      "outputs": []
    },
    {
      "cell_type": "code",
      "source": [
        "data_inf"
      ],
      "metadata": {
        "colab": {
          "base_uri": "https://localhost:8080/",
          "height": 300
        },
        "id": "Z6ZIT48HoqOR",
        "outputId": "15339f0e-24f3-45b7-adb4-852d6acfa9b5"
      },
      "execution_count": 438,
      "outputs": [
        {
          "output_type": "execute_result",
          "data": {
            "text/plain": [
              "                week_end_date  product_item  quantity  week_number\n",
              "week_start_date                                                   \n",
              "2023-04-03         2023-04-09           297     21872           14\n",
              "2023-04-03         2023-04-09           646        75           14\n",
              "2023-04-03         2023-04-09           298       436           14\n",
              "2023-04-03         2023-04-09           647       907           14\n",
              "2023-04-03         2023-04-09           648        81           14\n",
              "2023-04-03         2023-04-09           299     42920           14\n",
              "2023-04-03         2023-04-09           649        53           14"
            ],
            "text/html": [
              "\n",
              "  <div id=\"df-cbbc4fa9-99bf-4cbd-afbb-de3f2e5644e9\">\n",
              "    <div class=\"colab-df-container\">\n",
              "      <div>\n",
              "<style scoped>\n",
              "    .dataframe tbody tr th:only-of-type {\n",
              "        vertical-align: middle;\n",
              "    }\n",
              "\n",
              "    .dataframe tbody tr th {\n",
              "        vertical-align: top;\n",
              "    }\n",
              "\n",
              "    .dataframe thead th {\n",
              "        text-align: right;\n",
              "    }\n",
              "</style>\n",
              "<table border=\"1\" class=\"dataframe\">\n",
              "  <thead>\n",
              "    <tr style=\"text-align: right;\">\n",
              "      <th></th>\n",
              "      <th>week_end_date</th>\n",
              "      <th>product_item</th>\n",
              "      <th>quantity</th>\n",
              "      <th>week_number</th>\n",
              "    </tr>\n",
              "    <tr>\n",
              "      <th>week_start_date</th>\n",
              "      <th></th>\n",
              "      <th></th>\n",
              "      <th></th>\n",
              "      <th></th>\n",
              "    </tr>\n",
              "  </thead>\n",
              "  <tbody>\n",
              "    <tr>\n",
              "      <th>2023-04-03</th>\n",
              "      <td>2023-04-09</td>\n",
              "      <td>297</td>\n",
              "      <td>21872</td>\n",
              "      <td>14</td>\n",
              "    </tr>\n",
              "    <tr>\n",
              "      <th>2023-04-03</th>\n",
              "      <td>2023-04-09</td>\n",
              "      <td>646</td>\n",
              "      <td>75</td>\n",
              "      <td>14</td>\n",
              "    </tr>\n",
              "    <tr>\n",
              "      <th>2023-04-03</th>\n",
              "      <td>2023-04-09</td>\n",
              "      <td>298</td>\n",
              "      <td>436</td>\n",
              "      <td>14</td>\n",
              "    </tr>\n",
              "    <tr>\n",
              "      <th>2023-04-03</th>\n",
              "      <td>2023-04-09</td>\n",
              "      <td>647</td>\n",
              "      <td>907</td>\n",
              "      <td>14</td>\n",
              "    </tr>\n",
              "    <tr>\n",
              "      <th>2023-04-03</th>\n",
              "      <td>2023-04-09</td>\n",
              "      <td>648</td>\n",
              "      <td>81</td>\n",
              "      <td>14</td>\n",
              "    </tr>\n",
              "    <tr>\n",
              "      <th>2023-04-03</th>\n",
              "      <td>2023-04-09</td>\n",
              "      <td>299</td>\n",
              "      <td>42920</td>\n",
              "      <td>14</td>\n",
              "    </tr>\n",
              "    <tr>\n",
              "      <th>2023-04-03</th>\n",
              "      <td>2023-04-09</td>\n",
              "      <td>649</td>\n",
              "      <td>53</td>\n",
              "      <td>14</td>\n",
              "    </tr>\n",
              "  </tbody>\n",
              "</table>\n",
              "</div>\n",
              "      <button class=\"colab-df-convert\" onclick=\"convertToInteractive('df-cbbc4fa9-99bf-4cbd-afbb-de3f2e5644e9')\"\n",
              "              title=\"Convert this dataframe to an interactive table.\"\n",
              "              style=\"display:none;\">\n",
              "        \n",
              "  <svg xmlns=\"http://www.w3.org/2000/svg\" height=\"24px\"viewBox=\"0 0 24 24\"\n",
              "       width=\"24px\">\n",
              "    <path d=\"M0 0h24v24H0V0z\" fill=\"none\"/>\n",
              "    <path d=\"M18.56 5.44l.94 2.06.94-2.06 2.06-.94-2.06-.94-.94-2.06-.94 2.06-2.06.94zm-11 1L8.5 8.5l.94-2.06 2.06-.94-2.06-.94L8.5 2.5l-.94 2.06-2.06.94zm10 10l.94 2.06.94-2.06 2.06-.94-2.06-.94-.94-2.06-.94 2.06-2.06.94z\"/><path d=\"M17.41 7.96l-1.37-1.37c-.4-.4-.92-.59-1.43-.59-.52 0-1.04.2-1.43.59L10.3 9.45l-7.72 7.72c-.78.78-.78 2.05 0 2.83L4 21.41c.39.39.9.59 1.41.59.51 0 1.02-.2 1.41-.59l7.78-7.78 2.81-2.81c.8-.78.8-2.07 0-2.86zM5.41 20L4 18.59l7.72-7.72 1.47 1.35L5.41 20z\"/>\n",
              "  </svg>\n",
              "      </button>\n",
              "      \n",
              "  <style>\n",
              "    .colab-df-container {\n",
              "      display:flex;\n",
              "      flex-wrap:wrap;\n",
              "      gap: 12px;\n",
              "    }\n",
              "\n",
              "    .colab-df-convert {\n",
              "      background-color: #E8F0FE;\n",
              "      border: none;\n",
              "      border-radius: 50%;\n",
              "      cursor: pointer;\n",
              "      display: none;\n",
              "      fill: #1967D2;\n",
              "      height: 32px;\n",
              "      padding: 0 0 0 0;\n",
              "      width: 32px;\n",
              "    }\n",
              "\n",
              "    .colab-df-convert:hover {\n",
              "      background-color: #E2EBFA;\n",
              "      box-shadow: 0px 1px 2px rgba(60, 64, 67, 0.3), 0px 1px 3px 1px rgba(60, 64, 67, 0.15);\n",
              "      fill: #174EA6;\n",
              "    }\n",
              "\n",
              "    [theme=dark] .colab-df-convert {\n",
              "      background-color: #3B4455;\n",
              "      fill: #D2E3FC;\n",
              "    }\n",
              "\n",
              "    [theme=dark] .colab-df-convert:hover {\n",
              "      background-color: #434B5C;\n",
              "      box-shadow: 0px 1px 3px 1px rgba(0, 0, 0, 0.15);\n",
              "      filter: drop-shadow(0px 1px 2px rgba(0, 0, 0, 0.3));\n",
              "      fill: #FFFFFF;\n",
              "    }\n",
              "  </style>\n",
              "\n",
              "      <script>\n",
              "        const buttonEl =\n",
              "          document.querySelector('#df-cbbc4fa9-99bf-4cbd-afbb-de3f2e5644e9 button.colab-df-convert');\n",
              "        buttonEl.style.display =\n",
              "          google.colab.kernel.accessAllowed ? 'block' : 'none';\n",
              "\n",
              "        async function convertToInteractive(key) {\n",
              "          const element = document.querySelector('#df-cbbc4fa9-99bf-4cbd-afbb-de3f2e5644e9');\n",
              "          const dataTable =\n",
              "            await google.colab.kernel.invokeFunction('convertToInteractive',\n",
              "                                                     [key], {});\n",
              "          if (!dataTable) return;\n",
              "\n",
              "          const docLinkHtml = 'Like what you see? Visit the ' +\n",
              "            '<a target=\"_blank\" href=https://colab.research.google.com/notebooks/data_table.ipynb>data table notebook</a>'\n",
              "            + ' to learn more about interactive tables.';\n",
              "          element.innerHTML = '';\n",
              "          dataTable['output_type'] = 'display_data';\n",
              "          await google.colab.output.renderOutput(dataTable, element);\n",
              "          const docLink = document.createElement('div');\n",
              "          docLink.innerHTML = docLinkHtml;\n",
              "          element.appendChild(docLink);\n",
              "        }\n",
              "      </script>\n",
              "    </div>\n",
              "  </div>\n",
              "  "
            ]
          },
          "metadata": {},
          "execution_count": 438
        }
      ]
    },
    {
      "cell_type": "code",
      "source": [
        "# Menghapus 'product_' dari setiap nilai dalam kolom product_item\n",
        "data_inf['product_item'] = data_inf['product_item'].str.replace('product_', '') \n",
        "data_inf['product_item'] = data_inf['product_item'].astype(int)"
      ],
      "metadata": {
        "id": "jSlvKlAGMlOj"
      },
      "execution_count": 419,
      "outputs": []
    },
    {
      "cell_type": "code",
      "source": [
        "# buat input window dari data_inf\n",
        "window_size = 7\n",
        "X_inf = data_inf[['week_number', 'product_item', 'quantity']].values\n",
        "X_inf_windowed = X_inf.reshape(1, window_size, X_inf.shape[1])\n",
        "X_inf_windowed = X_inf_windowed.astype('float32')"
      ],
      "metadata": {
        "id": "89-fewr8W7dr"
      },
      "execution_count": 420,
      "outputs": []
    },
    {
      "cell_type": "code",
      "source": [
        "# Define input variables for LSTM\n",
        "X_inf = data_inf[['week_number', 'product_item', 'quantity']].values"
      ],
      "metadata": {
        "id": "0Yge1Z0rMofE"
      },
      "execution_count": 421,
      "outputs": []
    },
    {
      "cell_type": "code",
      "source": [
        "# prediksi 7 hari ke depan\n",
        "for i in range(7):\n",
        "    # Melakukan prediksi untuk minggu selanjutnya\n",
        "    y_pred = model_timeseries.predict(X_inf_windowed)\n",
        "    \n",
        "    # Menambahkan data prediksi ke dalam dataframe\n",
        "    next_week_start_date = next_week_start_date + pd.Timedelta(days=7)\n",
        "    next_week_end_date = next_week_end_date + pd.Timedelta(days=7)\n",
        "    next_week_end_date = next_week_start_date + pd.Timedelta(days=6)\n",
        "    next_week_start_date_str = next_week_start_date.strftime('%Y-%m-%d')\n",
        "    next_week_end_date_str = next_week_end_date.strftime('%Y-%m-%d')\n",
        "    new_row = [next_week_number, next_week_start_date_str, next_week_end_date_str, int(data_inf['product_item'].iloc[-1]), y_pred[0, -1]]\n",
        "    new_row = [next_week_end_date_str, int(data_inf['product_item'].iloc[-1]), y_pred[0, -1], next_week_number]\n",
        "    data_inf = data_inf.append(pd.DataFrame([new_row], columns=['week_end_date', 'product_item', 'quantity', 'week_number']).set_index('week_end_date'))\n",
        "\n",
        "\n",
        "    \n",
        "    # Memperbarui windowed input\n",
        "    X_inf = data_inf[['week_number', 'product_item', 'quantity']].values\n",
        "    X_inf_windowed = X_inf[-window_size:].reshape(1, window_size, X_inf.shape[1])\n"
      ],
      "metadata": {
        "colab": {
          "base_uri": "https://localhost:8080/"
        },
        "id": "3MhQToyiXBVV",
        "outputId": "a6964e81-17ee-4568-a295-c3d3328addb9"
      },
      "execution_count": 439,
      "outputs": [
        {
          "output_type": "stream",
          "name": "stdout",
          "text": [
            "1/1 [==============================] - 0s 81ms/step\n"
          ]
        },
        {
          "output_type": "stream",
          "name": "stderr",
          "text": [
            "/usr/local/lib/python3.9/dist-packages/tensorflow/python/data/ops/structured_function.py:254: UserWarning: Even though the `tf.config.experimental_run_functions_eagerly` option is set, this option does not apply to tf.data functions. To force eager execution of tf.data functions, please use `tf.data.experimental.enable_debug_mode()`.\n",
            "  warnings.warn(\n"
          ]
        },
        {
          "output_type": "stream",
          "name": "stdout",
          "text": [
            "1/1 [==============================] - 0s 67ms/step\n"
          ]
        },
        {
          "output_type": "stream",
          "name": "stderr",
          "text": [
            "<ipython-input-439-dda9c6880290>:14: FutureWarning: The frame.append method is deprecated and will be removed from pandas in a future version. Use pandas.concat instead.\n",
            "  data_inf = data_inf.append(pd.DataFrame([new_row], columns=['week_end_date', 'product_item', 'quantity', 'week_number']).set_index('week_end_date'))\n",
            "/usr/local/lib/python3.9/dist-packages/tensorflow/python/data/ops/structured_function.py:254: UserWarning: Even though the `tf.config.experimental_run_functions_eagerly` option is set, this option does not apply to tf.data functions. To force eager execution of tf.data functions, please use `tf.data.experimental.enable_debug_mode()`.\n",
            "  warnings.warn(\n",
            "<ipython-input-439-dda9c6880290>:14: FutureWarning: The frame.append method is deprecated and will be removed from pandas in a future version. Use pandas.concat instead.\n",
            "  data_inf = data_inf.append(pd.DataFrame([new_row], columns=['week_end_date', 'product_item', 'quantity', 'week_number']).set_index('week_end_date'))\n",
            "/usr/local/lib/python3.9/dist-packages/tensorflow/python/data/ops/structured_function.py:254: UserWarning: Even though the `tf.config.experimental_run_functions_eagerly` option is set, this option does not apply to tf.data functions. To force eager execution of tf.data functions, please use `tf.data.experimental.enable_debug_mode()`.\n",
            "  warnings.warn(\n"
          ]
        },
        {
          "output_type": "stream",
          "name": "stdout",
          "text": [
            "1/1 [==============================] - 0s 70ms/step\n",
            "1/1 [==============================] - 0s 66ms/step\n"
          ]
        },
        {
          "output_type": "stream",
          "name": "stderr",
          "text": [
            "<ipython-input-439-dda9c6880290>:14: FutureWarning: The frame.append method is deprecated and will be removed from pandas in a future version. Use pandas.concat instead.\n",
            "  data_inf = data_inf.append(pd.DataFrame([new_row], columns=['week_end_date', 'product_item', 'quantity', 'week_number']).set_index('week_end_date'))\n",
            "/usr/local/lib/python3.9/dist-packages/tensorflow/python/data/ops/structured_function.py:254: UserWarning: Even though the `tf.config.experimental_run_functions_eagerly` option is set, this option does not apply to tf.data functions. To force eager execution of tf.data functions, please use `tf.data.experimental.enable_debug_mode()`.\n",
            "  warnings.warn(\n",
            "<ipython-input-439-dda9c6880290>:14: FutureWarning: The frame.append method is deprecated and will be removed from pandas in a future version. Use pandas.concat instead.\n",
            "  data_inf = data_inf.append(pd.DataFrame([new_row], columns=['week_end_date', 'product_item', 'quantity', 'week_number']).set_index('week_end_date'))\n",
            "/usr/local/lib/python3.9/dist-packages/tensorflow/python/data/ops/structured_function.py:254: UserWarning: Even though the `tf.config.experimental_run_functions_eagerly` option is set, this option does not apply to tf.data functions. To force eager execution of tf.data functions, please use `tf.data.experimental.enable_debug_mode()`.\n",
            "  warnings.warn(\n"
          ]
        },
        {
          "output_type": "stream",
          "name": "stdout",
          "text": [
            "1/1 [==============================] - 0s 73ms/step\n",
            "1/1 [==============================] - 0s 68ms/step\n"
          ]
        },
        {
          "output_type": "stream",
          "name": "stderr",
          "text": [
            "<ipython-input-439-dda9c6880290>:14: FutureWarning: The frame.append method is deprecated and will be removed from pandas in a future version. Use pandas.concat instead.\n",
            "  data_inf = data_inf.append(pd.DataFrame([new_row], columns=['week_end_date', 'product_item', 'quantity', 'week_number']).set_index('week_end_date'))\n",
            "/usr/local/lib/python3.9/dist-packages/tensorflow/python/data/ops/structured_function.py:254: UserWarning: Even though the `tf.config.experimental_run_functions_eagerly` option is set, this option does not apply to tf.data functions. To force eager execution of tf.data functions, please use `tf.data.experimental.enable_debug_mode()`.\n",
            "  warnings.warn(\n",
            "<ipython-input-439-dda9c6880290>:14: FutureWarning: The frame.append method is deprecated and will be removed from pandas in a future version. Use pandas.concat instead.\n",
            "  data_inf = data_inf.append(pd.DataFrame([new_row], columns=['week_end_date', 'product_item', 'quantity', 'week_number']).set_index('week_end_date'))\n",
            "/usr/local/lib/python3.9/dist-packages/tensorflow/python/data/ops/structured_function.py:254: UserWarning: Even though the `tf.config.experimental_run_functions_eagerly` option is set, this option does not apply to tf.data functions. To force eager execution of tf.data functions, please use `tf.data.experimental.enable_debug_mode()`.\n",
            "  warnings.warn(\n"
          ]
        },
        {
          "output_type": "stream",
          "name": "stdout",
          "text": [
            "1/1 [==============================] - 0s 94ms/step\n"
          ]
        },
        {
          "output_type": "stream",
          "name": "stderr",
          "text": [
            "<ipython-input-439-dda9c6880290>:14: FutureWarning: The frame.append method is deprecated and will be removed from pandas in a future version. Use pandas.concat instead.\n",
            "  data_inf = data_inf.append(pd.DataFrame([new_row], columns=['week_end_date', 'product_item', 'quantity', 'week_number']).set_index('week_end_date'))\n"
          ]
        }
      ]
    },
    {
      "cell_type": "code",
      "source": [
        "# Define window size\n",
        "window_size = 7\n",
        "\n",
        "# Define function to create input windows\n",
        "def create_input_windows(X, y, window_size):\n",
        "    X_windowed = []\n",
        "    y_windowed = []\n",
        "    for i in range(window_size, len(X)):\n",
        "        X_windowed.append(X[i-window_size:i])\n",
        "        y_windowed.append(y[i-window_size:i+1])\n",
        "    return np.array(X_windowed), np.array(y_windowed)"
      ],
      "metadata": {
        "id": "MEIzyGnHqYUR"
      },
      "execution_count": 446,
      "outputs": []
    },
    {
      "cell_type": "code",
      "source": [
        "# Create input windows for inference\n",
        "X_inf_windowed, _ = create_input_windows(X_inf, np.zeros(X_inf.shape[0]), window_size=7)\n",
        "X_inf_windowed = X_inf_windowed.reshape(X_inf_windowed.shape[0], window_size, X_inf_windowed.shape[2])\n",
        "\n",
        "# Predict quantity for the next 7 days using the trained model\n",
        "y_inf_pred = model_timeseries.predict(X_inf_windowed)\n",
        "\n",
        "# Print the predicted quantities for the next 7 days\n",
        "print('Predicted quantities for the next 7 days:')\n",
        "print(y_inf_pred[:,-1])"
      ],
      "metadata": {
        "colab": {
          "base_uri": "https://localhost:8080/"
        },
        "id": "XrsbaiXjqBak",
        "outputId": "b55d3327-a317-4fe5-a85d-daa567bcd1a8"
      },
      "execution_count": 447,
      "outputs": [
        {
          "output_type": "stream",
          "name": "stdout",
          "text": [
            "1/1 [==============================] - 0s 77ms/step\n",
            "Predicted quantities for the next 7 days:\n",
            "[-0.00069542 -0.00300451 -0.00383235 -0.00159359  0.00023478  0.00066616\n",
            "  0.00079078]\n"
          ]
        }
      ]
    },
    {
      "cell_type": "markdown",
      "source": [
        "# Kesimpulan"
      ],
      "metadata": {
        "id": "acCSC4GcXo9w"
      }
    },
    {
      "cell_type": "markdown",
      "source": [
        "- penjualan tertinggi berada pada bulan september 2022, dan setelah itu berada di bulan juni 2022\n",
        "dibulan2 lainnya rata2 penjualan sama.\n",
        "\n",
        "- penjualan produk terbanyak sebesar 18206376 unit, penjualan ke 2 sebanyak 9122007 unit, dan untuk yg ke 3 sebanyak 6771207 unit\n",
        "\n",
        "- Terdapat 102733 transaksi yang tercatat pada data tersebut.\n",
        "\n",
        "- Rata-rata jumlah produk yang terjual per transaksi adalah 3191.56 unit, dengan standar deviasi sebesar 12074.63 unit.\n",
        "\n",
        "- Jumlah produk terjual minimal adalah 0 unit, sedangkan jumlah produk terjual maksimal mencapai 774732 unit.\n",
        "\n",
        "- Kuartil pertama (Q1) pada jumlah produk terjual adalah 75 unit, median (Q2) adalah 414 unit, dan kuartil ketiga (Q3) adalah 1890 unit.\n",
        "\n",
        "- Total jumlah produk yang terjual selama periode tersebut adalah 327878782 unit.\n",
        "\n",
        "- top produk terpopuler adalah product_1, product_30, product_33, product_34 dan product_35\n",
        "\n",
        "- dari masing2 produk terdapat pola penjualan yg berbeda2\n",
        "\n",
        "- pada saat model dilakukan improvement,model yg dipilih adalah model sequential, karena memiliki beragam pola dan masih tergolong goodfit\n",
        "\n",
        "- kelebihan dari model ini adalah, model ini dapat memprediksi 7 hari kedepan per product_item, namun, kelemahanya adalah, karena scrore MSEnya 3.7205 ada kemungkinan untuk salah prediksi, diperlukan improvisasi lagi agar score MSE nya lebih rendah"
      ],
      "metadata": {
        "id": "zDiuOWhAXq9Y"
      }
    }
  ]
}